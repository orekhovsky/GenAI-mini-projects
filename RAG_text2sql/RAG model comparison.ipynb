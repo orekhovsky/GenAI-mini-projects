{
  "nbformat": 4,
  "nbformat_minor": 0,
  "metadata": {
    "colab": {
      "provenance": [],
      "include_colab_link": true
    },
    "kernelspec": {
      "name": "python3",
      "display_name": "Python 3"
    },
    "language_info": {
      "name": "python"
    }
  },
  "cells": [
    {
      "cell_type": "markdown",
      "metadata": {
        "id": "view-in-github",
        "colab_type": "text"
      },
      "source": [
        "<a href=\"https://colab.research.google.com/github/orekhovsky/GenAI-mini-projects/blob/main/RAG_text2sql/RAG%20model%20comparison.ipynb\" target=\"_parent\"><img src=\"https://colab.research.google.com/assets/colab-badge.svg\" alt=\"Open In Colab\"/></a>"
      ]
    },
    {
      "cell_type": "markdown",
      "source": [
        "# Без векторной бд"
      ],
      "metadata": {
        "id": "KYhuJURewcYd"
      }
    },
    {
      "cell_type": "code",
      "source": [
        "pip install gigachat transformers rouge-score -q"
      ],
      "metadata": {
        "id": "5s4wCOof18Uv",
        "outputId": "f605b9ca-299a-482a-b32d-84db186acce9",
        "colab": {
          "base_uri": "https://localhost:8080/"
        }
      },
      "execution_count": null,
      "outputs": [
        {
          "output_type": "stream",
          "name": "stdout",
          "text": [
            "  Preparing metadata (setup.py) ... \u001b[?25l\u001b[?25hdone\n",
            "\u001b[2K   \u001b[90m━━━━━━━━━━━━━━━━━━━━━━━━━━━━━━━━━━━━━━━━\u001b[0m \u001b[32m65.1/65.1 kB\u001b[0m \u001b[31m1.7 MB/s\u001b[0m eta \u001b[36m0:00:00\u001b[0m\n",
            "\u001b[2K   \u001b[90m━━━━━━━━━━━━━━━━━━━━━━━━━━━━━━━━━━━━━━━━\u001b[0m \u001b[32m76.4/76.4 kB\u001b[0m \u001b[31m1.8 MB/s\u001b[0m eta \u001b[36m0:00:00\u001b[0m\n",
            "\u001b[?25h  Building wheel for rouge-score (setup.py) ... \u001b[?25l\u001b[?25hdone\n"
          ]
        }
      ]
    },
    {
      "cell_type": "code",
      "source": [
        "pip install -U langchain-community -q"
      ],
      "metadata": {
        "id": "boONLerW1ugn",
        "outputId": "3fedf904-2930-465e-a3d4-beef8ee417d1",
        "colab": {
          "base_uri": "https://localhost:8080/"
        }
      },
      "execution_count": null,
      "outputs": [
        {
          "output_type": "stream",
          "name": "stdout",
          "text": [
            "\u001b[2K   \u001b[90m━━━━━━━━━━━━━━━━━━━━━━━━━━━━━━━━━━━━━━━━\u001b[0m \u001b[32m2.5/2.5 MB\u001b[0m \u001b[31m14.7 MB/s\u001b[0m eta \u001b[36m0:00:00\u001b[0m\n",
            "\u001b[2K   \u001b[90m━━━━━━━━━━━━━━━━━━━━━━━━━━━━━━━━━━━━━━━━\u001b[0m \u001b[32m49.6/49.6 kB\u001b[0m \u001b[31m2.2 MB/s\u001b[0m eta \u001b[36m0:00:00\u001b[0m\n",
            "\u001b[?25h"
          ]
        }
      ]
    },
    {
      "cell_type": "code",
      "source": [
        "import pandas as pd\n",
        "import ast\n",
        "from langchain.chat_models.gigachat import GigaChat\n",
        "from google.colab import userdata\n",
        "import nltk\n",
        "from rouge_score import rouge_scorer\n",
        "from nltk.translate.bleu_score import sentence_bleu, SmoothingFunction\n",
        "from nltk.translate.meteor_score import meteor_score\n",
        "import requests\n",
        "import json\n",
        "import matplotlib.pyplot as plt\n",
        "import numpy as np"
      ],
      "metadata": {
        "id": "pz6xJBlw6x58"
      },
      "execution_count": null,
      "outputs": []
    },
    {
      "cell_type": "code",
      "source": [
        "df = pd.read_parquet(\"hf://datasets/rag-datasets/rag-mini-bioasq/data/passages.parquet/part.0.parquet\")\n",
        "df_test = pd.read_parquet(\"hf://datasets/rag-datasets/rag-mini-bioasq/data/test.parquet/part.0.parquet\")"
      ],
      "metadata": {
        "id": "LrN7_P7Bo0Hk",
        "outputId": "77de499b-3c0e-42d7-bdd1-697e6d0f4314",
        "colab": {
          "base_uri": "https://localhost:8080/"
        }
      },
      "execution_count": null,
      "outputs": [
        {
          "output_type": "stream",
          "name": "stderr",
          "text": [
            "/usr/local/lib/python3.11/dist-packages/huggingface_hub/utils/_auth.py:94: UserWarning: \n",
            "The secret `HF_TOKEN` does not exist in your Colab secrets.\n",
            "To authenticate with the Hugging Face Hub, create a token in your settings tab (https://huggingface.co/settings/tokens), set it as secret in your Google Colab and restart your session.\n",
            "You will be able to reuse this secret in all of your notebooks.\n",
            "Please note that authentication is recommended but still optional to access public models or datasets.\n",
            "  warnings.warn(\n"
          ]
        }
      ]
    },
    {
      "cell_type": "code",
      "source": [
        "df = pd.read_parquet(\"hf://datasets/rag-datasets/rag-mini-bioasq/data/passages.parquet/part.0.parquet\")\n",
        "df_test = pd.read_parquet(\"hf://datasets/rag-datasets/rag-mini-bioasq/data/test.parquet/part.0.parquet\")\n",
        "\n",
        "# Преобразование чтобы правильно считать строку со списком релевантных id из корпуса текстов\n",
        "df_test['relevant_passage_ids'] = df_test['relevant_passage_ids'].apply(ast.literal_eval)\n",
        "\n",
        "# Функция для извленения чанков и формирования контекста для подачи в llm\n",
        "def perform_retrieval(question, df, df_test):\n",
        "\n",
        "    matching_rows = df_test[df_test['question'] == question]\n",
        "    if matching_rows.empty:\n",
        "        raise ValueError(f\"Question '{question}' not found in df_test.\")\n",
        "\n",
        "    question_index = matching_rows.index[0]\n",
        "\n",
        "    # Получение релевантных чанков из корпуса текстов\n",
        "    relevant_passage_ids = df_test.loc[question_index, 'relevant_passage_ids']\n",
        "    relevant_passages = [df.loc[i, 'passage'] for i in relevant_passage_ids]\n",
        "\n",
        "    # Формируем контекст\n",
        "    context = \" \".join(relevant_passages)\n",
        "\n",
        "    return context\n"
      ],
      "metadata": {
        "id": "ruacqxUE6a1C"
      },
      "execution_count": null,
      "outputs": []
    },
    {
      "cell_type": "markdown",
      "source": [
        "## Оценка метрик"
      ],
      "metadata": {
        "id": "g8AyA5wt3Qis"
      }
    },
    {
      "cell_type": "code",
      "source": [
        "\n",
        "nltk.download('wordnet')\n",
        "nltk.download('omw-1.4')\n",
        "\n",
        "def add_model_metrics_to_dataframe(model_name, true_answer, response, metrics_df):\n",
        "    \"\"\"\n",
        "    Вычисляет метрики BLEU, METEOR и ROUGE для данной модели, а затем добавляет их в датафрейм.\n",
        "\n",
        "    Args:\n",
        "        model_name (str): Название модели.\n",
        "        true_answer (str): Истинный ответ.\n",
        "        response (str): Ответ модели.\n",
        "        metrics_df (pd.DataFrame): Датафрейм с метриками.\n",
        "\n",
        "    Returns:\n",
        "        pd.DataFrame: Обновленный датафрейм с добавленными метриками.\n",
        "    \"\"\"\n",
        "    # ROUGE\n",
        "    scorer = rouge_scorer.RougeScorer(['rouge1', 'rouge2', 'rougeL'], use_stemmer=True)\n",
        "    rouge_scores = scorer.score(true_answer, response)\n",
        "\n",
        "    # BLEU\n",
        "    true_tokens = true_answer.split()\n",
        "    response_tokens = response.split()\n",
        "    smooth_fn = SmoothingFunction().method1\n",
        "    bleu_score = sentence_bleu([true_tokens], response_tokens, smoothing_function=smooth_fn)\n",
        "\n",
        "    # METEOR\n",
        "    meteor = meteor_score([true_answer.split()], response.split())\n",
        "\n",
        "    # Создание строки с метриками\n",
        "    new_row = pd.DataFrame([{\n",
        "        \"Model\": model_name,\n",
        "        \"BLEU\": bleu_score,\n",
        "        \"METEOR\": meteor,\n",
        "        \"ROUGE-1\": rouge_scores['rouge1'].fmeasure,\n",
        "        \"ROUGE-2\": rouge_scores['rouge2'].fmeasure,\n",
        "        \"ROUGE-L\": rouge_scores['rougeL'].fmeasure\n",
        "    }])\n",
        "\n",
        "    # Добавление строки в датафрейм\n",
        "    metrics_df = pd.concat([metrics_df, new_row], ignore_index=True)\n",
        "\n",
        "    return metrics_df\n",
        "\n",
        "# Пример использования\n",
        "columns = [\"Model\", \"BLEU\", \"METEOR\", \"ROUGE-1\", \"ROUGE-2\", \"ROUGE-L\"]\n",
        "metrics_df = pd.DataFrame(columns=columns)\n",
        "true_answer = df_test['answer'][0]\n",
        "# # Пример данных\n",
        "# model_name = \"Llama 3.2-1b\"\n",
        "# true_answer = df_test['answer'][0]\n",
        "# response = \"Generated response by the model\"\n",
        "\n",
        "# # Обновление датафрейма\n",
        "# metrics_df = add_model_metrics_to_dataframe(model_name, true_answer, response, metrics_df)\n",
        "\n",
        "# # Просмотр датафрейма\n",
        "# print(metrics_df)\n"
      ],
      "metadata": {
        "id": "fkc0DYfA4z-l",
        "outputId": "e843faec-89b0-4693-d936-b5a2ccb9272c",
        "colab": {
          "base_uri": "https://localhost:8080/"
        }
      },
      "execution_count": null,
      "outputs": [
        {
          "output_type": "stream",
          "name": "stderr",
          "text": [
            "[nltk_data] Downloading package wordnet to /root/nltk_data...\n",
            "[nltk_data]   Package wordnet is already up-to-date!\n",
            "[nltk_data] Downloading package omw-1.4 to /root/nltk_data...\n",
            "[nltk_data]   Package omw-1.4 is already up-to-date!\n"
          ]
        }
      ]
    },
    {
      "cell_type": "markdown",
      "source": [
        "## Сравниваемые модели"
      ],
      "metadata": {
        "id": "syR6Xfg3Ftza"
      }
    },
    {
      "cell_type": "markdown",
      "source": [
        "### Гигачат"
      ],
      "metadata": {
        "id": "XlqBS7XX5-4M"
      }
    },
    {
      "cell_type": "code",
      "source": [
        "# Авторизация через токен\n",
        "auth = userdata.get('SBER_AUTH')\n",
        "\n",
        "# Инициализация модели GigaChat\n",
        "llm = GigaChat(\n",
        "    credentials=auth,\n",
        "    model='GigaChat:latest',\n",
        "    verify_ssl_certs=False,\n",
        "    profanity_check=False\n",
        ")\n",
        "\n",
        "# Пайплайн для RAG\n",
        "def perform_rag_pipeline(question, df, df_test, llm):\n",
        "    # Шаг 1: Извлекаем контекст из корпуса на основе вопроса\n",
        "    context = perform_retrieval(question, df, df_test)\n",
        "\n",
        "    # Шаг 2: Входные данные для модели\n",
        "    input_text = f\"\"\"\n",
        "    Answer the user's question.\n",
        "    Use only the information from the context. If the context does not contain enough information to answer the question, let the user know.\n",
        "    Context: {context}\n",
        "    Question: {question}\n",
        "    Answer:\"\"\"\n",
        "\n",
        "    # Шаг 3: Генерируем ответ\n",
        "    response = llm.predict(input_text)\n",
        "\n",
        "    return response\n",
        "\n",
        "# Пример вопроса\n",
        "q1 = 'Is Hirschsprung disease a mendelian or a multifactorial disorder?'\n",
        "\n",
        "response = perform_rag_pipeline(q1, df, df_test, llm)\n",
        "print(f\"Question: {q1}\")\n",
        "print(f\"Answer: {response}\")\n",
        "model_name = \"Gigachat\"\n",
        "metrics_df = add_model_metrics_to_dataframe(model_name, true_answer, response, metrics_df)\n"
      ],
      "metadata": {
        "id": "unREgCIj_svb",
        "outputId": "bc204c2f-c392-4276-daf0-199e68a045c5",
        "colab": {
          "base_uri": "https://localhost:8080/"
        }
      },
      "execution_count": null,
      "outputs": [
        {
          "output_type": "stream",
          "name": "stdout",
          "text": [
            "Question: Is Hirschsprung disease a mendelian or a multifactorial disorder?\n",
            "Answer: Hirschsprung disease (HSCR) is generally considered to be a **multifactorial** disorder rather than a Mendelian inherited disease. This means that it involves the combined effects of multiple genes and environmental factors, rather than being caused by mutations in a single gene. However, there are also syndromic forms of HSCR that follow Mendelian inheritance patterns, including autosomal dominant, recessive, and polygenic inheritance.\n",
            "\n",
            "The complexity of HSCR inheritance can be seen in the fact that both rare and common mutations contribute to the risk of the disease, often acting in combination with each other and with environmental factors. This complexity makes it challenging to define HSCR solely under a Mendelian model.\n"
          ]
        },
        {
          "output_type": "stream",
          "name": "stderr",
          "text": [
            "<ipython-input-30-874a1bcc5702>:41: FutureWarning: The behavior of DataFrame concatenation with empty or all-NA entries is deprecated. In a future version, this will no longer exclude empty or all-NA columns when determining the result dtypes. To retain the old behavior, exclude the relevant entries before the concat operation.\n",
            "  metrics_df = pd.concat([metrics_df, new_row], ignore_index=True)\n"
          ]
        }
      ]
    },
    {
      "cell_type": "code",
      "source": [
        "from rouge_score import rouge_scorer\n",
        "true_answer = df_test['answer'][0]\n",
        "\n",
        "scorer = rouge_scorer.RougeScorer(['rouge1', 'rouge2', 'rougeL'], use_stemmer=True)\n",
        "scores = scorer.score(true_answer, response)\n",
        "\n",
        "# Метрики (не очень, но по сути верно)\n",
        "print(\"ROUGE-1:\", scores['rouge1'])\n",
        "print(\"ROUGE-2:\", scores['rouge2'])\n",
        "print(\"ROUGE-L:\", scores['rougeL'])\n"
      ],
      "metadata": {
        "id": "TSrG5N_cASyM",
        "outputId": "56d653da-00b0-4799-9a15-329d1870a1ef",
        "colab": {
          "base_uri": "https://localhost:8080/"
        }
      },
      "execution_count": null,
      "outputs": [
        {
          "output_type": "stream",
          "name": "stdout",
          "text": [
            "ROUGE-1: Score(precision=0.26506024096385544, recall=0.36065573770491804, fmeasure=0.3055555555555556)\n",
            "ROUGE-2: Score(precision=0.06097560975609756, recall=0.08333333333333333, fmeasure=0.07042253521126761)\n",
            "ROUGE-L: Score(precision=0.10843373493975904, recall=0.14754098360655737, fmeasure=0.125)\n"
          ]
        }
      ]
    },
    {
      "cell_type": "markdown",
      "source": [
        "### gpt-4o-mini"
      ],
      "metadata": {
        "id": "V74oER7NC5CV"
      }
    },
    {
      "cell_type": "code",
      "source": [
        "response =\"Hirschsprung disease (HSCR) is a complex disorder with both Mendelian and multifactorial aspects. While some forms of the disease, particularly the syndromic and familial types, follow Mendelian inheritance patterns (autosomal dominant, recessive, and polygenic), the more common non-syndromic forms exhibit non-Mendelian inheritance with variable expression and incomplete penetrance. Genetic studies suggest that multiple loci and genetic interactions contribute to the disease, making it a multifactorial disorder.\"\n",
        "\n",
        "model_name = \"gpt-4o-mini\"\n",
        "metrics_df = add_model_metrics_to_dataframe(model_name, true_answer, response, metrics_df)"
      ],
      "metadata": {
        "id": "9BB6KF6rCN28"
      },
      "execution_count": null,
      "outputs": []
    },
    {
      "cell_type": "markdown",
      "source": [
        "### Llama 3.2 1B Instruct"
      ],
      "metadata": {
        "id": "SpM3954olr5V"
      }
    },
    {
      "cell_type": "code",
      "source": [
        "# Авторизация через OpenRouter\n",
        "OPENROUTER_API_KEY = userdata.get('OPEN_Router')\n",
        "\n",
        "# Функция для выполнения RAG с использованием модели Llama\n",
        "def perform_rag_pipeline(question, df, df_test, api_key):\n",
        "    # Шаг 1: Извлекаем контекст\n",
        "    context = perform_retrieval(question, df, df_test)\n",
        "\n",
        "    # Шаг 2: Подготовка данных для модели\n",
        "    input_data = {\n",
        "        \"model\": \"meta-llama/llama-3.2-1b-instruct\",\n",
        "        \"messages\": [\n",
        "            {\n",
        "                \"role\": \"user\",\n",
        "                \"content\": f\"\"\"\n",
        "                Answer the user's question.\n",
        "                Use only the information from the context. If the context does not contain enough information to answer the question, let the user know.\n",
        "                Context: {context}\n",
        "                Question: {question}\n",
        "                Answer:\"\"\"\n",
        "            }\n",
        "        ]\n",
        "    }\n",
        "\n",
        "    # Шаг 3: Отправка запроса к API\n",
        "    response = requests.post(\n",
        "        url=\"https://openrouter.ai/api/v1/chat/completions\",\n",
        "        headers={\n",
        "            \"Authorization\": f\"Bearer {api_key}\",\n",
        "            \"Content-Type\": \"application/json\",\n",
        "        },\n",
        "        data=json.dumps(input_data)\n",
        "    )\n",
        "\n",
        "    # Обработка ответа\n",
        "    if response.status_code == 200:\n",
        "        data = response.json()\n",
        "        model_reply = data.get('choices', [{}])[0].get('message', {}).get('content', 'No content found')\n",
        "        return model_reply\n",
        "    else:\n",
        "        raise RuntimeError(f\"API request failed with status {response.status_code}: {response.text}\")\n",
        "\n",
        "# Пример вопроса\n",
        "q1 = 'Is Hirschsprung disease a mendelian or a multifactorial disorder?'\n",
        "\n",
        "response = perform_rag_pipeline(q1, df, df_test, OPENROUTER_API_KEY)\n",
        "print(f\"Question: {q1}\")\n",
        "print(f\"Answer: {response}\")\n",
        "model_name = \"Llama 3.2 1B Instruct\"\n",
        "metrics_df = add_model_metrics_to_dataframe(model_name, true_answer, response, metrics_df)\n"
      ],
      "metadata": {
        "id": "zUhDf17GmYo_",
        "outputId": "579dbcee-611b-4b48-a6ed-ac4bf1f8975a",
        "colab": {
          "base_uri": "https://localhost:8080/"
        }
      },
      "execution_count": null,
      "outputs": [
        {
          "output_type": "stream",
          "name": "stdout",
          "text": [
            "Question: Is Hirschsprung disease a mendelian or a multifactorial disorder?\n",
            "Answer: According to the text, Hirschsprung disease is a multifactorial disorder. It is characterized by the absence of ganglion cells in the gastrointestinal tract, and its complex inheritance pattern is suggested by the involvement of multiple genetic loci, as well as the presence of modifier genes that can influence the phenotype. The text also mentions that HSCR has a \"non-mendelian inheritance pattern\", indicating that it is not solely caused by a single Mendelian gene.\n"
          ]
        }
      ]
    },
    {
      "cell_type": "markdown",
      "source": [
        "### \"deepseek/deepseek-chat\""
      ],
      "metadata": {
        "id": "3jQeezhO39_o"
      }
    },
    {
      "cell_type": "code",
      "source": [
        "# Авторизация через OpenRouter\n",
        "OPENROUTER_API_KEY = userdata.get('OPEN_Router')\n",
        "\n",
        "# Функция для выполнения RAG с использованием модели Llama\n",
        "def perform_rag_pipeline(question, df, df_test, api_key):\n",
        "    # Шаг 1: Извлекаем контекст\n",
        "    context = perform_retrieval(question, df, df_test)\n",
        "\n",
        "    # Шаг 2: Подготовка данных для модели\n",
        "    input_data = {\n",
        "        \"model\": \"deepseek/deepseek-chat\",\n",
        "        \"messages\": [\n",
        "            {\n",
        "                \"role\": \"user\",\n",
        "                \"content\": f\"\"\"\n",
        "                Answer the user's question.\n",
        "                Use only the information from the context. If the context does not contain enough information to answer the question, let the user know.\n",
        "                Context: {context}\n",
        "                Question: {question}\n",
        "                Answer:\"\"\"\n",
        "            }\n",
        "        ]\n",
        "    }\n",
        "\n",
        "    # Шаг 3: Отправка запроса к API\n",
        "    response = requests.post(\n",
        "        url=\"https://openrouter.ai/api/v1/chat/completions\",\n",
        "        headers={\n",
        "            \"Authorization\": f\"Bearer {api_key}\",\n",
        "            \"Content-Type\": \"application/json\",\n",
        "        },\n",
        "        data=json.dumps(input_data)\n",
        "    )\n",
        "\n",
        "    # Обработка ответа\n",
        "    if response.status_code == 200:\n",
        "        data = response.json()\n",
        "        model_reply = data.get('choices', [{}])[0].get('message', {}).get('content', 'No content found')\n",
        "        return model_reply\n",
        "    else:\n",
        "        raise RuntimeError(f\"API request failed with status {response.status_code}: {response.text}\")\n",
        "\n",
        "# Пример вопроса\n",
        "q1 = 'Is Hirschsprung disease a mendelian or a multifactorial disorder?'\n",
        "\n",
        "response = perform_rag_pipeline(q1, df, df_test, OPENROUTER_API_KEY)\n",
        "print(f\"Question: {q1}\")\n",
        "print(f\"Answer: {response}\")\n",
        "model_name = \"DeepSeek V3\"\n",
        "metrics_df = add_model_metrics_to_dataframe(model_name, true_answer, response, metrics_df)\n"
      ],
      "metadata": {
        "id": "tuhtkgL-38Ac",
        "outputId": "7768805c-94e9-46bf-8939-a5ddcd457f38",
        "colab": {
          "base_uri": "https://localhost:8080/"
        }
      },
      "execution_count": null,
      "outputs": [
        {
          "output_type": "stream",
          "name": "stdout",
          "text": [
            "Question: Is Hirschsprung disease a mendelian or a multifactorial disorder?\n",
            "Answer: Hirschsprung disease (HSCR) is primarily a **multifactorial disorder**, although it has both Mendelian and non-Mendelian components. The majority of cases, particularly the sporadic non-syndromic short-segment form, exhibit complex inheritance with involvement of multiple loci and variable expression. Syndromic and familial forms, however, can display Mendelian inheritance patterns, including autosomal dominant, recessive, and polygenic inheritance. The disease's phenotypic variability and incomplete penetrance further suggest the involvement of modifier genes and complex genetic interactions. Thus, HSCR is best characterized as a multifactorial disorder with contributions from both rare and common genetic variants.\n"
          ]
        }
      ]
    },
    {
      "cell_type": "markdown",
      "source": [
        "### Qwen: QvQ 72B Preview"
      ],
      "metadata": {
        "id": "XnH6kFxA8kNj"
      }
    },
    {
      "cell_type": "code",
      "source": [
        "# Авторизация через OpenRouter\n",
        "OPENROUTER_API_KEY = userdata.get('OPEN_Router')\n",
        "\n",
        "# Функция для выполнения RAG с использованием модели Llama\n",
        "def perform_rag_pipeline(question, df, df_test, api_key):\n",
        "    # Шаг 1: Извлекаем контекст\n",
        "    context = perform_retrieval(question, df, df_test)\n",
        "\n",
        "    # Шаг 2: Подготовка данных для модели\n",
        "    input_data = {\n",
        "        \"model\": \"qwen/qvq-72b-preview\",\n",
        "        \"messages\": [\n",
        "            {\n",
        "                \"role\": \"user\",\n",
        "                \"content\": f\"\"\"\n",
        "                Answer the user's question.\n",
        "                Use only the information from the context. If the context does not contain enough information to answer the question, let the user know.\n",
        "                Context: {context}\n",
        "                Question: {question}\n",
        "                Answer:\"\"\"\n",
        "            }\n",
        "        ]\n",
        "    }\n",
        "\n",
        "    # Шаг 3: Отправка запроса к API\n",
        "    response = requests.post(\n",
        "        url=\"https://openrouter.ai/api/v1/chat/completions\",\n",
        "        headers={\n",
        "            \"Authorization\": f\"Bearer {api_key}\",\n",
        "            \"Content-Type\": \"application/json\",\n",
        "        },\n",
        "        data=json.dumps(input_data)\n",
        "    )\n",
        "\n",
        "    # Обработка ответа\n",
        "    if response.status_code == 200:\n",
        "        data = response.json()\n",
        "        model_reply = data.get('choices', [{}])[0].get('message', {}).get('content', 'No content found')\n",
        "        return model_reply\n",
        "    else:\n",
        "        raise RuntimeError(f\"API request failed with status {response.status_code}: {response.text}\")\n",
        "\n",
        "# Пример вопроса\n",
        "q1 = 'Is Hirschsprung disease a mendelian or a multifactorial disorder?'\n",
        "\n",
        "response = perform_rag_pipeline(q1, df, df_test, OPENROUTER_API_KEY)\n",
        "print(f\"Question: {q1}\")\n",
        "print(f\"Answer: {response}\")\n",
        "model_name = \"Qwen: QvQ 72B Preview\"\n",
        "metrics_df = add_model_metrics_to_dataframe(model_name, true_answer, response, metrics_df)"
      ],
      "metadata": {
        "id": "v7thVTFR8mZM",
        "outputId": "3bfdbf2a-cfc1-4ea4-b1bb-630301aa79cb",
        "colab": {
          "base_uri": "https://localhost:8080/"
        }
      },
      "execution_count": null,
      "outputs": [
        {
          "output_type": "stream",
          "name": "stdout",
          "text": [
            "Question: Is Hirschsprung disease a mendelian or a multifactorial disorder?\n",
            "Answer: So I'm trying to understand Hirschsprung disease and whether it's a Mendelian or a multifactorial disorder. From what I've read, Hirschsprung disease, also known as congenital intestinal aganglionosis, is a pretty common hereditary disorder that causes intestinal obstruction. It seems like there's a lot of variation in how severe it is, and it's inherited in a complicated way.\n",
            "\n",
            "First off, I need to remember what Mendelian and multifactorial disorders are. Mendelian disorders follow classic genetic inheritance patterns described by Gregor Mendel, like dominant or recessive traits linked to specific genes. Multifactorial disorders, on the other hand, are caused by a combination of genetic and environmental factors, often involving multiple genes.\n",
            "\n",
            "From the context provided, it seems like Hirschsprung disease doesn't fit neatly into the Mendelian category. It mentions that Hirschsprung disease is a complex disorder with variable expression and incomplete penetrance, especially in non-syndromic, non-familial, short-segment cases. Penetrance refers to the proportion of people who have a particular gene and express the trait. Incomplete penetrance means that not everyone who carries the gene will show symptoms of the disease.\n",
            "\n",
            "Moreover, it's noted that syndromic and familial forms of Hirschsprung disease have complex patterns of inheritance, including autosomal dominant, recessive, and polygenic inheritance. Polygenic inheritance involves multiple genes contributing to the trait, which is more common in multifactorial disorders.\n",
            "\n",
            "Several genes have been identified as being involved in Hirschsprung disease, including RET, GDNF, EDNRB, EDN3, and SOX10. Mutations in these genes can lead to long-segment Hirschsprung disease as well as syndromic forms of the disease. However, these mutations don't explain all cases, especially the more common short-segment form.\n",
            "\n",
            "The RET gene seems particularly important, as mutations there are responsible for about half of familial cases and some sporadic cases. But the fact that only about half of familial cases are explained by RET mutations suggests that other genes are involved, which points towards a more complex, multifactorial inheritance pattern.\n",
            "\n",
            "Additionally, the RET gene has both coding and non-coding variations that can contribute to the disease. The context mentions a C-->T allele change in the intronic RET enhancer MCS+9.7 that disrupts a SOX10 binding site and compromises RET transactivation. This variation is common in both European and Chinese ancestry groups and is associated with all forms of Hirschsprung disease.\n",
            "\n",
            "This common variant increases susceptibility to Hirschsprung disease, but it's not a guarantee that someone will develop the disease. Its frequency in the general population is quite high (20-30% in European ancestry and 47% in Chinese ancestry), yet Hirschsprung disease is not nearly as common, suggesting that other factors are at play.\n",
            "\n",
            "The text also mentions that this enhancer variant is more frequent in common forms of the disease, such as male, short-segment, and simplex families, whereas multiple, rare, coding mutations are more common in the less common and more severe forms, like female, long-segment, and multiplex families.\n",
            "\n",
            "This pattern suggests that Hirschsprung disease is heterogeneous, with different genetic causes leading to similar phenotypes. Some cases are due to rare, high-impact mutations in genes like RET, while others are due to common, low-impact variations like the one in the RET enhancer.\n",
            "\n",
            "Furthermore, the concept of a \"cellular-recessive\" genetic model is proposed, where both RET alleles' function is compromised, possibly through different combinations of mutations and variations.\n",
            "\n",
            "Given all this information, it seems that Hirschsprung disease is best described as a multifactorial disorder. It involves multiple genes, both rare and common variations, and possibly environmental factors, all contributing to the final phenotype.\n",
            "\n",
            "To sum it up, Hirschsprung disease is not a simple Mendelian disorder because it doesn't follow a single-gene inheritance pattern. Instead, it's a complex trait influenced by multiple genetic and possibly environmental factors.\n",
            "\n",
            "**Final Answer**\n",
            "\n",
            "\\[ \\boxed{\\text{Hirschsprung disease is a multifactorial disorder.}} \\]\n"
          ]
        }
      ]
    },
    {
      "cell_type": "markdown",
      "source": [
        "### Google: Gemini 2.0 Flash Thinking Experimental (free)"
      ],
      "metadata": {
        "id": "cjuYkyZG9Y0c"
      }
    },
    {
      "cell_type": "code",
      "source": [
        "# Авторизация через OpenRouter\n",
        "OPENROUTER_API_KEY = userdata.get('OPEN_Router')\n",
        "\n",
        "# Функция для выполнения RAG с использованием модели Llama\n",
        "def perform_rag_pipeline(question, df, df_test, api_key):\n",
        "    # Шаг 1: Извлекаем контекст\n",
        "    context = perform_retrieval(question, df, df_test)\n",
        "\n",
        "    # Шаг 2: Подготовка данных для модели\n",
        "    input_data = {\n",
        "        \"model\": \"google/gemini-2.0-flash-thinking-exp:free\",\n",
        "        \"messages\": [\n",
        "            {\n",
        "                \"role\": \"user\",\n",
        "                \"content\": f\"\"\"\n",
        "                Answer the user's question.\n",
        "                Use only the information from the context. If the context does not contain enough information to answer the question, let the user know.\n",
        "                Context: {context}\n",
        "                Question: {question}\n",
        "                Answer:\"\"\"\n",
        "            }\n",
        "        ]\n",
        "    }\n",
        "\n",
        "    # Шаг 3: Отправка запроса к API\n",
        "    response = requests.post(\n",
        "        url=\"https://openrouter.ai/api/v1/chat/completions\",\n",
        "        headers={\n",
        "            \"Authorization\": f\"Bearer {api_key}\",\n",
        "            \"Content-Type\": \"application/json\",\n",
        "        },\n",
        "        data=json.dumps(input_data)\n",
        "    )\n",
        "\n",
        "    # Обработка ответа\n",
        "    if response.status_code == 200:\n",
        "        data = response.json()\n",
        "        model_reply = data.get('choices', [{}])[0].get('message', {}).get('content', 'No content found')\n",
        "        return model_reply\n",
        "    else:\n",
        "        raise RuntimeError(f\"API request failed with status {response.status_code}: {response.text}\")\n",
        "\n",
        "# Пример вопроса\n",
        "q1 = 'Is Hirschsprung disease a mendelian or a multifactorial disorder?'\n",
        "\n",
        "response = perform_rag_pipeline(q1, df, df_test, OPENROUTER_API_KEY)\n",
        "print(f\"Question: {q1}\")\n",
        "print(f\"Answer: {response}\")\n",
        "model_name = \"Google: Gemini 2.0 Flash Thinking Experimental (free)\"\n",
        "metrics_df = add_model_metrics_to_dataframe(model_name, true_answer, response, metrics_df)"
      ],
      "metadata": {
        "id": "0QZZStk49bDF",
        "outputId": "16815437-4f1f-4f72-dda3-01a2afb8e044",
        "colab": {
          "base_uri": "https://localhost:8080/"
        }
      },
      "execution_count": null,
      "outputs": [
        {
          "output_type": "stream",
          "name": "stdout",
          "text": [
            "Question: Is Hirschsprung disease a mendelian or a multifactorial disorder?\n",
            "Answer: 1. **Analyze the Question:** The question asks whether Hirschsprung disease is Mendelian or multifactorial.  This implies a need to identify information in the text that discusses the inheritance patterns of the disease.\n",
            "\n",
            "2. **Scan for Keywords:** Look for terms related to inheritance like \"Mendelian,\" \"multifactorial,\" \"polygenic,\" \"inheritance,\" \"familial,\" \"sporadic,\" etc.\n",
            "\n",
            "3. **Locate Relevant Sections:**  The text provides several clues:\n",
            "    * \"The majority of the identified genes are related to Mendelian syndromic forms of Hirschsprung's disease. The non-Mendelian inheritance of sporadic non-syndromic Hirschsprung's disease proved to be complex...\"\n",
            "    * \"Non-syndromic non-familial, short-segment HSCR appears to represent a non-Mendelian condition...\"\n",
            "    * \"Syndromic and familial forms, on the other hand, have complex patterns of inheritance and being reported as autosomal dominant, recessive and polygenic patterns of inheritance.\"\n",
            "    * \"HSCR has become a model for a complex oligo-/polygenic disorder in which the relationship between different genes creating a non-mendelian inheritance pattern still remains to be elucidated.\"\n",
            "\n",
            "4. **Synthesize the Information:** Combine the information gleaned from the relevant sections.  Notice that the text distinguishes between different forms of HSCR.  Some are linked to Mendelian inheritance, while others, particularly the sporadic and non-syndromic forms, are described as non-Mendelian or complex/polygenic.\n",
            "\n",
            "5. **Formulate the Answer:** Based on the synthesis, the answer should reflect this complexity. It should state that some forms are Mendelian (specifically mentioning syndromic forms) while others are multifactorial or complex/polygenic (mentioning sporadic, non-syndromic forms).  Avoid oversimplification.The context indicates that Hirschsprung disease can be both Mendelian and multifactorial. The majority of identified genes are related to Mendelian syndromic forms. However, non-syndromic common forms show non-Mendelian inheritance, suggesting a complex, potentially multifactorial, model. The text also mentions that non-syndromic non-familial short-segment HSCR appears to be a non-Mendelian condition, while syndromic and familial forms can have complex inheritance patterns, including autosomal dominant, recessive, and polygenic.  It's also described as a complex oligo-/polygenic disorder.\n",
            "\n"
          ]
        }
      ]
    },
    {
      "cell_type": "markdown",
      "source": [
        "### xAI: Grok 2 Vision 1212"
      ],
      "metadata": {
        "id": "TRXFJPTR9qSn"
      }
    },
    {
      "cell_type": "code",
      "source": [
        "# Авторизация через OpenRouter\n",
        "OPENROUTER_API_KEY = userdata.get('OPEN_Router')\n",
        "\n",
        "# Функция для выполнения RAG с использованием модели Llama\n",
        "def perform_rag_pipeline(question, df, df_test, api_key):\n",
        "    # Шаг 1: Извлекаем контекст\n",
        "    context = perform_retrieval(question, df, df_test)\n",
        "\n",
        "    # Шаг 2: Подготовка данных для модели\n",
        "    input_data = {\n",
        "        \"model\": \"x-ai/grok-2-1212\",\n",
        "        \"messages\": [\n",
        "            {\n",
        "                \"role\": \"user\",\n",
        "                \"content\": f\"\"\"\n",
        "                Answer the user's question.\n",
        "                Use only the information from the context. If the context does not contain enough information to answer the question, let the user know.\n",
        "                Context: {context}\n",
        "                Question: {question}\n",
        "                Answer:\"\"\"\n",
        "            }\n",
        "        ]\n",
        "    }\n",
        "\n",
        "    # Шаг 3: Отправка запроса к API\n",
        "    response = requests.post(\n",
        "        url=\"https://openrouter.ai/api/v1/chat/completions\",\n",
        "        headers={\n",
        "            \"Authorization\": f\"Bearer {api_key}\",\n",
        "            \"Content-Type\": \"application/json\",\n",
        "        },\n",
        "        data=json.dumps(input_data)\n",
        "    )\n",
        "\n",
        "    # Обработка ответа\n",
        "    if response.status_code == 200:\n",
        "        data = response.json()\n",
        "        model_reply = data.get('choices', [{}])[0].get('message', {}).get('content', 'No content found')\n",
        "        return model_reply\n",
        "    else:\n",
        "        raise RuntimeError(f\"API request failed with status {response.status_code}: {response.text}\")\n",
        "\n",
        "# Пример вопроса\n",
        "q1 = 'Is Hirschsprung disease a mendelian or a multifactorial disorder?'\n",
        "\n",
        "response = perform_rag_pipeline(q1, df, df_test, OPENROUTER_API_KEY)\n",
        "print(f\"Question: {q1}\")\n",
        "print(f\"Answer: {response}\")\n",
        "model_name = \"xAI: Grok 2 Vision 1212\"\n",
        "metrics_df = add_model_metrics_to_dataframe(model_name, true_answer, response, metrics_df)"
      ],
      "metadata": {
        "id": "GT28bRyf9pu2",
        "outputId": "a806dcdb-fd18-44c8-9295-960b9985e5b8",
        "colab": {
          "base_uri": "https://localhost:8080/"
        }
      },
      "execution_count": null,
      "outputs": [
        {
          "output_type": "stream",
          "name": "stdout",
          "text": [
            "Question: Is Hirschsprung disease a mendelian or a multifactorial disorder?\n",
            "Answer: No content found\n"
          ]
        }
      ]
    },
    {
      "cell_type": "markdown",
      "source": [
        "### gpt-4o-2024-11-20"
      ],
      "metadata": {
        "id": "LgtHPwl2-uO_"
      }
    },
    {
      "cell_type": "code",
      "source": [
        "# Авторизация через OpenRouter\n",
        "OPENROUTER_API_KEY = userdata.get('OPEN_Router')\n",
        "\n",
        "# Функция для выполнения RAG с использованием модели Llama\n",
        "def perform_rag_pipeline(question, df, df_test, api_key):\n",
        "    # Шаг 1: Извлекаем контекст\n",
        "    context = perform_retrieval(question, df, df_test)\n",
        "\n",
        "    # Шаг 2: Подготовка данных для модели\n",
        "    input_data = {\n",
        "        \"model\": \"openai/gpt-4o-2024-11-20\",\n",
        "        \"messages\": [\n",
        "            {\n",
        "                \"role\": \"user\",\n",
        "                \"content\": f\"\"\"\n",
        "                Answer the user's question.\n",
        "                Use only the information from the context. If the context does not contain enough information to answer the question, let the user know.\n",
        "                Context: {context}\n",
        "                Question: {question}\n",
        "                Answer:\"\"\"\n",
        "            }\n",
        "        ]\n",
        "    }\n",
        "\n",
        "    # Шаг 3: Отправка запроса к API\n",
        "    response = requests.post(\n",
        "        url=\"https://openrouter.ai/api/v1/chat/completions\",\n",
        "        headers={\n",
        "            \"Authorization\": f\"Bearer {api_key}\",\n",
        "            \"Content-Type\": \"application/json\",\n",
        "        },\n",
        "        data=json.dumps(input_data)\n",
        "    )\n",
        "\n",
        "    # Обработка ответа\n",
        "    if response.status_code == 200:\n",
        "        data = response.json()\n",
        "        model_reply = data.get('choices', [{}])[0].get('message', {}).get('content', 'No content found')\n",
        "        return model_reply\n",
        "    else:\n",
        "        raise RuntimeError(f\"API request failed with status {response.status_code}: {response.text}\")\n",
        "\n",
        "# Пример вопроса\n",
        "q1 = 'Is Hirschsprung disease a mendelian or a multifactorial disorder?'\n",
        "\n",
        "response = perform_rag_pipeline(q1, df, df_test, OPENROUTER_API_KEY)\n",
        "print(f\"Question: {q1}\")\n",
        "print(f\"Answer: {response}\")\n",
        "model_name = \"gpt-4o-2024-11-20\"\n",
        "metrics_df = add_model_metrics_to_dataframe(model_name, true_answer, response, metrics_df)"
      ],
      "metadata": {
        "id": "Kvr7HfMG-vqW",
        "outputId": "dc92ff8d-2177-4c3f-faab-d8dbe66be81b",
        "colab": {
          "base_uri": "https://localhost:8080/"
        }
      },
      "execution_count": null,
      "outputs": [
        {
          "output_type": "stream",
          "name": "stdout",
          "text": [
            "Question: Is Hirschsprung disease a mendelian or a multifactorial disorder?\n",
            "Answer: No content found\n"
          ]
        }
      ]
    },
    {
      "cell_type": "markdown",
      "source": [
        "### Sao10K: Llama 3.3 Euryale 70B20"
      ],
      "metadata": {
        "id": "-X9LP_qw_QEI"
      }
    },
    {
      "cell_type": "code",
      "source": [
        "# Авторизация через OpenRouter\n",
        "OPENROUTER_API_KEY = userdata.get('OPEN_Router')\n",
        "\n",
        "# Функция для выполнения RAG с использованием модели Llama\n",
        "def perform_rag_pipeline(question, df, df_test, api_key):\n",
        "    # Шаг 1: Извлекаем контекст\n",
        "    context = perform_retrieval(question, df, df_test)\n",
        "\n",
        "    # Шаг 2: Подготовка данных для модели\n",
        "    input_data = {\n",
        "        \"model\": \"sao10k/l3.3-euryale-70b\",\n",
        "        \"messages\": [\n",
        "            {\n",
        "                \"role\": \"user\",\n",
        "                \"content\": f\"\"\"\n",
        "                Answer the user's question.\n",
        "                Use only the information from the context. If the context does not contain enough information to answer the question, let the user know.\n",
        "                Context: {context}\n",
        "                Question: {question}\n",
        "                Answer:\"\"\"\n",
        "            }\n",
        "        ]\n",
        "    }\n",
        "\n",
        "    # Шаг 3: Отправка запроса к API\n",
        "    response = requests.post(\n",
        "        url=\"https://openrouter.ai/api/v1/chat/completions\",\n",
        "        headers={\n",
        "            \"Authorization\": f\"Bearer {api_key}\",\n",
        "            \"Content-Type\": \"application/json\",\n",
        "        },\n",
        "        data=json.dumps(input_data)\n",
        "    )\n",
        "\n",
        "    # Обработка ответа\n",
        "    if response.status_code == 200:\n",
        "        data = response.json()\n",
        "        model_reply = data.get('choices', [{}])[0].get('message', {}).get('content', 'No content found')\n",
        "        return model_reply\n",
        "    else:\n",
        "        raise RuntimeError(f\"API request failed with status {response.status_code}: {response.text}\")\n",
        "\n",
        "# Пример вопроса\n",
        "q1 = 'Is Hirschsprung disease a mendelian or a multifactorial disorder?'\n",
        "\n",
        "response = perform_rag_pipeline(q1, df, df_test, OPENROUTER_API_KEY)\n",
        "print(f\"Question: {q1}\")\n",
        "print(f\"Answer: {response}\")\n",
        "model_name = \"Sao10K: Llama 3.3 Euryale 70B\"\n",
        "metrics_df = add_model_metrics_to_dataframe(model_name, true_answer, response, metrics_df)"
      ],
      "metadata": {
        "id": "UeDieKKq_Qvz",
        "outputId": "884e7fbb-b2e5-457e-a41a-fdf4f6eb7550",
        "colab": {
          "base_uri": "https://localhost:8080/"
        }
      },
      "execution_count": null,
      "outputs": [
        {
          "output_type": "stream",
          "name": "stdout",
          "text": [
            "Question: Is Hirschsprung disease a mendelian or a multifactorial disorder?\n",
            "Answer: Hirschsprung disease is not a straightforward Mendelian disorder. Some forms of it are due to inherited mutations in specific genes that are transmitted in a Mendelian pattern (autosomal dominant or recessive). However, many cases of Hirschsprung disease, especially the non-syndromic and short-segment forms, have a complex and non-Mendelian inheritance pattern involving multiple loci and showing variable expression and sex-dependent penetrance. Additionally, other cases of Hirschsprung disease are associated with chromosomal anomalies or other congenital abnormalities and syndromes, which further complicates the genetic landscape of the disorder. Therefore, Hirschsprung disease is best characterized as a multifactorial disorder with a complex genetic architecture.\n"
          ]
        }
      ]
    },
    {
      "cell_type": "code",
      "source": [
        "metrics_df"
      ],
      "metadata": {
        "id": "J0Vwovsm_ooE",
        "outputId": "71324ff2-9751-45b7-8b49-c9130934fdd6",
        "colab": {
          "base_uri": "https://localhost:8080/",
          "height": 269
        }
      },
      "execution_count": null,
      "outputs": [
        {
          "output_type": "execute_result",
          "data": {
            "text/plain": [
              "                                               Model      BLEU    METEOR  \\\n",
              "0                                           Gigachat  0.018652  0.308941   \n",
              "1                                        gpt-4o-mini  0.014081  0.235693   \n",
              "2                              Llama 3.2 1B Instruct  0.013743  0.203927   \n",
              "3                                        DeepSeek V3  0.055929  0.252632   \n",
              "4                              Qwen: QvQ 72B Preview  0.003709  0.157676   \n",
              "5  Google: Gemini 2.0 Flash Thinking Experimental...  0.022388  0.247395   \n",
              "6                      Sao10K: Llama 3.3 Euryale 70B  0.019929  0.245949   \n",
              "\n",
              "    ROUGE-1   ROUGE-2   ROUGE-L  \n",
              "0  0.350282  0.102857  0.169492  \n",
              "1  0.341085  0.110236  0.217054  \n",
              "2  0.338710  0.065574  0.225806  \n",
              "3  0.341085  0.110236  0.248062  \n",
              "4  0.117340  0.039216  0.080834  \n",
              "5  0.262411  0.092857  0.156028  \n",
              "6  0.402778  0.098592  0.208333  "
            ],
            "text/html": [
              "\n",
              "  <div id=\"df-2127eb96-b21d-4695-8005-cd31327130ac\" class=\"colab-df-container\">\n",
              "    <div>\n",
              "<style scoped>\n",
              "    .dataframe tbody tr th:only-of-type {\n",
              "        vertical-align: middle;\n",
              "    }\n",
              "\n",
              "    .dataframe tbody tr th {\n",
              "        vertical-align: top;\n",
              "    }\n",
              "\n",
              "    .dataframe thead th {\n",
              "        text-align: right;\n",
              "    }\n",
              "</style>\n",
              "<table border=\"1\" class=\"dataframe\">\n",
              "  <thead>\n",
              "    <tr style=\"text-align: right;\">\n",
              "      <th></th>\n",
              "      <th>Model</th>\n",
              "      <th>BLEU</th>\n",
              "      <th>METEOR</th>\n",
              "      <th>ROUGE-1</th>\n",
              "      <th>ROUGE-2</th>\n",
              "      <th>ROUGE-L</th>\n",
              "    </tr>\n",
              "  </thead>\n",
              "  <tbody>\n",
              "    <tr>\n",
              "      <th>0</th>\n",
              "      <td>Gigachat</td>\n",
              "      <td>0.018652</td>\n",
              "      <td>0.308941</td>\n",
              "      <td>0.350282</td>\n",
              "      <td>0.102857</td>\n",
              "      <td>0.169492</td>\n",
              "    </tr>\n",
              "    <tr>\n",
              "      <th>1</th>\n",
              "      <td>gpt-4o-mini</td>\n",
              "      <td>0.014081</td>\n",
              "      <td>0.235693</td>\n",
              "      <td>0.341085</td>\n",
              "      <td>0.110236</td>\n",
              "      <td>0.217054</td>\n",
              "    </tr>\n",
              "    <tr>\n",
              "      <th>2</th>\n",
              "      <td>Llama 3.2 1B Instruct</td>\n",
              "      <td>0.013743</td>\n",
              "      <td>0.203927</td>\n",
              "      <td>0.338710</td>\n",
              "      <td>0.065574</td>\n",
              "      <td>0.225806</td>\n",
              "    </tr>\n",
              "    <tr>\n",
              "      <th>3</th>\n",
              "      <td>DeepSeek V3</td>\n",
              "      <td>0.055929</td>\n",
              "      <td>0.252632</td>\n",
              "      <td>0.341085</td>\n",
              "      <td>0.110236</td>\n",
              "      <td>0.248062</td>\n",
              "    </tr>\n",
              "    <tr>\n",
              "      <th>4</th>\n",
              "      <td>Qwen: QvQ 72B Preview</td>\n",
              "      <td>0.003709</td>\n",
              "      <td>0.157676</td>\n",
              "      <td>0.117340</td>\n",
              "      <td>0.039216</td>\n",
              "      <td>0.080834</td>\n",
              "    </tr>\n",
              "    <tr>\n",
              "      <th>5</th>\n",
              "      <td>Google: Gemini 2.0 Flash Thinking Experimental...</td>\n",
              "      <td>0.022388</td>\n",
              "      <td>0.247395</td>\n",
              "      <td>0.262411</td>\n",
              "      <td>0.092857</td>\n",
              "      <td>0.156028</td>\n",
              "    </tr>\n",
              "    <tr>\n",
              "      <th>6</th>\n",
              "      <td>Sao10K: Llama 3.3 Euryale 70B</td>\n",
              "      <td>0.019929</td>\n",
              "      <td>0.245949</td>\n",
              "      <td>0.402778</td>\n",
              "      <td>0.098592</td>\n",
              "      <td>0.208333</td>\n",
              "    </tr>\n",
              "  </tbody>\n",
              "</table>\n",
              "</div>\n",
              "    <div class=\"colab-df-buttons\">\n",
              "\n",
              "  <div class=\"colab-df-container\">\n",
              "    <button class=\"colab-df-convert\" onclick=\"convertToInteractive('df-2127eb96-b21d-4695-8005-cd31327130ac')\"\n",
              "            title=\"Convert this dataframe to an interactive table.\"\n",
              "            style=\"display:none;\">\n",
              "\n",
              "  <svg xmlns=\"http://www.w3.org/2000/svg\" height=\"24px\" viewBox=\"0 -960 960 960\">\n",
              "    <path d=\"M120-120v-720h720v720H120Zm60-500h600v-160H180v160Zm220 220h160v-160H400v160Zm0 220h160v-160H400v160ZM180-400h160v-160H180v160Zm440 0h160v-160H620v160ZM180-180h160v-160H180v160Zm440 0h160v-160H620v160Z\"/>\n",
              "  </svg>\n",
              "    </button>\n",
              "\n",
              "  <style>\n",
              "    .colab-df-container {\n",
              "      display:flex;\n",
              "      gap: 12px;\n",
              "    }\n",
              "\n",
              "    .colab-df-convert {\n",
              "      background-color: #E8F0FE;\n",
              "      border: none;\n",
              "      border-radius: 50%;\n",
              "      cursor: pointer;\n",
              "      display: none;\n",
              "      fill: #1967D2;\n",
              "      height: 32px;\n",
              "      padding: 0 0 0 0;\n",
              "      width: 32px;\n",
              "    }\n",
              "\n",
              "    .colab-df-convert:hover {\n",
              "      background-color: #E2EBFA;\n",
              "      box-shadow: 0px 1px 2px rgba(60, 64, 67, 0.3), 0px 1px 3px 1px rgba(60, 64, 67, 0.15);\n",
              "      fill: #174EA6;\n",
              "    }\n",
              "\n",
              "    .colab-df-buttons div {\n",
              "      margin-bottom: 4px;\n",
              "    }\n",
              "\n",
              "    [theme=dark] .colab-df-convert {\n",
              "      background-color: #3B4455;\n",
              "      fill: #D2E3FC;\n",
              "    }\n",
              "\n",
              "    [theme=dark] .colab-df-convert:hover {\n",
              "      background-color: #434B5C;\n",
              "      box-shadow: 0px 1px 3px 1px rgba(0, 0, 0, 0.15);\n",
              "      filter: drop-shadow(0px 1px 2px rgba(0, 0, 0, 0.3));\n",
              "      fill: #FFFFFF;\n",
              "    }\n",
              "  </style>\n",
              "\n",
              "    <script>\n",
              "      const buttonEl =\n",
              "        document.querySelector('#df-2127eb96-b21d-4695-8005-cd31327130ac button.colab-df-convert');\n",
              "      buttonEl.style.display =\n",
              "        google.colab.kernel.accessAllowed ? 'block' : 'none';\n",
              "\n",
              "      async function convertToInteractive(key) {\n",
              "        const element = document.querySelector('#df-2127eb96-b21d-4695-8005-cd31327130ac');\n",
              "        const dataTable =\n",
              "          await google.colab.kernel.invokeFunction('convertToInteractive',\n",
              "                                                    [key], {});\n",
              "        if (!dataTable) return;\n",
              "\n",
              "        const docLinkHtml = 'Like what you see? Visit the ' +\n",
              "          '<a target=\"_blank\" href=https://colab.research.google.com/notebooks/data_table.ipynb>data table notebook</a>'\n",
              "          + ' to learn more about interactive tables.';\n",
              "        element.innerHTML = '';\n",
              "        dataTable['output_type'] = 'display_data';\n",
              "        await google.colab.output.renderOutput(dataTable, element);\n",
              "        const docLink = document.createElement('div');\n",
              "        docLink.innerHTML = docLinkHtml;\n",
              "        element.appendChild(docLink);\n",
              "      }\n",
              "    </script>\n",
              "  </div>\n",
              "\n",
              "\n",
              "<div id=\"df-15a9e931-fef3-4f1c-967c-221acce5d1d7\">\n",
              "  <button class=\"colab-df-quickchart\" onclick=\"quickchart('df-15a9e931-fef3-4f1c-967c-221acce5d1d7')\"\n",
              "            title=\"Suggest charts\"\n",
              "            style=\"display:none;\">\n",
              "\n",
              "<svg xmlns=\"http://www.w3.org/2000/svg\" height=\"24px\"viewBox=\"0 0 24 24\"\n",
              "     width=\"24px\">\n",
              "    <g>\n",
              "        <path d=\"M19 3H5c-1.1 0-2 .9-2 2v14c0 1.1.9 2 2 2h14c1.1 0 2-.9 2-2V5c0-1.1-.9-2-2-2zM9 17H7v-7h2v7zm4 0h-2V7h2v10zm4 0h-2v-4h2v4z\"/>\n",
              "    </g>\n",
              "</svg>\n",
              "  </button>\n",
              "\n",
              "<style>\n",
              "  .colab-df-quickchart {\n",
              "      --bg-color: #E8F0FE;\n",
              "      --fill-color: #1967D2;\n",
              "      --hover-bg-color: #E2EBFA;\n",
              "      --hover-fill-color: #174EA6;\n",
              "      --disabled-fill-color: #AAA;\n",
              "      --disabled-bg-color: #DDD;\n",
              "  }\n",
              "\n",
              "  [theme=dark] .colab-df-quickchart {\n",
              "      --bg-color: #3B4455;\n",
              "      --fill-color: #D2E3FC;\n",
              "      --hover-bg-color: #434B5C;\n",
              "      --hover-fill-color: #FFFFFF;\n",
              "      --disabled-bg-color: #3B4455;\n",
              "      --disabled-fill-color: #666;\n",
              "  }\n",
              "\n",
              "  .colab-df-quickchart {\n",
              "    background-color: var(--bg-color);\n",
              "    border: none;\n",
              "    border-radius: 50%;\n",
              "    cursor: pointer;\n",
              "    display: none;\n",
              "    fill: var(--fill-color);\n",
              "    height: 32px;\n",
              "    padding: 0;\n",
              "    width: 32px;\n",
              "  }\n",
              "\n",
              "  .colab-df-quickchart:hover {\n",
              "    background-color: var(--hover-bg-color);\n",
              "    box-shadow: 0 1px 2px rgba(60, 64, 67, 0.3), 0 1px 3px 1px rgba(60, 64, 67, 0.15);\n",
              "    fill: var(--button-hover-fill-color);\n",
              "  }\n",
              "\n",
              "  .colab-df-quickchart-complete:disabled,\n",
              "  .colab-df-quickchart-complete:disabled:hover {\n",
              "    background-color: var(--disabled-bg-color);\n",
              "    fill: var(--disabled-fill-color);\n",
              "    box-shadow: none;\n",
              "  }\n",
              "\n",
              "  .colab-df-spinner {\n",
              "    border: 2px solid var(--fill-color);\n",
              "    border-color: transparent;\n",
              "    border-bottom-color: var(--fill-color);\n",
              "    animation:\n",
              "      spin 1s steps(1) infinite;\n",
              "  }\n",
              "\n",
              "  @keyframes spin {\n",
              "    0% {\n",
              "      border-color: transparent;\n",
              "      border-bottom-color: var(--fill-color);\n",
              "      border-left-color: var(--fill-color);\n",
              "    }\n",
              "    20% {\n",
              "      border-color: transparent;\n",
              "      border-left-color: var(--fill-color);\n",
              "      border-top-color: var(--fill-color);\n",
              "    }\n",
              "    30% {\n",
              "      border-color: transparent;\n",
              "      border-left-color: var(--fill-color);\n",
              "      border-top-color: var(--fill-color);\n",
              "      border-right-color: var(--fill-color);\n",
              "    }\n",
              "    40% {\n",
              "      border-color: transparent;\n",
              "      border-right-color: var(--fill-color);\n",
              "      border-top-color: var(--fill-color);\n",
              "    }\n",
              "    60% {\n",
              "      border-color: transparent;\n",
              "      border-right-color: var(--fill-color);\n",
              "    }\n",
              "    80% {\n",
              "      border-color: transparent;\n",
              "      border-right-color: var(--fill-color);\n",
              "      border-bottom-color: var(--fill-color);\n",
              "    }\n",
              "    90% {\n",
              "      border-color: transparent;\n",
              "      border-bottom-color: var(--fill-color);\n",
              "    }\n",
              "  }\n",
              "</style>\n",
              "\n",
              "  <script>\n",
              "    async function quickchart(key) {\n",
              "      const quickchartButtonEl =\n",
              "        document.querySelector('#' + key + ' button');\n",
              "      quickchartButtonEl.disabled = true;  // To prevent multiple clicks.\n",
              "      quickchartButtonEl.classList.add('colab-df-spinner');\n",
              "      try {\n",
              "        const charts = await google.colab.kernel.invokeFunction(\n",
              "            'suggestCharts', [key], {});\n",
              "      } catch (error) {\n",
              "        console.error('Error during call to suggestCharts:', error);\n",
              "      }\n",
              "      quickchartButtonEl.classList.remove('colab-df-spinner');\n",
              "      quickchartButtonEl.classList.add('colab-df-quickchart-complete');\n",
              "    }\n",
              "    (() => {\n",
              "      let quickchartButtonEl =\n",
              "        document.querySelector('#df-15a9e931-fef3-4f1c-967c-221acce5d1d7 button');\n",
              "      quickchartButtonEl.style.display =\n",
              "        google.colab.kernel.accessAllowed ? 'block' : 'none';\n",
              "    })();\n",
              "  </script>\n",
              "</div>\n",
              "    </div>\n",
              "  </div>\n"
            ],
            "application/vnd.google.colaboratory.intrinsic+json": {
              "type": "dataframe",
              "variable_name": "metrics_df",
              "summary": "{\n  \"name\": \"metrics_df\",\n  \"rows\": 7,\n  \"fields\": [\n    {\n      \"column\": \"Model\",\n      \"properties\": {\n        \"dtype\": \"string\",\n        \"num_unique_values\": 7,\n        \"samples\": [\n          \"Gigachat\",\n          \"gpt-4o-mini\",\n          \"Google: Gemini 2.0 Flash Thinking Experimental (free)\"\n        ],\n        \"semantic_type\": \"\",\n        \"description\": \"\"\n      }\n    },\n    {\n      \"column\": \"BLEU\",\n      \"properties\": {\n        \"dtype\": \"number\",\n        \"std\": 0.016471614149856664,\n        \"min\": 0.003708512652335921,\n        \"max\": 0.055929393397864346,\n        \"num_unique_values\": 7,\n        \"samples\": [\n          0.018652242478858782,\n          0.014080976518905147,\n          0.022387938484518182\n        ],\n        \"semantic_type\": \"\",\n        \"description\": \"\"\n      }\n    },\n    {\n      \"column\": \"METEOR\",\n      \"properties\": {\n        \"dtype\": \"number\",\n        \"std\": 0.04652825850858018,\n        \"min\": 0.15767634854771787,\n        \"max\": 0.30894143783151123,\n        \"num_unique_values\": 7,\n        \"samples\": [\n          0.30894143783151123,\n          0.23569302721088434,\n          0.24739473978891968\n        ],\n        \"semantic_type\": \"\",\n        \"description\": \"\"\n      }\n    },\n    {\n      \"column\": \"ROUGE-1\",\n      \"properties\": {\n        \"dtype\": \"number\",\n        \"std\": 0.09339136378137873,\n        \"min\": 0.11734028683181227,\n        \"max\": 0.4027777777777778,\n        \"num_unique_values\": 6,\n        \"samples\": [\n          0.35028248587570615,\n          0.3410852713178295,\n          0.4027777777777778\n        ],\n        \"semantic_type\": \"\",\n        \"description\": \"\"\n      }\n    },\n    {\n      \"column\": \"ROUGE-2\",\n      \"properties\": {\n        \"dtype\": \"number\",\n        \"std\": 0.026540638953644884,\n        \"min\": 0.0392156862745098,\n        \"max\": 0.11023622047244094,\n        \"num_unique_values\": 6,\n        \"samples\": [\n          0.10285714285714286,\n          0.11023622047244094,\n          0.09859154929577466\n        ],\n        \"semantic_type\": \"\",\n        \"description\": \"\"\n      }\n    },\n    {\n      \"column\": \"ROUGE-L\",\n      \"properties\": {\n        \"dtype\": \"number\",\n        \"std\": 0.05646261000045177,\n        \"min\": 0.08083441981747067,\n        \"max\": 0.24806201550387597,\n        \"num_unique_values\": 7,\n        \"samples\": [\n          0.1694915254237288,\n          0.2170542635658915,\n          0.15602836879432624\n        ],\n        \"semantic_type\": \"\",\n        \"description\": \"\"\n      }\n    }\n  ]\n}"
            }
          },
          "metadata": {},
          "execution_count": 14
        }
      ]
    },
    {
      "cell_type": "markdown",
      "source": [
        "## Визуализация сравнений"
      ],
      "metadata": {
        "id": "5VeVXFSIFk1O"
      }
    },
    {
      "cell_type": "code",
      "source": [
        "import pandas as pd\n",
        "import matplotlib.pyplot as plt\n",
        "\n",
        "df = metrics_df\n",
        "plt.figure(figsize=(16, 6))\n",
        "df.set_index('Model').plot(kind='barh', stacked=True, figsize=(12, 8), colormap='plasma')\n",
        "\n",
        "plt.xlabel('Scores', fontsize=12)\n",
        "plt.ylabel('Models', fontsize=12)\n",
        "plt.tight_layout()\n",
        "\n",
        "plt.show()\n"
      ],
      "metadata": {
        "id": "U7xINCVYECt5",
        "outputId": "0cedf435-c92e-467f-8750-2f1da8046f6e",
        "colab": {
          "base_uri": "https://localhost:8080/",
          "height": 824
        }
      },
      "execution_count": null,
      "outputs": [
        {
          "output_type": "display_data",
          "data": {
            "text/plain": [
              "<Figure size 1600x600 with 0 Axes>"
            ]
          },
          "metadata": {}
        },
        {
          "output_type": "display_data",
          "data": {
            "text/plain": [
              "<Figure size 1200x800 with 1 Axes>"
            ],
            "image/png": "[encoded data removed]"
          },
          "metadata": {}
        }
      ]
    },
    {
      "cell_type": "markdown",
      "source": [
        "# С векторной БД"
      ],
      "metadata": {
        "id": "EJ5Xx6RImO8b"
      }
    },
    {
      "cell_type": "code",
      "source": [
        "pip install faiss-gpu -q"
      ],
      "metadata": {
        "id": "ZjkNCwG2tPMl",
        "outputId": "233dcf44-3fba-4792-c772-09b65a321a33",
        "colab": {
          "base_uri": "https://localhost:8080/"
        }
      },
      "execution_count": null,
      "outputs": [
        {
          "output_type": "stream",
          "name": "stdout",
          "text": [
            "\u001b[31mERROR: Could not find a version that satisfies the requirement faiss-gpu (from versions: none)\u001b[0m\u001b[31m\n",
            "\u001b[0m\u001b[31mERROR: No matching distribution found for faiss-gpu\u001b[0m\u001b[31m\n",
            "\u001b[0m"
          ]
        }
      ]
    },
    {
      "cell_type": "code",
      "source": [
        "pip install faiss-cpu -q"
      ],
      "metadata": {
        "id": "7HeYE1JatCW7",
        "colab": {
          "base_uri": "https://localhost:8080/"
        },
        "outputId": "3d92c1bb-1d4e-4c90-84b9-b3df417ed803"
      },
      "execution_count": null,
      "outputs": [
        {
          "output_type": "stream",
          "name": "stdout",
          "text": [
            "\u001b[2K   \u001b[90m━━━━━━━━━━━━━━━━━━━━━━━━━━━━━━━━━━━━━━━━\u001b[0m \u001b[32m27.5/27.5 MB\u001b[0m \u001b[31m63.7 MB/s\u001b[0m eta \u001b[36m0:00:00\u001b[0m\n",
            "\u001b[?25h"
          ]
        }
      ]
    },
    {
      "cell_type": "code",
      "source": [
        "pip install -U langchain-community rouge-score hnswlib -q"
      ],
      "metadata": {
        "id": "-LlaYAq2rBYu",
        "outputId": "1b737297-5abd-45d8-daf9-2d43fc14b28a",
        "colab": {
          "base_uri": "https://localhost:8080/"
        }
      },
      "execution_count": null,
      "outputs": [
        {
          "output_type": "stream",
          "name": "stdout",
          "text": [
            "  Installing build dependencies ... \u001b[?25l\u001b[?25hdone\n",
            "  Getting requirements to build wheel ... \u001b[?25l\u001b[?25hdone\n",
            "  Preparing metadata (pyproject.toml) ... \u001b[?25l\u001b[?25hdone\n",
            "  Building wheel for hnswlib (pyproject.toml) ... \u001b[?25l\u001b[?25hdone\n"
          ]
        }
      ]
    },
    {
      "cell_type": "code",
      "source": [
        "import faiss  # Импорт библиотеки Faiss\n",
        "from sklearn.feature_extraction.text import TfidfVectorizer\n",
        "import numpy as np\n",
        "import pandas as pd\n",
        "import requests\n",
        "import json\n",
        "from nltk.translate.bleu_score import sentence_bleu, SmoothingFunction\n",
        "from nltk.translate.meteor_score import meteor_score\n",
        "from rouge_score import rouge_scorer\n",
        "from google.colab import userdata"
      ],
      "metadata": {
        "id": "pzUzsYeEmT3_"
      },
      "execution_count": null,
      "outputs": []
    },
    {
      "cell_type": "code",
      "source": [
        "# Загрузка данных\n",
        "df = pd.read_parquet(\"hf://datasets/rag-datasets/rag-mini-bioasq/data/passages.parquet/part.0.parquet\")\n",
        "df_test = pd.read_parquet(\"hf://datasets/rag-datasets/rag-mini-bioasq/data/test.parquet/part.0.parquet\")\n"
      ],
      "metadata": {
        "id": "_K0I92-I6nt7",
        "collapsed": true
      },
      "execution_count": null,
      "outputs": []
    },
    {
      "cell_type": "code",
      "source": [
        "import nltk\n",
        "nltk.download('wordnet')\n",
        "nltk.download('omw-1.4')\n",
        "nltk.download('punkt')\n",
        "# Инициализация OpenRouter API\n",
        "OPENROUTER_API_KEY = userdata.get('OPEN_Router')\n",
        "\n",
        "def query_openrouter(model, prompt):\n",
        "    headers = {\n",
        "        \"Authorization\": f\"Bearer {OPENROUTER_API_KEY}\",\n",
        "        \"Content-Type\": \"application/json\",\n",
        "    }\n",
        "    data = {\n",
        "        \"model\": model,\n",
        "        \"messages\": [\n",
        "            {\"role\": \"user\", \"content\": prompt}\n",
        "        ]\n",
        "    }\n",
        "    response = requests.post(\n",
        "        url=\"https://openrouter.ai/api/v1/chat/completions\",\n",
        "        headers=headers,\n",
        "        data=json.dumps(data)\n",
        "    )\n",
        "    if response.status_code == 200:\n",
        "        data = response.json()\n",
        "        return data.get(\"choices\", [{}])[0].get(\"message\", {}).get(\"content\", \"No content returned\")\n",
        "    else:\n",
        "        raise ValueError(f\"Error {response.status_code}: {response.text}\")\n",
        "\n",
        "\n",
        "# Подготовка векторной базы данных Faiss\n",
        "def create_faiss_index(corpus):\n",
        "    vectorizer = TfidfVectorizer(stop_words=\"english\", max_features=768)\n",
        "    vectors = vectorizer.fit_transform(corpus).toarray()\n",
        "    index = faiss.IndexFlatL2(vectors.shape[1])  # Создание векторного индекса\n",
        "    index.add(np.array(vectors, dtype=np.float32))  # Добавление векторов в индекс\n",
        "    return index, vectorizer\n",
        "\n",
        "faiss_index, vectorizer = create_faiss_index(df[\"passage\"])\n",
        "\n",
        "# Функция для извлечения релевантных документов\n",
        "def retrieve_documents(query, index, vectorizer, k=5):\n",
        "    query_vector = vectorizer.transform([query]).toarray().astype(np.float32)\n",
        "    distances, indices = index.search(query_vector, k)\n",
        "    return [df.iloc[i][\"passage\"] for i in indices[0]]\n",
        "\n",
        "# Функция RAG\n",
        "def perform_rag(question, model=\"deepseek/deepseek-chat\", k=5):\n",
        "    # Шаг 1: Ретривинг документов\n",
        "    retrieved_docs = retrieve_documents(question, faiss_index, vectorizer, k)\n",
        "    context = \" \".join(retrieved_docs)\n",
        "\n",
        "    # Шаг 2: Генерация ответа\n",
        "    prompt = f\"\"\"\n",
        "    Answer the user's question.\n",
        "    Use only the information from the context. If the context does not contain enough information to answer the question, let the user know.\n",
        "    Context: {context}\n",
        "    Question: {question}\n",
        "    Answer:\"\"\"\n",
        "    response = query_openrouter(model, prompt)\n",
        "    return response\n",
        "\n",
        "# Сравнение метрик\n",
        "def evaluate_responses(true_answer, generated_answer):\n",
        "    scorer = rouge_scorer.RougeScorer(['rouge1', 'rouge2', 'rougeL'], use_stemmer=True)\n",
        "    rouge_scores = scorer.score(true_answer, generated_answer)\n",
        "\n",
        "    # BLEU\n",
        "    smooth_fn = SmoothingFunction().method1\n",
        "    true_tokens = true_answer.split()\n",
        "    generated_tokens = generated_answer.split()\n",
        "    bleu = sentence_bleu([true_tokens], generated_tokens, smoothing_function=smooth_fn)\n",
        "\n",
        "    # METEOR\n",
        "    meteor = meteor_score([true_tokens], generated_tokens)\n",
        "\n",
        "    return {\n",
        "        \"ROUGE-1\": rouge_scores[\"rouge1\"].fmeasure,\n",
        "        \"ROUGE-2\": rouge_scores[\"rouge2\"].fmeasure,\n",
        "        \"ROUGE-L\": rouge_scores[\"rougeL\"].fmeasure,\n",
        "        \"BLEU\": bleu,\n",
        "        \"METEOR\": meteor\n",
        "    }\n",
        "\n",
        "# Основной пайплайн: проверяем только первые три вопроса\n",
        "results = []\n",
        "for i, row in df_test.head(3).iterrows():  # Используем .head(3) для первых трёх строк\n",
        "    question = row[\"question\"]\n",
        "    true_answer = row[\"answer\"]\n",
        "\n",
        "    # Без RAG\n",
        "    prompt_without_rag = f\"\"\"\n",
        "    Answer the user's question.\n",
        "    Question: {question}\n",
        "    Answer:\"\"\"\n",
        "    response_without_rag = query_openrouter(\"deepseek/deepseek-chat\", prompt_without_rag)\n",
        "\n",
        "    # С RAG\n",
        "    response_with_rag = perform_rag(question)\n",
        "\n",
        "    # Оценка\n",
        "    metrics_without_rag = evaluate_responses(true_answer, response_without_rag)\n",
        "    metrics_with_rag = evaluate_responses(true_answer, response_with_rag)\n",
        "\n",
        "    results.append({\n",
        "        \"Question\": question,\n",
        "        \"True Answer\": true_answer,\n",
        "        \"Response without RAG\": response_without_rag,\n",
        "        \"Response with RAG\": response_with_rag,\n",
        "        \"Metrics without RAG\": metrics_without_rag,\n",
        "        \"Metrics with RAG\": metrics_with_rag\n",
        "    })\n",
        "\n",
        "# Создание DataFrame для визуализации\n",
        "results_df = pd.DataFrame(results)\n",
        "print(results_df)\n",
        "query_openrouter"
      ],
      "metadata": {
        "id": "mN0f5bVxrbUY",
        "outputId": "025a1283-fd19-4388-8098-ad0b79df89d7",
        "colab": {
          "base_uri": "https://localhost:8080/",
          "height": 676
        }
      },
      "execution_count": null,
      "outputs": [
        {
          "output_type": "stream",
          "name": "stderr",
          "text": [
            "[nltk_data] Downloading package wordnet to /root/nltk_data...\n",
            "[nltk_data] Downloading package omw-1.4 to /root/nltk_data...\n",
            "[nltk_data] Downloading package punkt to /root/nltk_data...\n",
            "[nltk_data]   Unzipping tokenizers/punkt.zip.\n"
          ]
        },
        {
          "output_type": "stream",
          "name": "stdout",
          "text": [
            "                                            Question  \\\n",
            "0  Is Hirschsprung disease a mendelian or a multi...   \n",
            "1  List signaling molecules (ligands) that intera...   \n",
            "2                   Is the protein Papilin secreted?   \n",
            "\n",
            "                                         True Answer  \\\n",
            "0  Coding sequence mutations in RET, GDNF, EDNRB,...   \n",
            "1  The 7 known EGFR ligands  are: epidermal growt...   \n",
            "2                Yes,  papilin is a secreted protein   \n",
            "\n",
            "                                Response without RAG  \\\n",
            "0  Hirschsprung disease (HSCR) is primarily consi...   \n",
            "1  The epidermal growth factor receptor (EGFR) in...   \n",
            "2  As of the current scientific knowledge, there ...   \n",
            "\n",
            "                                   Response with RAG  \\\n",
            "0  Hirschsprung disease is described as a heterog...   \n",
            "1  Based on the context provided, the signaling m...   \n",
            "2  The context does not provide any information a...   \n",
            "\n",
            "                                 Metrics without RAG  \\\n",
            "0  {'ROUGE-1': 0.2635658914728682, 'ROUGE-2': 0.0...   \n",
            "1  {'ROUGE-1': 0.4716981132075472, 'ROUGE-2': 0.2...   \n",
            "2  {'ROUGE-1': 0.10101010101010101, 'ROUGE-2': 0....   \n",
            "\n",
            "                                    Metrics with RAG  \n",
            "0  {'ROUGE-1': 0.2958579881656805, 'ROUGE-2': 0.0...  \n",
            "1  {'ROUGE-1': 0.17964071856287425, 'ROUGE-2': 0....  \n",
            "2  {'ROUGE-1': 0.24242424242424243, 'ROUGE-2': 0....  \n"
          ]
        },
        {
          "output_type": "execute_result",
          "data": {
            "text/plain": [
              "<function __main__.query_openrouter(model, prompt)>"
            ],
            "text/html": [
              "<div style=\"max-width:800px; border: 1px solid var(--colab-border-color);\"><style>\n",
              "      pre.function-repr-contents {\n",
              "        overflow-x: auto;\n",
              "        padding: 8px 12px;\n",
              "        max-height: 500px;\n",
              "      }\n",
              "\n",
              "      pre.function-repr-contents.function-repr-contents-collapsed {\n",
              "        cursor: pointer;\n",
              "        max-height: 100px;\n",
              "      }\n",
              "    </style>\n",
              "    <pre style=\"white-space: initial; background:\n",
              "         var(--colab-secondary-surface-color); padding: 8px 12px;\n",
              "         border-bottom: 1px solid var(--colab-border-color);\"><b>query_openrouter</b><br/>def query_openrouter(model, prompt)</pre><pre class=\"function-repr-contents function-repr-contents-collapsed\" style=\"\"><a class=\"filepath\" style=\"display:none\" href=\"#\">/content/&lt;ipython-input-22-5c6b87bf395b&gt;</a>&lt;no docstring&gt;</pre></div>"
            ]
          },
          "metadata": {},
          "execution_count": 22
        }
      ]
    },
    {
      "cell_type": "code",
      "source": [
        "results_df"
      ],
      "metadata": {
        "id": "zKAcvz-J8FIt",
        "outputId": "9c2ff70a-80b4-4710-ba64-9f2e874eb591",
        "colab": {
          "base_uri": "https://localhost:8080/",
          "height": 247
        }
      },
      "execution_count": null,
      "outputs": [
        {
          "output_type": "execute_result",
          "data": {
            "text/plain": [
              "                                            Question  \\\n",
              "0  Is Hirschsprung disease a mendelian or a multi...   \n",
              "1  List signaling molecules (ligands) that intera...   \n",
              "2                   Is the protein Papilin secreted?   \n",
              "\n",
              "                                         True Answer  \\\n",
              "0  Coding sequence mutations in RET, GDNF, EDNRB,...   \n",
              "1  The 7 known EGFR ligands  are: epidermal growt...   \n",
              "2                Yes,  papilin is a secreted protein   \n",
              "\n",
              "                                Response without RAG  \\\n",
              "0  Hirschsprung disease (HSCR) is primarily consi...   \n",
              "1  The epidermal growth factor receptor (EGFR) in...   \n",
              "2  As of the current scientific knowledge, there ...   \n",
              "\n",
              "                                   Response with RAG  \\\n",
              "0  Hirschsprung disease is described as a heterog...   \n",
              "1  Based on the context provided, the signaling m...   \n",
              "2  The context does not provide any information a...   \n",
              "\n",
              "                                 Metrics without RAG  \\\n",
              "0  {'ROUGE-1': 0.2635658914728682, 'ROUGE-2': 0.0...   \n",
              "1  {'ROUGE-1': 0.4716981132075472, 'ROUGE-2': 0.2...   \n",
              "2  {'ROUGE-1': 0.10101010101010101, 'ROUGE-2': 0....   \n",
              "\n",
              "                                    Metrics with RAG  \n",
              "0  {'ROUGE-1': 0.2958579881656805, 'ROUGE-2': 0.0...  \n",
              "1  {'ROUGE-1': 0.17964071856287425, 'ROUGE-2': 0....  \n",
              "2  {'ROUGE-1': 0.24242424242424243, 'ROUGE-2': 0....  "
            ],
            "text/html": [
              "\n",
              "  <div id=\"df-651121cc-3f26-4f57-bcff-3b8a76b61e40\" class=\"colab-df-container\">\n",
              "    <div>\n",
              "<style scoped>\n",
              "    .dataframe tbody tr th:only-of-type {\n",
              "        vertical-align: middle;\n",
              "    }\n",
              "\n",
              "    .dataframe tbody tr th {\n",
              "        vertical-align: top;\n",
              "    }\n",
              "\n",
              "    .dataframe thead th {\n",
              "        text-align: right;\n",
              "    }\n",
              "</style>\n",
              "<table border=\"1\" class=\"dataframe\">\n",
              "  <thead>\n",
              "    <tr style=\"text-align: right;\">\n",
              "      <th></th>\n",
              "      <th>Question</th>\n",
              "      <th>True Answer</th>\n",
              "      <th>Response without RAG</th>\n",
              "      <th>Response with RAG</th>\n",
              "      <th>Metrics without RAG</th>\n",
              "      <th>Metrics with RAG</th>\n",
              "    </tr>\n",
              "  </thead>\n",
              "  <tbody>\n",
              "    <tr>\n",
              "      <th>0</th>\n",
              "      <td>Is Hirschsprung disease a mendelian or a multi...</td>\n",
              "      <td>Coding sequence mutations in RET, GDNF, EDNRB,...</td>\n",
              "      <td>Hirschsprung disease (HSCR) is primarily consi...</td>\n",
              "      <td>Hirschsprung disease is described as a heterog...</td>\n",
              "      <td>{'ROUGE-1': 0.2635658914728682, 'ROUGE-2': 0.0...</td>\n",
              "      <td>{'ROUGE-1': 0.2958579881656805, 'ROUGE-2': 0.0...</td>\n",
              "    </tr>\n",
              "    <tr>\n",
              "      <th>1</th>\n",
              "      <td>List signaling molecules (ligands) that intera...</td>\n",
              "      <td>The 7 known EGFR ligands  are: epidermal growt...</td>\n",
              "      <td>The epidermal growth factor receptor (EGFR) in...</td>\n",
              "      <td>Based on the context provided, the signaling m...</td>\n",
              "      <td>{'ROUGE-1': 0.4716981132075472, 'ROUGE-2': 0.2...</td>\n",
              "      <td>{'ROUGE-1': 0.17964071856287425, 'ROUGE-2': 0....</td>\n",
              "    </tr>\n",
              "    <tr>\n",
              "      <th>2</th>\n",
              "      <td>Is the protein Papilin secreted?</td>\n",
              "      <td>Yes,  papilin is a secreted protein</td>\n",
              "      <td>As of the current scientific knowledge, there ...</td>\n",
              "      <td>The context does not provide any information a...</td>\n",
              "      <td>{'ROUGE-1': 0.10101010101010101, 'ROUGE-2': 0....</td>\n",
              "      <td>{'ROUGE-1': 0.24242424242424243, 'ROUGE-2': 0....</td>\n",
              "    </tr>\n",
              "  </tbody>\n",
              "</table>\n",
              "</div>\n",
              "    <div class=\"colab-df-buttons\">\n",
              "\n",
              "  <div class=\"colab-df-container\">\n",
              "    <button class=\"colab-df-convert\" onclick=\"convertToInteractive('df-651121cc-3f26-4f57-bcff-3b8a76b61e40')\"\n",
              "            title=\"Convert this dataframe to an interactive table.\"\n",
              "            style=\"display:none;\">\n",
              "\n",
              "  <svg xmlns=\"http://www.w3.org/2000/svg\" height=\"24px\" viewBox=\"0 -960 960 960\">\n",
              "    <path d=\"M120-120v-720h720v720H120Zm60-500h600v-160H180v160Zm220 220h160v-160H400v160Zm0 220h160v-160H400v160ZM180-400h160v-160H180v160Zm440 0h160v-160H620v160ZM180-180h160v-160H180v160Zm440 0h160v-160H620v160Z\"/>\n",
              "  </svg>\n",
              "    </button>\n",
              "\n",
              "  <style>\n",
              "    .colab-df-container {\n",
              "      display:flex;\n",
              "      gap: 12px;\n",
              "    }\n",
              "\n",
              "    .colab-df-convert {\n",
              "      background-color: #E8F0FE;\n",
              "      border: none;\n",
              "      border-radius: 50%;\n",
              "      cursor: pointer;\n",
              "      display: none;\n",
              "      fill: #1967D2;\n",
              "      height: 32px;\n",
              "      padding: 0 0 0 0;\n",
              "      width: 32px;\n",
              "    }\n",
              "\n",
              "    .colab-df-convert:hover {\n",
              "      background-color: #E2EBFA;\n",
              "      box-shadow: 0px 1px 2px rgba(60, 64, 67, 0.3), 0px 1px 3px 1px rgba(60, 64, 67, 0.15);\n",
              "      fill: #174EA6;\n",
              "    }\n",
              "\n",
              "    .colab-df-buttons div {\n",
              "      margin-bottom: 4px;\n",
              "    }\n",
              "\n",
              "    [theme=dark] .colab-df-convert {\n",
              "      background-color: #3B4455;\n",
              "      fill: #D2E3FC;\n",
              "    }\n",
              "\n",
              "    [theme=dark] .colab-df-convert:hover {\n",
              "      background-color: #434B5C;\n",
              "      box-shadow: 0px 1px 3px 1px rgba(0, 0, 0, 0.15);\n",
              "      filter: drop-shadow(0px 1px 2px rgba(0, 0, 0, 0.3));\n",
              "      fill: #FFFFFF;\n",
              "    }\n",
              "  </style>\n",
              "\n",
              "    <script>\n",
              "      const buttonEl =\n",
              "        document.querySelector('#df-651121cc-3f26-4f57-bcff-3b8a76b61e40 button.colab-df-convert');\n",
              "      buttonEl.style.display =\n",
              "        google.colab.kernel.accessAllowed ? 'block' : 'none';\n",
              "\n",
              "      async function convertToInteractive(key) {\n",
              "        const element = document.querySelector('#df-651121cc-3f26-4f57-bcff-3b8a76b61e40');\n",
              "        const dataTable =\n",
              "          await google.colab.kernel.invokeFunction('convertToInteractive',\n",
              "                                                    [key], {});\n",
              "        if (!dataTable) return;\n",
              "\n",
              "        const docLinkHtml = 'Like what you see? Visit the ' +\n",
              "          '<a target=\"_blank\" href=https://colab.research.google.com/notebooks/data_table.ipynb>data table notebook</a>'\n",
              "          + ' to learn more about interactive tables.';\n",
              "        element.innerHTML = '';\n",
              "        dataTable['output_type'] = 'display_data';\n",
              "        await google.colab.output.renderOutput(dataTable, element);\n",
              "        const docLink = document.createElement('div');\n",
              "        docLink.innerHTML = docLinkHtml;\n",
              "        element.appendChild(docLink);\n",
              "      }\n",
              "    </script>\n",
              "  </div>\n",
              "\n",
              "\n",
              "<div id=\"df-eb67ca35-4304-4f59-88b5-92c03c6eabcb\">\n",
              "  <button class=\"colab-df-quickchart\" onclick=\"quickchart('df-eb67ca35-4304-4f59-88b5-92c03c6eabcb')\"\n",
              "            title=\"Suggest charts\"\n",
              "            style=\"display:none;\">\n",
              "\n",
              "<svg xmlns=\"http://www.w3.org/2000/svg\" height=\"24px\"viewBox=\"0 0 24 24\"\n",
              "     width=\"24px\">\n",
              "    <g>\n",
              "        <path d=\"M19 3H5c-1.1 0-2 .9-2 2v14c0 1.1.9 2 2 2h14c1.1 0 2-.9 2-2V5c0-1.1-.9-2-2-2zM9 17H7v-7h2v7zm4 0h-2V7h2v10zm4 0h-2v-4h2v4z\"/>\n",
              "    </g>\n",
              "</svg>\n",
              "  </button>\n",
              "\n",
              "<style>\n",
              "  .colab-df-quickchart {\n",
              "      --bg-color: #E8F0FE;\n",
              "      --fill-color: #1967D2;\n",
              "      --hover-bg-color: #E2EBFA;\n",
              "      --hover-fill-color: #174EA6;\n",
              "      --disabled-fill-color: #AAA;\n",
              "      --disabled-bg-color: #DDD;\n",
              "  }\n",
              "\n",
              "  [theme=dark] .colab-df-quickchart {\n",
              "      --bg-color: #3B4455;\n",
              "      --fill-color: #D2E3FC;\n",
              "      --hover-bg-color: #434B5C;\n",
              "      --hover-fill-color: #FFFFFF;\n",
              "      --disabled-bg-color: #3B4455;\n",
              "      --disabled-fill-color: #666;\n",
              "  }\n",
              "\n",
              "  .colab-df-quickchart {\n",
              "    background-color: var(--bg-color);\n",
              "    border: none;\n",
              "    border-radius: 50%;\n",
              "    cursor: pointer;\n",
              "    display: none;\n",
              "    fill: var(--fill-color);\n",
              "    height: 32px;\n",
              "    padding: 0;\n",
              "    width: 32px;\n",
              "  }\n",
              "\n",
              "  .colab-df-quickchart:hover {\n",
              "    background-color: var(--hover-bg-color);\n",
              "    box-shadow: 0 1px 2px rgba(60, 64, 67, 0.3), 0 1px 3px 1px rgba(60, 64, 67, 0.15);\n",
              "    fill: var(--button-hover-fill-color);\n",
              "  }\n",
              "\n",
              "  .colab-df-quickchart-complete:disabled,\n",
              "  .colab-df-quickchart-complete:disabled:hover {\n",
              "    background-color: var(--disabled-bg-color);\n",
              "    fill: var(--disabled-fill-color);\n",
              "    box-shadow: none;\n",
              "  }\n",
              "\n",
              "  .colab-df-spinner {\n",
              "    border: 2px solid var(--fill-color);\n",
              "    border-color: transparent;\n",
              "    border-bottom-color: var(--fill-color);\n",
              "    animation:\n",
              "      spin 1s steps(1) infinite;\n",
              "  }\n",
              "\n",
              "  @keyframes spin {\n",
              "    0% {\n",
              "      border-color: transparent;\n",
              "      border-bottom-color: var(--fill-color);\n",
              "      border-left-color: var(--fill-color);\n",
              "    }\n",
              "    20% {\n",
              "      border-color: transparent;\n",
              "      border-left-color: var(--fill-color);\n",
              "      border-top-color: var(--fill-color);\n",
              "    }\n",
              "    30% {\n",
              "      border-color: transparent;\n",
              "      border-left-color: var(--fill-color);\n",
              "      border-top-color: var(--fill-color);\n",
              "      border-right-color: var(--fill-color);\n",
              "    }\n",
              "    40% {\n",
              "      border-color: transparent;\n",
              "      border-right-color: var(--fill-color);\n",
              "      border-top-color: var(--fill-color);\n",
              "    }\n",
              "    60% {\n",
              "      border-color: transparent;\n",
              "      border-right-color: var(--fill-color);\n",
              "    }\n",
              "    80% {\n",
              "      border-color: transparent;\n",
              "      border-right-color: var(--fill-color);\n",
              "      border-bottom-color: var(--fill-color);\n",
              "    }\n",
              "    90% {\n",
              "      border-color: transparent;\n",
              "      border-bottom-color: var(--fill-color);\n",
              "    }\n",
              "  }\n",
              "</style>\n",
              "\n",
              "  <script>\n",
              "    async function quickchart(key) {\n",
              "      const quickchartButtonEl =\n",
              "        document.querySelector('#' + key + ' button');\n",
              "      quickchartButtonEl.disabled = true;  // To prevent multiple clicks.\n",
              "      quickchartButtonEl.classList.add('colab-df-spinner');\n",
              "      try {\n",
              "        const charts = await google.colab.kernel.invokeFunction(\n",
              "            'suggestCharts', [key], {});\n",
              "      } catch (error) {\n",
              "        console.error('Error during call to suggestCharts:', error);\n",
              "      }\n",
              "      quickchartButtonEl.classList.remove('colab-df-spinner');\n",
              "      quickchartButtonEl.classList.add('colab-df-quickchart-complete');\n",
              "    }\n",
              "    (() => {\n",
              "      let quickchartButtonEl =\n",
              "        document.querySelector('#df-eb67ca35-4304-4f59-88b5-92c03c6eabcb button');\n",
              "      quickchartButtonEl.style.display =\n",
              "        google.colab.kernel.accessAllowed ? 'block' : 'none';\n",
              "    })();\n",
              "  </script>\n",
              "</div>\n",
              "    </div>\n",
              "  </div>\n"
            ],
            "application/vnd.google.colaboratory.intrinsic+json": {
              "type": "dataframe",
              "variable_name": "results_df",
              "summary": "{\n  \"name\": \"results_df\",\n  \"rows\": 3,\n  \"fields\": [\n    {\n      \"column\": \"Question\",\n      \"properties\": {\n        \"dtype\": \"string\",\n        \"num_unique_values\": 3,\n        \"samples\": [\n          \"Is Hirschsprung disease a mendelian or a multifactorial disorder?\",\n          \"List signaling molecules (ligands) that interact with the receptor EGFR?\",\n          \"Is the protein Papilin secreted?\"\n        ],\n        \"semantic_type\": \"\",\n        \"description\": \"\"\n      }\n    },\n    {\n      \"column\": \"True Answer\",\n      \"properties\": {\n        \"dtype\": \"string\",\n        \"num_unique_values\": 3,\n        \"samples\": [\n          \"Coding sequence mutations in RET, GDNF, EDNRB, EDN3, and SOX10 are involved in the development of Hirschsprung disease. The majority of these genes was shown to be related to Mendelian syndromic forms of Hirschsprung's disease, whereas the non-Mendelian inheritance of sporadic non-syndromic Hirschsprung disease proved to be complex; involvement of multiple loci was demonstrated in a multiplicative model.\",\n          \"The 7 known EGFR ligands  are: epidermal growth factor (EGF), betacellulin (BTC), epiregulin (EPR), heparin-binding EGF (HB-EGF), transforming growth factor-\\u03b1 [TGF-\\u03b1], amphiregulin (AREG) and epigen (EPG).\",\n          \"Yes,  papilin is a secreted protein\"\n        ],\n        \"semantic_type\": \"\",\n        \"description\": \"\"\n      }\n    },\n    {\n      \"column\": \"Response without RAG\",\n      \"properties\": {\n        \"dtype\": \"string\",\n        \"num_unique_values\": 3,\n        \"samples\": [\n          \"Hirschsprung disease (HSCR) is primarily considered a **multifactorial disorder**, meaning it arises from a combination of genetic and environmental factors. While there are rare cases where HSCR follows a Mendelian inheritance pattern (e.g., mutations in the *RET* gene), most cases involve complex interactions between multiple genes and environmental influences. Thus, it is not strictly a Mendelian disorder but rather a condition with both genetic and multifactorial components.\",\n          \"The epidermal growth factor receptor (EGFR) interacts with several signaling molecules (ligands) that activate its signaling pathway. These ligands include:\\n\\n1. **Epidermal Growth Factor (EGF)**  \\n2. **Transforming Growth Factor-alpha (TGF-\\u03b1)**  \\n3. **Amphiregulin (AREG)**  \\n4. **Heparin-binding EGF-like Growth Factor (HB-EGF)**  \\n5. **Betacellulin (BTC)**  \\n6. **Epiregulin (EPR)**  \\n7. **Epigen**  \\n\\nThese ligands bind to the extracellular domain of EGFR, leading to receptor dimerization, autophosphorylation, and activation of downstream signaling pathways involved in cell growth, proliferation, and survival.\",\n          \"As of the current scientific knowledge, there is no widely recognized protein named \\\"Papilin.\\\" If you are referring to a specific protein or a protein from a particular organism, it might be a less-known or hypothetical protein. If you have more context or details about the protein, it would be helpful to provide a more accurate answer regarding whether it is secreted or not. Generally, proteins are secreted if they are produced in cells and then transported outside the cell or into the extracellular space, often through mechanisms involving the secretory pathway.\"\n        ],\n        \"semantic_type\": \"\",\n        \"description\": \"\"\n      }\n    },\n    {\n      \"column\": \"Response with RAG\",\n      \"properties\": {\n        \"dtype\": \"string\",\n        \"num_unique_values\": 3,\n        \"samples\": [\n          \"Hirschsprung disease is described as a heterogeneous disorder with familial cases mapping to at least three loci, and homozygous mutations in the endothelin-B receptor gene (EDNRB) have been identified in humans and mice with Hirschsprung disease type 2 (HSCR2). This suggests a genetic basis involving specific loci and mutations, which aligns with a Mendelian inheritance pattern. However, the context does not explicitly state whether it is purely Mendelian or multifactorial. Based on the provided information, Hirschsprung disease appears to have a strong genetic component consistent with Mendelian inheritance, but the possibility of multifactorial influences is not ruled out. For a definitive answer, additional information would be needed.\",\n          \"Based on the context provided, the signaling molecules (ligands) that interact with the EGFR (Epidermal Growth Factor Receptor) include:\\n\\n1. **Prolidase (PEPD)**: A cytosolic enzyme that directly binds to and activates EGFR, stimulating downstream signaling proteins. It is unique in that it does not possess an EGF motif and is not synthesized as a transmembrane precursor.\\n\\n2. **Tumor-associated trypsinogen inhibitor (TATI/SPINK1)**: An EGFR ligand that has been shown to be an independent prognostic marker in colorectal cancer (CRC).\\n\\n3. **Epidermal Growth Factor (EGF)**: Although not explicitly mentioned in the context, it is implied as a known EGFR ligand since PEPD binding to EGFR can be blocked by EGF.\\n\\nThese are the ligands mentioned in the context that interact with EGFR. If there are other known ligands not mentioned here, they are not covered in the provided context.\",\n          \"The context does not provide any information about the protein Papilin or whether it is secreted. Therefore, I cannot answer the question based on the given context.\"\n        ],\n        \"semantic_type\": \"\",\n        \"description\": \"\"\n      }\n    },\n    {\n      \"column\": \"Metrics without RAG\",\n      \"properties\": {\n        \"dtype\": \"object\",\n        \"semantic_type\": \"\",\n        \"description\": \"\"\n      }\n    },\n    {\n      \"column\": \"Metrics with RAG\",\n      \"properties\": {\n        \"dtype\": \"object\",\n        \"semantic_type\": \"\",\n        \"description\": \"\"\n      }\n    }\n  ]\n}"
            }
          },
          "metadata": {},
          "execution_count": 23
        }
      ]
    },
    {
      "cell_type": "code",
      "source": [
        "import faiss\n",
        "from sklearn.feature_extraction.text import TfidfVectorizer\n",
        "import numpy as np\n",
        "import pandas as pd\n",
        "import requests\n",
        "import json\n",
        "from nltk.translate.bleu_score import sentence_bleu, SmoothingFunction\n",
        "from nltk.translate.meteor_score import meteor_score\n",
        "from rouge_score import rouge_scorer\n",
        "from google.colab import userdata\n",
        "import nltk\n",
        "\n",
        "# Загрузка необходимых ресурсов\n",
        "nltk.download('wordnet')\n",
        "nltk.download('omw-1.4')\n",
        "nltk.download('punkt')\n",
        "\n",
        "# Загрузка данных\n",
        "df = pd.read_parquet(\"hf://datasets/rag-datasets/rag-mini-bioasq/data/passages.parquet/part.0.parquet\")\n",
        "df_test = pd.read_parquet(\"hf://datasets/rag-datasets/rag-mini-bioasq/data/test.parquet/part.0.parquet\")\n",
        "\n",
        "# Инициализация OpenRouter API\n",
        "OPENROUTER_API_KEY = userdata.get('OPEN_Router')\n",
        "\n",
        "def query_openrouter(model, prompt):\n",
        "    headers = {\n",
        "        \"Authorization\": f\"Bearer {OPENROUTER_API_KEY}\",\n",
        "        \"Content-Type\": \"application/json\",\n",
        "    }\n",
        "    data = {\n",
        "        \"model\": model,\n",
        "        \"messages\": [\n",
        "            {\"role\": \"user\", \"content\": prompt}\n",
        "        ]\n",
        "    }\n",
        "    response = requests.post(\n",
        "        url=\"https://openrouter.ai/api/v1/chat/completions\",\n",
        "        headers=headers,\n",
        "        data=json.dumps(data)\n",
        "    )\n",
        "    if response.status_code == 200:\n",
        "        data = response.json()\n",
        "        return data.get(\"choices\", [{}])[0].get(\"message\", {}).get(\"content\", \"No content returned\")\n",
        "    else:\n",
        "        raise ValueError(f\"Error {response.status_code}: {response.text}\")\n",
        "\n",
        "# Подготовка векторной базы данных Faiss\n",
        "def create_faiss_index(corpus):\n",
        "    vectorizer = TfidfVectorizer(stop_words=\"english\", max_features=768)\n",
        "    vectors = vectorizer.fit_transform(corpus).toarray()\n",
        "    index = faiss.IndexFlatL2(vectors.shape[1])  # Создание векторного индекса\n",
        "    index.add(np.array(vectors, dtype=np.float32))  # Добавление векторов в индекс\n",
        "    return index, vectorizer\n",
        "\n",
        "faiss_index, vectorizer = create_faiss_index(df[\"passage\"])\n",
        "\n",
        "# Функция для извлечения релевантных документов\n",
        "def retrieve_documents(query, index, vectorizer, k=5):\n",
        "    query_vector = vectorizer.transform([query]).toarray().astype(np.float32)\n",
        "    distances, indices = index.search(query_vector, k)\n",
        "    return [df.iloc[i][\"passage\"] for i in indices[0]]\n",
        "\n",
        "# Функция RAG\n",
        "def perform_rag(question, index, vectorizer, model=\"deepseek/deepseek-chat\", k=5):\n",
        "    # Шаг 1: Ретривинг документов\n",
        "    retrieved_docs = retrieve_documents(question, index, vectorizer, k)\n",
        "    context = \" \".join(retrieved_docs)\n",
        "\n",
        "    # Шаг 2: Генерация ответа\n",
        "    prompt = f\"\"\"\n",
        "    Answer the user's question.\n",
        "    Use only the information from the context. If the context does not contain enough information to answer the question, let the user know.\n",
        "    Context: {context}\n",
        "    Question: {question}\n",
        "    Answer:\"\"\"\n",
        "    response = query_openrouter(model, prompt)\n",
        "    return response\n",
        "\n",
        "# Сравнение метрик\n",
        "def evaluate_responses(true_answer, generated_answer):\n",
        "    scorer = rouge_scorer.RougeScorer(['rouge1', 'rouge2', 'rougeL'], use_stemmer=True)\n",
        "    rouge_scores = scorer.score(true_answer, generated_answer)\n",
        "\n",
        "    # BLEU\n",
        "    smooth_fn = SmoothingFunction().method1\n",
        "    true_tokens = true_answer.split()\n",
        "    generated_tokens = generated_answer.split()\n",
        "    bleu = sentence_bleu([true_tokens], generated_tokens, smoothing_function=smooth_fn)\n",
        "\n",
        "    # METEOR\n",
        "    meteor = meteor_score([true_tokens], generated_tokens)\n",
        "\n",
        "    return {\n",
        "        \"ROUGE-1\": rouge_scores[\"rouge1\"].fmeasure,\n",
        "        \"ROUGE-2\": rouge_scores[\"rouge2\"].fmeasure,\n",
        "        \"ROUGE-L\": rouge_scores[\"rougeL\"].fmeasure,\n",
        "        \"BLEU\": bleu,\n",
        "        \"METEOR\": meteor\n",
        "    }\n",
        "\n",
        "# Основной пайплайн: проверяем первые 10 вопросов\n",
        "results = []\n",
        "for i, row in df_test.head(10).iterrows():\n",
        "    question = row[\"question\"]\n",
        "    true_answer = row[\"answer\"]\n",
        "\n",
        "    # С RAG\n",
        "    response_with_rag = perform_rag(question, faiss_index, vectorizer)\n",
        "\n",
        "    # Оценка\n",
        "    metrics_with_rag = evaluate_responses(true_answer, response_with_rag)\n",
        "    results.append(metrics_with_rag)\n",
        "\n",
        "# Средние значения по метрикам\n",
        "avg_metrics = {metric: np.mean([res[metric] for res in results]) for metric in results[0].keys()}\n",
        "avg_metrics[\"Vector Store\"] = \"Faiss\"\n",
        "\n",
        "# Создание итогового DataFrame\n",
        "final_df = pd.DataFrame([avg_metrics])\n",
        "\n",
        "# Упорядочивание столбцов\n",
        "cols = [\"Vector Store\"] + [col for col in final_df.columns if col != \"Vector Store\"]\n",
        "final_df = final_df[cols]\n",
        "\n",
        "print(final_df)\n"
      ],
      "metadata": {
        "colab": {
          "base_uri": "https://localhost:8080/"
        },
        "id": "yg7jArU3sUVR",
        "outputId": "78e36b5d-e20c-4656-a696-bfe7a180b432"
      },
      "execution_count": null,
      "outputs": [
        {
          "output_type": "stream",
          "name": "stderr",
          "text": [
            "[nltk_data] Downloading package wordnet to /root/nltk_data...\n",
            "[nltk_data] Downloading package omw-1.4 to /root/nltk_data...\n",
            "[nltk_data] Downloading package punkt to /root/nltk_data...\n",
            "[nltk_data]   Unzipping tokenizers/punkt.zip.\n",
            "/usr/local/lib/python3.10/dist-packages/huggingface_hub/utils/_auth.py:94: UserWarning: \n",
            "The secret `HF_TOKEN` does not exist in your Colab secrets.\n",
            "To authenticate with the Hugging Face Hub, create a token in your settings tab (https://huggingface.co/settings/tokens), set it as secret in your Google Colab and restart your session.\n",
            "You will be able to reuse this secret in all of your notebooks.\n",
            "Please note that authentication is recommended but still optional to access public models or datasets.\n",
            "  warnings.warn(\n"
          ]
        },
        {
          "output_type": "stream",
          "name": "stdout",
          "text": [
            "  Vector Store  ROUGE-1   ROUGE-2   ROUGE-L      BLEU    METEOR\n",
            "0        Faiss  0.18875  0.069871  0.166558  0.030061  0.163259\n"
          ]
        }
      ]
    },
    {
      "cell_type": "code",
      "source": [
        "# Функция генерации без RAG\n",
        "def perform_without_rag(question, model=\"deepseek/deepseek-chat\"):\n",
        "    prompt = f\"\"\"\n",
        "    Answer the user's question directly based on your knowledge.\n",
        "    Question: {question}\n",
        "    Answer:\"\"\"\n",
        "    response = query_openrouter(model, prompt)\n",
        "    return response\n",
        "\n",
        "# Сравнение метрик (функция уже определена ранее)\n",
        "# def evaluate_responses(true_answer, generated_answer): ...\n",
        "\n",
        "# Основной цикл: проверяем те же первые 10 вопросов для подхода без RAG\n",
        "results_without_rag = []\n",
        "\n",
        "for i, row in df_test.head(10).iterrows():\n",
        "    question = row[\"question\"]\n",
        "    true_answer = row[\"answer\"]\n",
        "\n",
        "    # Генерация ответа без RAG\n",
        "    response_without_rag = perform_without_rag(question)\n",
        "\n",
        "    # Оценка метрик\n",
        "    metrics_without_rag = evaluate_responses(true_answer, response_without_rag)\n",
        "    results_without_rag.append(metrics_without_rag)\n",
        "\n",
        "# Средние значения по метрикам для без RAG\n",
        "avg_metrics_without_rag = {metric: np.mean([res[metric] for res in results_without_rag]) for metric in results_without_rag[0].keys()}\n",
        "avg_metrics_without_rag[\"Vector Store\"] = \"Without RAG\"\n",
        "\n",
        "# Преобразование в строку DataFrame\n",
        "new_row = pd.DataFrame([avg_metrics_without_rag])\n",
        "\n",
        "# Добавление новой строки к существующему DataFrame\n",
        "final_df = pd.concat([final_df, new_row], ignore_index=True)\n",
        "\n",
        "# Упорядочивание столбцов\n",
        "cols = [\"Vector Store\"] + [col for col in final_df.columns if col != \"Vector Store\"]\n",
        "final_df = final_df[cols]\n",
        "\n",
        "# Вывод обновленного DataFrame\n",
        "print(final_df)\n"
      ],
      "metadata": {
        "colab": {
          "base_uri": "https://localhost:8080/"
        },
        "id": "JAlNI2Ylt40g",
        "outputId": "3be66247-4fdd-46d0-e441-dd19b6acdf6d"
      },
      "execution_count": null,
      "outputs": [
        {
          "output_type": "stream",
          "name": "stdout",
          "text": [
            "  Vector Store   ROUGE-1   ROUGE-2   ROUGE-L      BLEU    METEOR\n",
            "0        Faiss  0.188750  0.069871  0.166558  0.030061  0.163259\n",
            "1  Without RAG  0.275941  0.117323  0.211804  0.014378  0.205294\n"
          ]
        }
      ]
    },
    {
      "cell_type": "code",
      "source": [
        "import hnswlib\n",
        "\n",
        "# Создание индекса HNSWlib\n",
        "def create_hnsw_index(corpus, dim=768, space=\"l2\"):\n",
        "    vectorizer = TfidfVectorizer(stop_words=\"english\", max_features=dim)\n",
        "    vectors = vectorizer.fit_transform(corpus).toarray()\n",
        "\n",
        "    index = hnswlib.Index(space=space, dim=dim)\n",
        "    index.init_index(max_elements=len(vectors), ef_construction=200, M=16)\n",
        "    index.add_items(vectors)\n",
        "\n",
        "    return index, vectorizer\n",
        "\n",
        "hnsw_index, vectorizer = create_hnsw_index(df[\"passage\"])\n",
        "\n",
        "def retrieve_documents_hnsw(query, index, vectorizer, k=5):\n",
        "    query_vector = vectorizer.transform([query]).toarray()[0]\n",
        "    labels, _ = index.knn_query(query_vector, k=k)\n",
        "\n",
        "    # Приводим индексы к целым числам\n",
        "    labels = labels[0].astype(int)\n",
        "\n",
        "    # Проверяем, что df — это DataFrame и столбец \"passage\" существует\n",
        "    assert isinstance(df, pd.DataFrame), \"df должен быть pandas DataFrame\"\n",
        "    assert \"passage\" in df.columns, \"Столбец 'passage' не найден в DataFrame\"\n",
        "\n",
        "    # Извлекаем документы\n",
        "    return [df.iloc[i][\"passage\"] for i in labels]\n",
        "\n",
        "# RAG с HNSWlib\n",
        "def perform_rag_hnsw(question, index, vectorizer, model=\"deepseek/deepseek-chat\", k=5):\n",
        "    retrieved_docs = retrieve_documents_hnsw(question, index, vectorizer, k)\n",
        "    context = \" \".join(retrieved_docs)\n",
        "    prompt = f\"\"\"\n",
        "    Answer the user's question.\n",
        "    Use only the information from the context. If the context does not contain enough information to answer the question, let the user know.\n",
        "    Context: {context}\n",
        "    Question: {question}\n",
        "    Answer:\"\"\"\n",
        "    response = query_openrouter(model, prompt)\n",
        "    return response\n",
        "\n",
        "# Подготовка данных и расчет метрик для HNSWlib\n",
        "results_hnsw = []\n",
        "for i, row in df_test.head(10).iterrows():\n",
        "    question = row[\"question\"]\n",
        "    true_answer = row[\"answer\"]\n",
        "    response_with_rag_hnsw = perform_rag_hnsw(question, hnsw_index, vectorizer)\n",
        "    metrics_with_rag_hnsw = evaluate_responses(true_answer, response_with_rag_hnsw)\n",
        "    results_hnsw.append(metrics_with_rag_hnsw)\n",
        "\n",
        "# Усреднение метрик\n",
        "avg_metrics_hnsw = pd.DataFrame(results_hnsw).mean().to_dict()\n",
        "avg_metrics_hnsw[\"Vector Store\"] = \"HNSWlib\"\n",
        "\n",
        "# Добавление строки к существующему DataFrame\n",
        "new_row_hnsw = pd.DataFrame([avg_metrics_hnsw])\n",
        "final_df = pd.concat([final_df, new_row_hnsw], ignore_index=True)\n",
        "\n",
        "print(final_df)\n",
        "\n"
      ],
      "metadata": {
        "colab": {
          "base_uri": "https://localhost:8080/"
        },
        "id": "HWuy-Yhh1REK",
        "outputId": "4355b636-9230-422e-cfe7-70c051c0df73"
      },
      "execution_count": null,
      "outputs": [
        {
          "output_type": "stream",
          "name": "stdout",
          "text": [
            "  Vector Store   ROUGE-1   ROUGE-2   ROUGE-L      BLEU    METEOR\n",
            "0        Faiss  0.188750  0.069871  0.166558  0.030061  0.163259\n",
            "1  Without RAG  0.275941  0.117323  0.211804  0.014378  0.205294\n",
            "2      HNSWlib  0.193187  0.080407  0.173523  0.024828  0.179901\n"
          ]
        }
      ]
    },
    {
      "cell_type": "code",
      "source": [
        "final_df"
      ],
      "metadata": {
        "id": "7-mfyXRR61ym",
        "outputId": "6a200e62-2bcf-4d46-a8bf-df065d18d3f7",
        "colab": {
          "base_uri": "https://localhost:8080/",
          "height": 141
        }
      },
      "execution_count": null,
      "outputs": [
        {
          "output_type": "error",
          "ename": "NameError",
          "evalue": "name 'final_df' is not defined",
          "traceback": [
            "\u001b[0;31m---------------------------------------------------------------------------\u001b[0m",
            "\u001b[0;31mNameError\u001b[0m                                 Traceback (most recent call last)",
            "\u001b[0;32m<ipython-input-2-efce9ad3c068>\u001b[0m in \u001b[0;36m<cell line: 1>\u001b[0;34m()\u001b[0m\n\u001b[0;32m----> 1\u001b[0;31m \u001b[0mfinal_df\u001b[0m\u001b[0;34m\u001b[0m\u001b[0;34m\u001b[0m\u001b[0m\n\u001b[0m",
            "\u001b[0;31mNameError\u001b[0m: name 'final_df' is not defined"
          ]
        }
      ]
    },
    {
      "cell_type": "code",
      "source": [
        "pip install pinecone-client -q"
      ],
      "metadata": {
        "id": "rXP3ahq0ks47",
        "outputId": "38e2259b-ad07-4c0b-95a8-84e87d280794",
        "colab": {
          "base_uri": "https://localhost:8080/"
        }
      },
      "execution_count": null,
      "outputs": [
        {
          "output_type": "stream",
          "name": "stdout",
          "text": [
            "\u001b[?25l   \u001b[90m━━━━━━━━━━━━━━━━━━━━━━━━━━━━━━━━━━━━━━━━\u001b[0m \u001b[32m0.0/244.8 kB\u001b[0m \u001b[31m?\u001b[0m eta \u001b[36m-:--:--\u001b[0m\r\u001b[2K   \u001b[90m━━━━━━━━━━━━━━━━━━━━━━━━━━━━━━━━━━━━━━━━\u001b[0m \u001b[32m244.8/244.8 kB\u001b[0m \u001b[31m7.9 MB/s\u001b[0m eta \u001b[36m0:00:00\u001b[0m\n",
            "\u001b[?25h\u001b[?25l   \u001b[90m━━━━━━━━━━━━━━━━━━━━━━━━━━━━━━━━━━━━━━━━\u001b[0m \u001b[32m0.0/85.4 kB\u001b[0m \u001b[31m?\u001b[0m eta \u001b[36m-:--:--\u001b[0m\r\u001b[2K   \u001b[90m━━━━━━━━━━━━━━━━━━━━━━━━━━━━━━━━━━━━━━━━\u001b[0m \u001b[32m85.4/85.4 kB\u001b[0m \u001b[31m6.2 MB/s\u001b[0m eta \u001b[36m0:00:00\u001b[0m\n",
            "\u001b[?25h"
          ]
        }
      ]
    },
    {
      "cell_type": "code",
      "source": [
        "from pinecone import Pinecone, ServerlessSpec\n",
        "from sklearn.feature_extraction.text import TfidfVectorizer\n",
        "import pandas as pd\n",
        "\n",
        "# Замените на ваш API-ключ\n",
        "PineCONE_api=userdata.get('Pinecon')\n",
        "\n",
        "# Создание клиента Pinecone\n",
        "pc = Pinecone(api_key=PineCONE_api)\n",
        "\n",
        "# Название индекса\n",
        "index_name = \"for-simple-rag\"\n",
        "\n",
        "# Создание индекса, если он ещё не создан\n",
        "if index_name not in pc.list_indexes():\n",
        "    pc.create_index(\n",
        "        name=index_name,\n",
        "        dimension=768,  # Размерность векторов\n",
        "        metric=\"cosine\",  # Метрика для поиска\n",
        "        spec=ServerlessSpec(cloud=\"aws\", region=\"us-east-1\")  # Укажите ваш регион\n",
        "    )\n",
        "\n",
        "# Загрузка индекса\n",
        "pinecone_index = pc.load_index(index_name)\n",
        "\n",
        "# Пример данных\n",
        "df = pd.DataFrame({\"passage\": [\"This is a sample text.\", \"Another example sentence.\"]})\n",
        "\n",
        "# Заполнение индекса Pinecone\n",
        "vectorizer = TfidfVectorizer(stop_words=\"english\", max_features=768)\n",
        "vectors = vectorizer.fit_transform(df[\"passage\"]).toarray()\n",
        "\n",
        "# Добавление в Pinecone\n",
        "for i, vector in enumerate(vectors):\n",
        "    pinecone_index.upsert([(str(i), vector.tolist())])\n",
        "\n",
        "# Функция для поиска документов в Pinecone\n",
        "def retrieve_documents_pinecone(query, index, vectorizer, k=5):\n",
        "    query_vector = vectorizer.transform([query]).toarray()[0]\n",
        "    results = index.query(query_vector.tolist(), top_k=k, include_metadata=True)\n",
        "    return [df.iloc[int(match[\"id\"])][\"passage\"] for match in results[\"matches\"]]\n",
        "\n",
        "# RAG с Pinecone\n",
        "def perform_rag_pinecone(question, index, vectorizer, model=\"deepseek/deepseek-chat\", k=5):\n",
        "    retrieved_docs = retrieve_documents_pinecone(question, index, vectorizer, k)\n",
        "    context = \" \".join(retrieved_docs)\n",
        "    prompt = f\"\"\"\n",
        "    Answer the user's question.\n",
        "    Use only the information from the context. If the context does not contain enough information to answer the question, let the user know.\n",
        "    Context: {context}\n",
        "    Question: {question}\n",
        "    Answer:\"\"\"\n",
        "    response = query_openrouter(model, prompt)\n",
        "    return response\n",
        "\n",
        "# Пример данных для тестирования\n",
        "df_test = pd.DataFrame({\n",
        "    \"question\": [\"What is the sample text?\", \"Provide an example sentence.\"],\n",
        "    \"answer\": [\"This is a sample text.\", \"Another example sentence.\"]\n",
        "})\n",
        "\n",
        "# Подготовка данных и расчет метрик\n",
        "results_pinecone = []\n",
        "for i, row in df_test.head(10).iterrows():\n",
        "    question = row[\"question\"]\n",
        "    true_answer = row[\"answer\"]\n",
        "    response_with_rag_pinecone = perform_rag_pinecone(question, pinecone_index, vectorizer)\n",
        "    metrics_with_rag_pinecone = evaluate_responses(true_answer, response_with_rag_pinecone)\n",
        "    results_pinecone.append(metrics_with_rag_pinecone)\n",
        "\n",
        "# Усреднение метрик\n",
        "avg_metrics_pinecone = pd.DataFrame(results_pinecone).mean().to_dict()\n",
        "avg_metrics_pinecone[\"Vector Store\"] = \"Pinecone\"\n",
        "\n",
        "# Добавление строки к существующему DataFrame\n",
        "new_row_pinecone = pd.DataFrame([avg_metrics_pinecone])\n",
        "final_df = pd.concat([final_df, new_row_pinecone], ignore_index=True)\n",
        "\n",
        "print(final_df)\n",
        "\n"
      ],
      "metadata": {
        "id": "VaF-1bEKkDxk",
        "outputId": "a46e0e0f-10f5-44fb-e110-32fde6e7248a",
        "colab": {
          "base_uri": "https://localhost:8080/",
          "height": 211
        }
      },
      "execution_count": null,
      "outputs": [
        {
          "output_type": "error",
          "ename": "AttributeError",
          "evalue": "'Pinecone' object has no attribute 'index'",
          "traceback": [
            "\u001b[0;31m---------------------------------------------------------------------------\u001b[0m",
            "\u001b[0;31mAttributeError\u001b[0m                            Traceback (most recent call last)",
            "\u001b[0;32m<ipython-input-11-a432620d686c>\u001b[0m in \u001b[0;36m<cell line: 27>\u001b[0;34m()\u001b[0m\n\u001b[1;32m     25\u001b[0m \u001b[0;34m\u001b[0m\u001b[0m\n\u001b[1;32m     26\u001b[0m \u001b[0;31m# Получение индекса\u001b[0m\u001b[0;34m\u001b[0m\u001b[0;34m\u001b[0m\u001b[0m\n\u001b[0;32m---> 27\u001b[0;31m \u001b[0mpinecone_index\u001b[0m \u001b[0;34m=\u001b[0m \u001b[0mpc\u001b[0m\u001b[0;34m.\u001b[0m\u001b[0mindex\u001b[0m\u001b[0;34m(\u001b[0m\u001b[0mindex_name\u001b[0m\u001b[0;34m)\u001b[0m\u001b[0;34m\u001b[0m\u001b[0;34m\u001b[0m\u001b[0m\n\u001b[0m\u001b[1;32m     28\u001b[0m \u001b[0;34m\u001b[0m\u001b[0m\n\u001b[1;32m     29\u001b[0m \u001b[0;31m# Пример данных\u001b[0m\u001b[0;34m\u001b[0m\u001b[0;34m\u001b[0m\u001b[0m\n",
            "\u001b[0;31mAttributeError\u001b[0m: 'Pinecone' object has no attribute 'index'"
          ]
        }
      ]
    },
    {
      "cell_type": "markdown",
      "source": [
        "# C векторной БД (сравнение моделей)"
      ],
      "metadata": {
        "id": "qawxI2Sm0c8c"
      }
    },
    {
      "cell_type": "code",
      "source": [
        "import pandas as pd\n",
        "import numpy as np\n",
        "import nltk\n",
        "from sklearn.feature_extraction.text import TfidfVectorizer\n",
        "import faiss\n",
        "from nltk.translate.bleu_score import sentence_bleu, SmoothingFunction\n",
        "from nltk.translate.meteor_score import meteor_score\n",
        "from rouge_score import rouge_scorer\n",
        "import requests\n",
        "import json\n",
        "\n",
        "nltk.download('wordnet')\n",
        "nltk.download('omw-1.4')\n",
        "nltk.download('punkt')\n",
        "\n",
        "# Загрузка данных\n",
        "df = pd.read_parquet(\"hf://datasets/rag-datasets/rag-mini-bioasq/data/passages.parquet/part.0.parquet\")\n",
        "df_test = pd.read_parquet(\"hf://datasets/rag-datasets/rag-mini-bioasq/data/test.parquet/part.0.parquet\")\n",
        "df_test['relevant_passage_ids'] = df_test['relevant_passage_ids'].apply(ast.literal_eval)\n",
        "\n",
        "OPENROUTER_API_KEY = OPENROUTER_API_KEY = userdata.get('OPEN_Router')  # Укажите ваш ключ API\n",
        "\n",
        "# Подготовка Faiss\n",
        "def create_faiss_index(corpus):\n",
        "    vectorizer = TfidfVectorizer(stop_words=\"english\", max_features=768)\n",
        "    vectors = vectorizer.fit_transform(corpus).toarray()\n",
        "    index = faiss.IndexFlatL2(vectors.shape[1])  # Векторный индекс\n",
        "    index.add(np.array(vectors, dtype=np.float32))  # Добавление векторов\n",
        "    return index, vectorizer\n",
        "\n",
        "faiss_index, vectorizer = create_faiss_index(df[\"passage\"])\n",
        "\n",
        "def retrieve_documents(query, index, vectorizer, k=5):\n",
        "    query_vector = vectorizer.transform([query]).toarray().astype(np.float32)\n",
        "    distances, indices = index.search(query_vector, k)\n",
        "    return [df.iloc[i][\"passage\"] for i in indices[0]]\n",
        "\n",
        "# Функция для вызова OpenRouter\n",
        "def query_openrouter(model, prompt):\n",
        "    headers = {\n",
        "        \"Authorization\": f\"Bearer {OPENROUTER_API_KEY}\",\n",
        "        \"Content-Type\": \"application/json\",\n",
        "    }\n",
        "    data = {\n",
        "        \"model\": model,\n",
        "        \"messages\": [\n",
        "            {\"role\": \"user\", \"content\": prompt}\n",
        "        ]\n",
        "    }\n",
        "    response = requests.post(\n",
        "        url=\"https://openrouter.ai/api/v1/chat/completions\",\n",
        "        headers=headers,\n",
        "        data=json.dumps(data)\n",
        "    )\n",
        "    if response.status_code == 200:\n",
        "        data = response.json()\n",
        "        return data.get(\"choices\", [{}])[0].get(\"message\", {}).get(\"content\", \"No content returned\")\n",
        "    else:\n",
        "        raise ValueError(f\"Error {response.status_code}: {response.text}\")\n",
        "\n",
        "# RAG\n",
        "def perform_rag(question, model=\"deepseek/deepseek-chat\", k=5):\n",
        "    retrieved_docs = retrieve_documents(question, faiss_index, vectorizer, k)\n",
        "    context = \" \".join(retrieved_docs)\n",
        "    prompt = f\"\"\"\n",
        "    Answer the user's question.\n",
        "    Use only the information from the context. If the context does not contain enough information to answer the question, let the user know.\n",
        "    Context: {context}\n",
        "    Question: {question}\n",
        "    Answer:\"\"\"\n",
        "    return query_openrouter(model, prompt)\n",
        "\n",
        "# Метрики\n",
        "def evaluate_responses(true_answer, generated_answer):\n",
        "    scorer = rouge_scorer.RougeScorer(['rouge1', 'rouge2', 'rougeL'], use_stemmer=True)\n",
        "    rouge_scores = scorer.score(true_answer, generated_answer)\n",
        "    smooth_fn = SmoothingFunction().method1\n",
        "    true_tokens = true_answer.split()\n",
        "    generated_tokens = generated_answer.split()\n",
        "    bleu = sentence_bleu([true_tokens], generated_tokens, smoothing_function=smooth_fn)\n",
        "    meteor = meteor_score([true_tokens], generated_tokens)\n",
        "    return {\n",
        "        \"ROUGE-1\": rouge_scores[\"rouge1\"].fmeasure,\n",
        "        \"ROUGE-2\": rouge_scores[\"rouge2\"].fmeasure,\n",
        "        \"ROUGE-L\": rouge_scores[\"rougeL\"].fmeasure,\n",
        "        \"BLEU\": bleu,\n",
        "        \"METEOR\": meteor\n",
        "    }\n",
        "\n",
        "# Модели\n",
        "models = [\n",
        "    \"meta-llama/llama-3.2-1b-instruct\",\n",
        "    \"deepseek/deepseek-chat\",\n",
        "    \"qwen/qvq-72b-preview\",\n",
        "    \"google/gemini-2.0-flash-thinking-exp:free\",\n",
        "    \"sao10k/l3.3-euryale-70b\"\n",
        "]\n",
        "\n",
        "# Основной цикл\n",
        "columns = [\"Model\", \"Question\", \"BLEU\", \"METEOR\", \"ROUGE-1\", \"ROUGE-2\", \"ROUGE-L\"]\n",
        "metrics_df = pd.DataFrame(columns=columns)\n",
        "\n",
        "for model in models:\n",
        "    for _, row in df_test.head(1).iterrows():  # Ограничиваемся первыми тремя вопросами\n",
        "        question = row[\"question\"]\n",
        "        true_answer = row[\"answer\"]\n",
        "        response = perform_rag(question, model=model)\n",
        "        metrics = evaluate_responses(true_answer, response)\n",
        "        metrics_df = pd.concat([metrics_df, pd.DataFrame([{\n",
        "            \"Model\": model,\n",
        "            \"Question\": question,\n",
        "            **metrics\n",
        "        }])], ignore_index=True)\n"
      ],
      "metadata": {
        "id": "GBirQG3w0bpJ"
      },
      "execution_count": null,
      "outputs": []
    },
    {
      "cell_type": "code",
      "source": [
        "metrics_df_VB = metrics_df"
      ],
      "metadata": {
        "id": "MIjv2-052JvN"
      },
      "execution_count": null,
      "outputs": []
    },
    {
      "cell_type": "code",
      "source": [
        "import pandas as pd\n",
        "import matplotlib.pyplot as plt\n",
        "\n",
        "df = metrics_df_VB\n",
        "plt.figure(figsize=(16, 6))\n",
        "df.set_index('Model').plot(kind='barh', stacked=True, figsize=(12, 8), colormap='plasma')\n",
        "\n",
        "plt.xlabel('Scores', fontsize=12)\n",
        "plt.ylabel('Models', fontsize=12)\n",
        "plt.tight_layout()\n",
        "\n",
        "plt.show()"
      ],
      "metadata": {
        "id": "8_rIARY0EO-g",
        "outputId": "bbd2d4df-a95c-44e8-d672-ef1312350cff",
        "colab": {
          "base_uri": "https://localhost:8080/",
          "height": 824
        }
      },
      "execution_count": null,
      "outputs": [
        {
          "output_type": "display_data",
          "data": {
            "text/plain": [
              "<Figure size 1600x600 with 0 Axes>"
            ]
          },
          "metadata": {}
        },
        {
          "output_type": "display_data",
          "data": {
            "text/plain": [
              "<Figure size 1200x800 with 1 Axes>"
            ],
            "image/png": "[encoded data removed]"
          },
          "metadata": {}
        }
      ]
    },
    {
      "cell_type": "code",
      "source": [
        "import pandas as pd\n",
        "import matplotlib.pyplot as plt\n",
        "\n",
        "# Ваш датафрейм\n",
        "data = {\n",
        "    'Vector Store': ['Faiss', 'Without RAG', 'HNSWlib'],\n",
        "    'ROUGE-1': [0.188750, 0.275941, 0.193187],\n",
        "    'ROUGE-2': [0.069871, 0.117323, 0.080407],\n",
        "    'ROUGE-L': [0.166558, 0.211804, 0.173523],\n",
        "    'BLEU': [0.030061, 0.014378, 0.024828],\n",
        "    'METEOR': [0.163259, 0.205294, 0.179901]\n",
        "}\n",
        "\n",
        "df = pd.DataFrame(data)\n",
        "\n",
        "# Фильтрация данных для Faiss и HNSWlib\n",
        "df_filtered = df[df['Vector Store'].isin(['Faiss', 'HNSWlib'])]\n",
        "\n",
        "# Установка 'Vector Store' в качестве индекса\n",
        "df_filtered.set_index('Vector Store', inplace=True)\n",
        "\n",
        "# Построение графика\n",
        "plt.figure(figsize=(16, 6))\n",
        "df_filtered.plot(kind='barh', stacked=True, colormap='plasma', figsize=(12, 8))\n",
        "\n",
        "# Настройка графика\n",
        "plt.xlabel('Scores', fontsize=12)\n",
        "plt.ylabel('Models', fontsize=12)\n",
        "plt.title('Comparison of Faiss and HNSWlib by Metrics', fontsize=14)\n",
        "plt.legend(title='Metrics', bbox_to_anchor=(1.05, 1), loc='upper left')  # Легенда с метриками\n",
        "plt.tight_layout()\n",
        "\n",
        "plt.show()"
      ],
      "metadata": {
        "id": "tHvU7bJBjM28",
        "outputId": "e7096bee-2af2-40b9-bafa-c3e0da9351ef",
        "colab": {
          "base_uri": "https://localhost:8080/",
          "height": 824
        }
      },
      "execution_count": 2,
      "outputs": [
        {
          "output_type": "display_data",
          "data": {
            "text/plain": [
              "<Figure size 1600x600 with 0 Axes>"
            ]
          },
          "metadata": {}
        },
        {
          "output_type": "display_data",
          "data": {
            "text/plain": [
              "<Figure size 1200x800 with 1 Axes>"
            ],
            "image/png": "[encoded data removed]"
          },
          "metadata": {}
        }
      ]
    },
    {
      "cell_type": "code",
      "source": [
        "import pandas as pd\n",
        "import matplotlib.pyplot as plt\n",
        "\n",
        "# Данные для моделей\n",
        "data = {\n",
        "    'Model': ['DeepSeek', 'Meta-LLAMA LLaMA-3.2-1B-Instruct', 'LLAMA+RAG'],\n",
        "    'Average BLEU': [0.031632659588777055, 0.00652274632509797, 0.0261],\n",
        "    'Average METEOR': [0.22620634043506715, 0.10966738288724649, 0.1829],\n",
        "    'Average ROUGE-1': [0.5680318596273058, 0.22154851372717949, 0.5269],\n",
        "    'Average ROUGE-2': [0.32083970345568236, 0.04814424950759733, 0.2958],\n",
        "    'Average ROUGE-L': [0.4755375176839518, 0.15732979652892995,0.4554]\n",
        "}\n",
        "\n",
        "# Создание DataFrame\n",
        "df = pd.DataFrame(data)\n",
        "\n",
        "# Установка 'Model' в качестве индекса\n",
        "df.set_index('Model', inplace=True)\n",
        "\n",
        "# Построение горизонтального столбчатого графика с накоплением\n",
        "plt.figure(figsize=(20, 6))\n",
        "df.plot(kind='barh', stacked=True, colormap='plasma', figsize=(12, 8))\n",
        "\n",
        "# Настройка графика\n",
        "plt.xlabel('Scores', fontsize=12)\n",
        "plt.ylabel('Models', fontsize=12)\n",
        "plt.title('Comparison of DeepSeek and Meta-LLAMA LLaMA-3.2-1B-Instruct (Stacked)', fontsize=14)\n",
        "plt.legend(title='Metrics', bbox_to_anchor=(1.05, 1), loc='upper left')  # Легенда с метриками\n",
        "plt.tight_layout()\n",
        "\n",
        "plt.show()"
      ],
      "metadata": {
        "id": "2bD_kLh6n96p",
        "outputId": "93220272-9c9d-408e-af93-3ce0b84d54bb",
        "colab": {
          "base_uri": "https://localhost:8080/",
          "height": 824
        }
      },
      "execution_count": 10,
      "outputs": [
        {
          "output_type": "display_data",
          "data": {
            "text/plain": [
              "<Figure size 2000x600 with 0 Axes>"
            ]
          },
          "metadata": {}
        },
        {
          "output_type": "display_data",
          "data": {
            "text/plain": [
              "<Figure size 1200x800 with 1 Axes>"
            ],
            "image/png": "[encoded data removed]"
          },
          "metadata": {}
        }
      ]
    }
  ]
}