{
  "nbformat": 4,
  "nbformat_minor": 0,
  "metadata": {
    "colab": {
      "provenance": [],
      "toc_visible": true,
      "include_colab_link": true
    },
    "kernelspec": {
      "name": "python3",
      "display_name": "Python 3"
    },
    "language_info": {
      "name": "python"
    }
  },
  "cells": [
    {
      "cell_type": "markdown",
      "metadata": {
        "id": "view-in-github",
        "colab_type": "text"
      },
      "source": [
        "<a href=\"https://colab.research.google.com/github/orekhovsky/GenAI-mini-projects/blob/main/RAG%20model%20comparison.ipynb\" target=\"_parent\"><img src=\"https://colab.research.google.com/assets/colab-badge.svg\" alt=\"Open In Colab\"/></a>"
      ]
    },
    {
      "cell_type": "markdown",
      "source": [
        "# Без векторной бд"
      ],
      "metadata": {
        "id": "KYhuJURewcYd"
      }
    },
    {
      "cell_type": "code",
      "source": [
        "pip install gigachat transformers rouge-score -q"
      ],
      "metadata": {
        "id": "5s4wCOof18Uv"
      },
      "execution_count": null,
      "outputs": []
    },
    {
      "cell_type": "code",
      "source": [
        "pip install -U langchain-community -q"
      ],
      "metadata": {
        "id": "boONLerW1ugn"
      },
      "execution_count": null,
      "outputs": []
    },
    {
      "cell_type": "code",
      "source": [
        "import pandas as pd\n",
        "import ast\n",
        "from langchain.chat_models.gigachat import GigaChat\n",
        "from google.colab import userdata\n",
        "import nltk\n",
        "from rouge_score import rouge_scorer\n",
        "from nltk.translate.bleu_score import sentence_bleu, SmoothingFunction\n",
        "from nltk.translate.meteor_score import meteor_score\n",
        "import requests\n",
        "import json\n",
        "import matplotlib.pyplot as plt\n",
        "import numpy as np"
      ],
      "metadata": {
        "id": "pz6xJBlw6x58"
      },
      "execution_count": null,
      "outputs": []
    },
    {
      "cell_type": "code",
      "source": [
        "df = pd.read_parquet(\"hf://datasets/rag-datasets/rag-mini-bioasq/data/passages.parquet/part.0.parquet\")\n",
        "df_test = pd.read_parquet(\"hf://datasets/rag-datasets/rag-mini-bioasq/data/test.parquet/part.0.parquet\")"
      ],
      "metadata": {
        "id": "LrN7_P7Bo0Hk",
        "outputId": "5f1bd691-ed5d-4365-c320-e4f61eeb6199",
        "colab": {
          "base_uri": "https://localhost:8080/"
        }
      },
      "execution_count": null,
      "outputs": [
        {
          "output_type": "stream",
          "name": "stderr",
          "text": [
            "/usr/local/lib/python3.10/dist-packages/huggingface_hub/utils/_auth.py:94: UserWarning: \n",
            "The secret `HF_TOKEN` does not exist in your Colab secrets.\n",
            "To authenticate with the Hugging Face Hub, create a token in your settings tab (https://huggingface.co/settings/tokens), set it as secret in your Google Colab and restart your session.\n",
            "You will be able to reuse this secret in all of your notebooks.\n",
            "Please note that authentication is recommended but still optional to access public models or datasets.\n",
            "  warnings.warn(\n"
          ]
        }
      ]
    },
    {
      "cell_type": "code",
      "source": [
        "df = pd.read_parquet(\"hf://datasets/rag-datasets/rag-mini-bioasq/data/passages.parquet/part.0.parquet\")\n",
        "df_test = pd.read_parquet(\"hf://datasets/rag-datasets/rag-mini-bioasq/data/test.parquet/part.0.parquet\")\n",
        "\n",
        "# Преобразование чтобы правильно считать строку со списком релевантных id из корпуса текстов\n",
        "df_test['relevant_passage_ids'] = df_test['relevant_passage_ids'].apply(ast.literal_eval)\n",
        "\n",
        "# Функция для извленения чанков и формирования контекста для подачи в llm\n",
        "def perform_retrieval(question, df, df_test):\n",
        "\n",
        "    matching_rows = df_test[df_test['question'] == question]\n",
        "    if matching_rows.empty:\n",
        "        raise ValueError(f\"Question '{question}' not found in df_test.\")\n",
        "\n",
        "    question_index = matching_rows.index[0]\n",
        "\n",
        "    # Получение релевантных чанков из корпуса текстов\n",
        "    relevant_passage_ids = df_test.loc[question_index, 'relevant_passage_ids']\n",
        "    relevant_passages = [df.loc[i, 'passage'] for i in relevant_passage_ids]\n",
        "\n",
        "    # Формируем контекст\n",
        "    context = \" \".join(relevant_passages)\n",
        "\n",
        "    return context\n"
      ],
      "metadata": {
        "id": "ruacqxUE6a1C"
      },
      "execution_count": null,
      "outputs": []
    },
    {
      "cell_type": "markdown",
      "source": [
        "## Оценка метрик"
      ],
      "metadata": {
        "id": "g8AyA5wt3Qis"
      }
    },
    {
      "cell_type": "code",
      "source": [
        "\n",
        "nltk.download('wordnet')\n",
        "nltk.download('omw-1.4')\n",
        "\n",
        "def add_model_metrics_to_dataframe(model_name, true_answer, response, metrics_df):\n",
        "    \"\"\"\n",
        "    Вычисляет метрики BLEU, METEOR и ROUGE для данной модели, а затем добавляет их в датафрейм.\n",
        "\n",
        "    Args:\n",
        "        model_name (str): Название модели.\n",
        "        true_answer (str): Истинный ответ.\n",
        "        response (str): Ответ модели.\n",
        "        metrics_df (pd.DataFrame): Датафрейм с метриками.\n",
        "\n",
        "    Returns:\n",
        "        pd.DataFrame: Обновленный датафрейм с добавленными метриками.\n",
        "    \"\"\"\n",
        "    # ROUGE\n",
        "    scorer = rouge_scorer.RougeScorer(['rouge1', 'rouge2', 'rougeL'], use_stemmer=True)\n",
        "    rouge_scores = scorer.score(true_answer, response)\n",
        "\n",
        "    # BLEU\n",
        "    true_tokens = true_answer.split()\n",
        "    response_tokens = response.split()\n",
        "    smooth_fn = SmoothingFunction().method1\n",
        "    bleu_score = sentence_bleu([true_tokens], response_tokens, smoothing_function=smooth_fn)\n",
        "\n",
        "    # METEOR\n",
        "    meteor = meteor_score([true_answer.split()], response.split())\n",
        "\n",
        "    # Создание строки с метриками\n",
        "    new_row = pd.DataFrame([{\n",
        "        \"Model\": model_name,\n",
        "        \"BLEU\": bleu_score,\n",
        "        \"METEOR\": meteor,\n",
        "        \"ROUGE-1\": rouge_scores['rouge1'].fmeasure,\n",
        "        \"ROUGE-2\": rouge_scores['rouge2'].fmeasure,\n",
        "        \"ROUGE-L\": rouge_scores['rougeL'].fmeasure\n",
        "    }])\n",
        "\n",
        "    # Добавление строки в датафрейм\n",
        "    metrics_df = pd.concat([metrics_df, new_row], ignore_index=True)\n",
        "\n",
        "    return metrics_df\n",
        "\n",
        "# Пример использования\n",
        "columns = [\"Model\", \"BLEU\", \"METEOR\", \"ROUGE-1\", \"ROUGE-2\", \"ROUGE-L\"]\n",
        "metrics_df = pd.DataFrame(columns=columns)\n",
        "true_answer = df_test['answer'][0]\n",
        "# # Пример данных\n",
        "# model_name = \"Llama 3.2-1b\"\n",
        "# true_answer = df_test['answer'][0]\n",
        "# response = \"Generated response by the model\"\n",
        "\n",
        "# # Обновление датафрейма\n",
        "# metrics_df = add_model_metrics_to_dataframe(model_name, true_answer, response, metrics_df)\n",
        "\n",
        "# # Просмотр датафрейма\n",
        "# print(metrics_df)\n"
      ],
      "metadata": {
        "id": "fkc0DYfA4z-l",
        "outputId": "5c400b85-27f9-4700-e8ca-a42264972010",
        "colab": {
          "base_uri": "https://localhost:8080/"
        }
      },
      "execution_count": null,
      "outputs": [
        {
          "output_type": "stream",
          "name": "stderr",
          "text": [
            "[nltk_data] Downloading package wordnet to /root/nltk_data...\n",
            "[nltk_data]   Package wordnet is already up-to-date!\n",
            "[nltk_data] Downloading package omw-1.4 to /root/nltk_data...\n",
            "[nltk_data]   Package omw-1.4 is already up-to-date!\n"
          ]
        }
      ]
    },
    {
      "cell_type": "markdown",
      "source": [
        "## Сравниваемые модели"
      ],
      "metadata": {
        "id": "syR6Xfg3Ftza"
      }
    },
    {
      "cell_type": "markdown",
      "source": [
        "### Гигачат"
      ],
      "metadata": {
        "id": "XlqBS7XX5-4M"
      }
    },
    {
      "cell_type": "code",
      "source": [
        "# Авторизация через токен\n",
        "auth = userdata.get('SBER_AUTH')\n",
        "\n",
        "# Инициализация модели GigaChat\n",
        "llm = GigaChat(\n",
        "    credentials=auth,\n",
        "    model='GigaChat:latest',\n",
        "    verify_ssl_certs=False,\n",
        "    profanity_check=False\n",
        ")\n",
        "\n",
        "# Пайплайн для RAG\n",
        "def perform_rag_pipeline(question, df, df_test, llm):\n",
        "    # Шаг 1: Извлекаем контекст из корпуса на основе вопроса\n",
        "    context = perform_retrieval(question, df, df_test)\n",
        "\n",
        "    # Шаг 2: Входные данные для модели\n",
        "    input_text = f\"\"\"\n",
        "    Answer the user's question.\n",
        "    Use only the information from the context. If the context does not contain enough information to answer the question, let the user know.\n",
        "    Context: {context}\n",
        "    Question: {question}\n",
        "    Answer:\"\"\"\n",
        "\n",
        "    # Шаг 3: Генерируем ответ\n",
        "    response = llm.predict(input_text)\n",
        "\n",
        "    return response\n",
        "\n",
        "# Пример вопроса\n",
        "q1 = 'Is Hirschsprung disease a mendelian or a multifactorial disorder?'\n",
        "\n",
        "response = perform_rag_pipeline(q1, df, df_test, llm)\n",
        "print(f\"Question: {q1}\")\n",
        "print(f\"Answer: {response}\")\n",
        "model_name = \"Gigachat\"\n",
        "metrics_df = add_model_metrics_to_dataframe(model_name, true_answer, response, metrics_df)\n"
      ],
      "metadata": {
        "id": "unREgCIj_svb",
        "outputId": "1a4ea797-932d-4cba-f63b-fe3338dae438",
        "colab": {
          "base_uri": "https://localhost:8080/"
        }
      },
      "execution_count": null,
      "outputs": [
        {
          "output_type": "stream",
          "name": "stderr",
          "text": [
            "<ipython-input-26-d978d5c8627d>:5: LangChainDeprecationWarning: The class `GigaChat` was deprecated in LangChain 0.3.5 and will be removed in 1.0. An updated version of the class exists in the :class:`~langchain-gigachat package and should be used instead. To use it run `pip install -U :class:`~langchain-gigachat` and import as `from :class:`~langchain_gigachat import GigaChat``.\n",
            "  llm = GigaChat(\n",
            "<ipython-input-26-d978d5c8627d>:26: LangChainDeprecationWarning: The method `BaseChatModel.predict` was deprecated in langchain-core 0.1.7 and will be removed in 1.0. Use :meth:`~invoke` instead.\n",
            "  response = llm.predict(input_text)\n"
          ]
        },
        {
          "output_type": "stream",
          "name": "stdout",
          "text": [
            "Question: Is Hirschsprung disease a mendelian or a multifactorial disorder?\n",
            "Answer: Hirschsprung disease (HSCR) is considered a **multifactorial** disorder rather than a Mendelian inherited disorder. This means that it results from the combined effects of multiple genetic factors and environmental influences, rather than being caused by mutations in a single gene.\n",
            "\n",
            "The study cited mentions that HSCR shows \"complex patterns of inheritance,\" including both dominant and recessive patterns, as well as polygenic inheritance, which further supports the classification as a multifactorial disorder.\n"
          ]
        },
        {
          "output_type": "stream",
          "name": "stderr",
          "text": [
            "<ipython-input-25-874a1bcc5702>:41: FutureWarning: The behavior of DataFrame concatenation with empty or all-NA entries is deprecated. In a future version, this will no longer exclude empty or all-NA columns when determining the result dtypes. To retain the old behavior, exclude the relevant entries before the concat operation.\n",
            "  metrics_df = pd.concat([metrics_df, new_row], ignore_index=True)\n"
          ]
        }
      ]
    },
    {
      "cell_type": "code",
      "source": [
        "from rouge_score import rouge_scorer\n",
        "true_answer = df_test['answer'][0]\n",
        "\n",
        "scorer = rouge_scorer.RougeScorer(['rouge1', 'rouge2', 'rougeL'], use_stemmer=True)\n",
        "scores = scorer.score(true_answer, response)\n",
        "\n",
        "# Метрики (не очень, но по сути верно)\n",
        "print(\"ROUGE-1:\", scores['rouge1'])\n",
        "print(\"ROUGE-2:\", scores['rouge2'])\n",
        "print(\"ROUGE-L:\", scores['rougeL'])\n"
      ],
      "metadata": {
        "id": "TSrG5N_cASyM",
        "outputId": "56d653da-00b0-4799-9a15-329d1870a1ef",
        "colab": {
          "base_uri": "https://localhost:8080/"
        }
      },
      "execution_count": null,
      "outputs": [
        {
          "output_type": "stream",
          "name": "stdout",
          "text": [
            "ROUGE-1: Score(precision=0.26506024096385544, recall=0.36065573770491804, fmeasure=0.3055555555555556)\n",
            "ROUGE-2: Score(precision=0.06097560975609756, recall=0.08333333333333333, fmeasure=0.07042253521126761)\n",
            "ROUGE-L: Score(precision=0.10843373493975904, recall=0.14754098360655737, fmeasure=0.125)\n"
          ]
        }
      ]
    },
    {
      "cell_type": "markdown",
      "source": [
        "### gpt-4o-mini"
      ],
      "metadata": {
        "id": "V74oER7NC5CV"
      }
    },
    {
      "cell_type": "code",
      "source": [
        "response =\"Hirschsprung disease (HSCR) is a complex disorder with both Mendelian and multifactorial aspects. While some forms of the disease, particularly the syndromic and familial types, follow Mendelian inheritance patterns (autosomal dominant, recessive, and polygenic), the more common non-syndromic forms exhibit non-Mendelian inheritance with variable expression and incomplete penetrance. Genetic studies suggest that multiple loci and genetic interactions contribute to the disease, making it a multifactorial disorder.\"\n",
        "\n",
        "model_name = \"gpt-4o-mini\"\n",
        "metrics_df = add_model_metrics_to_dataframe(model_name, true_answer, response, metrics_df)"
      ],
      "metadata": {
        "id": "9BB6KF6rCN28"
      },
      "execution_count": null,
      "outputs": []
    },
    {
      "cell_type": "markdown",
      "source": [
        "### Llama 3.2 1B Instruct"
      ],
      "metadata": {
        "id": "SpM3954olr5V"
      }
    },
    {
      "cell_type": "code",
      "source": [
        "# Авторизация через OpenRouter\n",
        "OPENROUTER_API_KEY = userdata.get('OPEN_Router')\n",
        "\n",
        "# Функция для выполнения RAG с использованием модели Llama\n",
        "def perform_rag_pipeline(question, df, df_test, api_key):\n",
        "    # Шаг 1: Извлекаем контекст\n",
        "    context = perform_retrieval(question, df, df_test)\n",
        "\n",
        "    # Шаг 2: Подготовка данных для модели\n",
        "    input_data = {\n",
        "        \"model\": \"meta-llama/llama-3.2-1b-instruct\",\n",
        "        \"messages\": [\n",
        "            {\n",
        "                \"role\": \"user\",\n",
        "                \"content\": f\"\"\"\n",
        "                Answer the user's question.\n",
        "                Use only the information from the context. If the context does not contain enough information to answer the question, let the user know.\n",
        "                Context: {context}\n",
        "                Question: {question}\n",
        "                Answer:\"\"\"\n",
        "            }\n",
        "        ]\n",
        "    }\n",
        "\n",
        "    # Шаг 3: Отправка запроса к API\n",
        "    response = requests.post(\n",
        "        url=\"https://openrouter.ai/api/v1/chat/completions\",\n",
        "        headers={\n",
        "            \"Authorization\": f\"Bearer {api_key}\",\n",
        "            \"Content-Type\": \"application/json\",\n",
        "        },\n",
        "        data=json.dumps(input_data)\n",
        "    )\n",
        "\n",
        "    # Обработка ответа\n",
        "    if response.status_code == 200:\n",
        "        data = response.json()\n",
        "        model_reply = data.get('choices', [{}])[0].get('message', {}).get('content', 'No content found')\n",
        "        return model_reply\n",
        "    else:\n",
        "        raise RuntimeError(f\"API request failed with status {response.status_code}: {response.text}\")\n",
        "\n",
        "# Пример вопроса\n",
        "q1 = 'Is Hirschsprung disease a mendelian or a multifactorial disorder?'\n",
        "\n",
        "response = perform_rag_pipeline(q1, df, df_test, OPENROUTER_API_KEY)\n",
        "print(f\"Question: {q1}\")\n",
        "print(f\"Answer: {response}\")\n",
        "model_name = \"Llama 3.2 1B Instruct\"\n",
        "metrics_df = add_model_metrics_to_dataframe(model_name, true_answer, response, metrics_df)\n"
      ],
      "metadata": {
        "id": "zUhDf17GmYo_",
        "outputId": "4f5e2a45-da6b-4bb1-a2df-ce62103b5244",
        "colab": {
          "base_uri": "https://localhost:8080/"
        }
      },
      "execution_count": null,
      "outputs": [
        {
          "output_type": "stream",
          "name": "stdout",
          "text": [
            "Question: Is Hirschsprung disease a mendelian or a multifactorial disorder?\n",
            "Answer: According to the text, Hirschsprung disease is a multifactorial disorder. It is characterized by the absence of ganglion cells in the gastrointestinal tract, and genetic studies have identified multiple genes and loci that contribute to its susceptibility. The text states that the majority of known genetic sites relate to the main susceptibility pathways (RET and EDNRB), and that non-syndromic non-familial, short-segment HSCR appears to represent a non-Mendelian condition with variable expression and sex-dependent penetrance. Therefore, the answer is that Hirschsprung disease is a multifactorial disorder.\n"
          ]
        }
      ]
    },
    {
      "cell_type": "markdown",
      "source": [
        "### \"deepseek/deepseek-chat\""
      ],
      "metadata": {
        "id": "3jQeezhO39_o"
      }
    },
    {
      "cell_type": "code",
      "source": [
        "# Авторизация через OpenRouter\n",
        "OPENROUTER_API_KEY = userdata.get('OPEN_Router')\n",
        "\n",
        "# Функция для выполнения RAG с использованием модели Llama\n",
        "def perform_rag_pipeline(question, df, df_test, api_key):\n",
        "    # Шаг 1: Извлекаем контекст\n",
        "    context = perform_retrieval(question, df, df_test)\n",
        "\n",
        "    # Шаг 2: Подготовка данных для модели\n",
        "    input_data = {\n",
        "        \"model\": \"deepseek/deepseek-chat\",\n",
        "        \"messages\": [\n",
        "            {\n",
        "                \"role\": \"user\",\n",
        "                \"content\": f\"\"\"\n",
        "                Answer the user's question.\n",
        "                Use only the information from the context. If the context does not contain enough information to answer the question, let the user know.\n",
        "                Context: {context}\n",
        "                Question: {question}\n",
        "                Answer:\"\"\"\n",
        "            }\n",
        "        ]\n",
        "    }\n",
        "\n",
        "    # Шаг 3: Отправка запроса к API\n",
        "    response = requests.post(\n",
        "        url=\"https://openrouter.ai/api/v1/chat/completions\",\n",
        "        headers={\n",
        "            \"Authorization\": f\"Bearer {api_key}\",\n",
        "            \"Content-Type\": \"application/json\",\n",
        "        },\n",
        "        data=json.dumps(input_data)\n",
        "    )\n",
        "\n",
        "    # Обработка ответа\n",
        "    if response.status_code == 200:\n",
        "        data = response.json()\n",
        "        model_reply = data.get('choices', [{}])[0].get('message', {}).get('content', 'No content found')\n",
        "        return model_reply\n",
        "    else:\n",
        "        raise RuntimeError(f\"API request failed with status {response.status_code}: {response.text}\")\n",
        "\n",
        "# Пример вопроса\n",
        "q1 = 'Is Hirschsprung disease a mendelian or a multifactorial disorder?'\n",
        "\n",
        "response = perform_rag_pipeline(q1, df, df_test, OPENROUTER_API_KEY)\n",
        "print(f\"Question: {q1}\")\n",
        "print(f\"Answer: {response}\")\n",
        "model_name = \"DeepSeek V3\"\n",
        "metrics_df = add_model_metrics_to_dataframe(model_name, true_answer, response, metrics_df)\n"
      ],
      "metadata": {
        "id": "tuhtkgL-38Ac",
        "outputId": "7c63f259-c9d2-437d-d216-0d4ede0cfc36",
        "colab": {
          "base_uri": "https://localhost:8080/"
        }
      },
      "execution_count": null,
      "outputs": [
        {
          "output_type": "stream",
          "name": "stdout",
          "text": [
            "Question: Is Hirschsprung disease a mendelian or a multifactorial disorder?\n",
            "Answer: Hirschsprung disease (HSCR) is described as a **multifactorial disorder** rather than a purely Mendelian one. While certain syndromic and familial forms of HSCR can exhibit Mendelian inheritance patterns (autosomal dominant, recessive, or polygenic), the non-syndromic, sporadic, and short-segment forms of HSCR are characterized by complex inheritance involving multiple loci, variable expression, and incomplete penetrance. The involvement of modifier genes and non-coding variations further supports the multifactorial nature of the disease.\n"
          ]
        }
      ]
    },
    {
      "cell_type": "markdown",
      "source": [
        "### Qwen: QvQ 72B Preview"
      ],
      "metadata": {
        "id": "XnH6kFxA8kNj"
      }
    },
    {
      "cell_type": "code",
      "source": [
        "# Авторизация через OpenRouter\n",
        "OPENROUTER_API_KEY = userdata.get('OPEN_Router')\n",
        "\n",
        "# Функция для выполнения RAG с использованием модели Llama\n",
        "def perform_rag_pipeline(question, df, df_test, api_key):\n",
        "    # Шаг 1: Извлекаем контекст\n",
        "    context = perform_retrieval(question, df, df_test)\n",
        "\n",
        "    # Шаг 2: Подготовка данных для модели\n",
        "    input_data = {\n",
        "        \"model\": \"qwen/qvq-72b-preview\",\n",
        "        \"messages\": [\n",
        "            {\n",
        "                \"role\": \"user\",\n",
        "                \"content\": f\"\"\"\n",
        "                Answer the user's question.\n",
        "                Use only the information from the context. If the context does not contain enough information to answer the question, let the user know.\n",
        "                Context: {context}\n",
        "                Question: {question}\n",
        "                Answer:\"\"\"\n",
        "            }\n",
        "        ]\n",
        "    }\n",
        "\n",
        "    # Шаг 3: Отправка запроса к API\n",
        "    response = requests.post(\n",
        "        url=\"https://openrouter.ai/api/v1/chat/completions\",\n",
        "        headers={\n",
        "            \"Authorization\": f\"Bearer {api_key}\",\n",
        "            \"Content-Type\": \"application/json\",\n",
        "        },\n",
        "        data=json.dumps(input_data)\n",
        "    )\n",
        "\n",
        "    # Обработка ответа\n",
        "    if response.status_code == 200:\n",
        "        data = response.json()\n",
        "        model_reply = data.get('choices', [{}])[0].get('message', {}).get('content', 'No content found')\n",
        "        return model_reply\n",
        "    else:\n",
        "        raise RuntimeError(f\"API request failed with status {response.status_code}: {response.text}\")\n",
        "\n",
        "# Пример вопроса\n",
        "q1 = 'Is Hirschsprung disease a mendelian or a multifactorial disorder?'\n",
        "\n",
        "response = perform_rag_pipeline(q1, df, df_test, OPENROUTER_API_KEY)\n",
        "print(f\"Question: {q1}\")\n",
        "print(f\"Answer: {response}\")\n",
        "model_name = \"Qwen: QvQ 72B Preview\"\n",
        "metrics_df = add_model_metrics_to_dataframe(model_name, true_answer, response, metrics_df)"
      ],
      "metadata": {
        "id": "v7thVTFR8mZM",
        "outputId": "34e5d176-e02b-4f70-e228-97ae923b9da4",
        "colab": {
          "base_uri": "https://localhost:8080/"
        }
      },
      "execution_count": null,
      "outputs": [
        {
          "output_type": "stream",
          "name": "stdout",
          "text": [
            "Question: Is Hirschsprung disease a mendelian or a multifactorial disorder?\n",
            "Answer: So I've been reading about Hirschsprung disease, and I'm trying to understand whether it's a Mendelian disorder or a multifactorial one. From what I can gather, Hirschsprung disease, or HSCR, is a condition where there are missing nerve cells in parts of the large intestine, which can cause problems with passing stool.\n",
            "\n",
            "First off, I know that Mendelian disorders follow straightforward patterns of inheritance, like dominant or recessive traits passed from parents to offspring. Multifactorial disorders, on the other hand, are influenced by multiple genes and often environmental factors, making their inheritance more complex and less predictable.\n",
            "\n",
            "Looking at the context provided, there's a lot of information about the genetics of Hirschsprung disease. It mentions that the major gene involved is RET, which encodes a receptor tyrosine kinase. There are studies involving European and Chinese populations that have identified a specific variant in the RET gene, a C to T allele change at position rs2435357, which seems to increase the susceptibility to HSCR significantly.\n",
            "\n",
            "The studies show that this variant is quite common in the general population, with frequencies ranging from 20% to 47% in controls, but it's more frequent in people with HSCR, ranging from 54% to 88% in cases. This suggests that having this variant increases the risk of developing the disease, but it's not the only factor at play.\n",
            "\n",
            "Additionally, the variant seems to affect the function of the RET gene by disrupting a binding site for a protein called SOX10, which is important for the development of the nervous system in the gut. So, this variation in the RET gene enhances the risk of HSCR by compromising the gene's function.\n",
            "\n",
            "The text also mentions that this variant is involved in all forms of HSCR, regardless of the length of the aganglionic segment or whether the disease runs in families. However, it's more common in certain subtypes, like male, short-segment, and simplex families (where only one member is affected).\n",
            "\n",
            "On the other hand, rarer mutations in the RET gene and other genes are more common in more severe forms of the disease, such as female, long-segment, and multiplex families (where multiple family members are affected).\n",
            "\n",
            "This seems to suggest that Hirschsprung disease has both rare, high-impact mutations and common, low-impact variants contributing to its development. This points towards a multifactorial model, where multiple genetic factors interact to determine the risk of the disease.\n",
            "\n",
            "Moreover, the text refers to a \"cellular-recessive\" genetic model, where both alleles of the RET gene need to be compromised for the disease to manifest. This is similar to how recessive disorders work, where both copies of a gene must be mutated for the phenotype to appear.\n",
            "\n",
            "But in Hirschsprung disease, it's not just about having two mutated copies of RET; it's about the combined effect of different variants, both rare and common, affecting the function of the RET gene and possibly other genes involved in the development of the enteric nervous system.\n",
            "\n",
            "Another point is that the penetrance of HSCR is incomplete, meaning that even if someone has the risk factors, they may not develop the disease. This further supports the idea that multiple factors are involved, and not just a single gene.\n",
            "\n",
            "In summary, while there are clear genetic components to Hirschsprung disease, particularly involving the RET gene, the inheritance pattern is not straightforward. It involves both common variants with small effects and rare mutations with larger effects, along with possible environmental factors, making it a multifactorial disorder.\n",
            "\n",
            "So, to answer the question: Hirschsprung disease is a multifactorial disorder, not a Mendelian one.\n",
            "\n",
            "**Final Answer**\n",
            "\n",
            "\\[ \\boxed{\\text{Hirschsprung disease is a multifactorial disorder.}} \\]\n"
          ]
        }
      ]
    },
    {
      "cell_type": "markdown",
      "source": [
        "### Google: Gemini 2.0 Flash Thinking Experimental (free)"
      ],
      "metadata": {
        "id": "cjuYkyZG9Y0c"
      }
    },
    {
      "cell_type": "code",
      "source": [
        "# Авторизация через OpenRouter\n",
        "OPENROUTER_API_KEY = userdata.get('OPEN_Router')\n",
        "\n",
        "# Функция для выполнения RAG с использованием модели Llama\n",
        "def perform_rag_pipeline(question, df, df_test, api_key):\n",
        "    # Шаг 1: Извлекаем контекст\n",
        "    context = perform_retrieval(question, df, df_test)\n",
        "\n",
        "    # Шаг 2: Подготовка данных для модели\n",
        "    input_data = {\n",
        "        \"model\": \"google/gemini-2.0-flash-thinking-exp:free\",\n",
        "        \"messages\": [\n",
        "            {\n",
        "                \"role\": \"user\",\n",
        "                \"content\": f\"\"\"\n",
        "                Answer the user's question.\n",
        "                Use only the information from the context. If the context does not contain enough information to answer the question, let the user know.\n",
        "                Context: {context}\n",
        "                Question: {question}\n",
        "                Answer:\"\"\"\n",
        "            }\n",
        "        ]\n",
        "    }\n",
        "\n",
        "    # Шаг 3: Отправка запроса к API\n",
        "    response = requests.post(\n",
        "        url=\"https://openrouter.ai/api/v1/chat/completions\",\n",
        "        headers={\n",
        "            \"Authorization\": f\"Bearer {api_key}\",\n",
        "            \"Content-Type\": \"application/json\",\n",
        "        },\n",
        "        data=json.dumps(input_data)\n",
        "    )\n",
        "\n",
        "    # Обработка ответа\n",
        "    if response.status_code == 200:\n",
        "        data = response.json()\n",
        "        model_reply = data.get('choices', [{}])[0].get('message', {}).get('content', 'No content found')\n",
        "        return model_reply\n",
        "    else:\n",
        "        raise RuntimeError(f\"API request failed with status {response.status_code}: {response.text}\")\n",
        "\n",
        "# Пример вопроса\n",
        "q1 = 'Is Hirschsprung disease a mendelian or a multifactorial disorder?'\n",
        "\n",
        "response = perform_rag_pipeline(q1, df, df_test, OPENROUTER_API_KEY)\n",
        "print(f\"Question: {q1}\")\n",
        "print(f\"Answer: {response}\")\n",
        "model_name = \"Google: Gemini 2.0 Flash Thinking Experimental (free)\"\n",
        "metrics_df = add_model_metrics_to_dataframe(model_name, true_answer, response, metrics_df)"
      ],
      "metadata": {
        "id": "0QZZStk49bDF",
        "outputId": "a8b112d2-10ea-41dc-ac5f-dbaed30ee425",
        "colab": {
          "base_uri": "https://localhost:8080/"
        }
      },
      "execution_count": null,
      "outputs": [
        {
          "output_type": "stream",
          "name": "stdout",
          "text": [
            "Question: Is Hirschsprung disease a mendelian or a multifactorial disorder?\n",
            "Answer: The user is asking whether Hirschsprung disease is a Mendelian or a multifactorial disorder. I need to look for information in the text that describes the inheritance pattern of the disease.\n",
            "\n",
            "The text mentions \"non-Mendelian inheritance of sporadic non-syndromic Hirschsprung's disease\", \"Syndromic and familial forms, on the other hand, have complex patterns of inheritance and being reported as autosomal dominant, recessive and polygenic patterns of inheritance\", and that \"HSCR has become a model for a complex oligo-/polygenic disorder\".The text states that the non-Mendelian inheritance of sporadic non-syndromic Hirschsprung's disease is complex. It also mentions that syndromic and familial forms have complex patterns of inheritance, including autosomal dominant, recessive, and polygenic patterns. The text also refers to HSCR as a model for a complex oligo-/polygenic disorder.\n",
            "\n",
            "Therefore, Hirschsprung disease can be considered a multifactorial disorder with complex inheritance patterns.\n",
            "\n"
          ]
        }
      ]
    },
    {
      "cell_type": "markdown",
      "source": [
        "### xAI: Grok 2 Vision 1212"
      ],
      "metadata": {
        "id": "TRXFJPTR9qSn"
      }
    },
    {
      "cell_type": "code",
      "source": [
        "# Авторизация через OpenRouter\n",
        "OPENROUTER_API_KEY = userdata.get('OPEN_Router')\n",
        "\n",
        "# Функция для выполнения RAG с использованием модели Llama\n",
        "def perform_rag_pipeline(question, df, df_test, api_key):\n",
        "    # Шаг 1: Извлекаем контекст\n",
        "    context = perform_retrieval(question, df, df_test)\n",
        "\n",
        "    # Шаг 2: Подготовка данных для модели\n",
        "    input_data = {\n",
        "        \"model\": \"x-ai/grok-2-1212\",\n",
        "        \"messages\": [\n",
        "            {\n",
        "                \"role\": \"user\",\n",
        "                \"content\": f\"\"\"\n",
        "                Answer the user's question.\n",
        "                Use only the information from the context. If the context does not contain enough information to answer the question, let the user know.\n",
        "                Context: {context}\n",
        "                Question: {question}\n",
        "                Answer:\"\"\"\n",
        "            }\n",
        "        ]\n",
        "    }\n",
        "\n",
        "    # Шаг 3: Отправка запроса к API\n",
        "    response = requests.post(\n",
        "        url=\"https://openrouter.ai/api/v1/chat/completions\",\n",
        "        headers={\n",
        "            \"Authorization\": f\"Bearer {api_key}\",\n",
        "            \"Content-Type\": \"application/json\",\n",
        "        },\n",
        "        data=json.dumps(input_data)\n",
        "    )\n",
        "\n",
        "    # Обработка ответа\n",
        "    if response.status_code == 200:\n",
        "        data = response.json()\n",
        "        model_reply = data.get('choices', [{}])[0].get('message', {}).get('content', 'No content found')\n",
        "        return model_reply\n",
        "    else:\n",
        "        raise RuntimeError(f\"API request failed with status {response.status_code}: {response.text}\")\n",
        "\n",
        "# Пример вопроса\n",
        "q1 = 'Is Hirschsprung disease a mendelian or a multifactorial disorder?'\n",
        "\n",
        "response = perform_rag_pipeline(q1, df, df_test, OPENROUTER_API_KEY)\n",
        "print(f\"Question: {q1}\")\n",
        "print(f\"Answer: {response}\")\n",
        "model_name = \"xAI: Grok 2 Vision 1212\"\n",
        "metrics_df = add_model_metrics_to_dataframe(model_name, true_answer, response, metrics_df)"
      ],
      "metadata": {
        "id": "GT28bRyf9pu2",
        "outputId": "a806dcdb-fd18-44c8-9295-960b9985e5b8",
        "colab": {
          "base_uri": "https://localhost:8080/"
        }
      },
      "execution_count": null,
      "outputs": [
        {
          "output_type": "stream",
          "name": "stdout",
          "text": [
            "Question: Is Hirschsprung disease a mendelian or a multifactorial disorder?\n",
            "Answer: No content found\n"
          ]
        }
      ]
    },
    {
      "cell_type": "markdown",
      "source": [
        "### gpt-4o-2024-11-20"
      ],
      "metadata": {
        "id": "LgtHPwl2-uO_"
      }
    },
    {
      "cell_type": "code",
      "source": [
        "# Авторизация через OpenRouter\n",
        "OPENROUTER_API_KEY = userdata.get('OPEN_Router')\n",
        "\n",
        "# Функция для выполнения RAG с использованием модели Llama\n",
        "def perform_rag_pipeline(question, df, df_test, api_key):\n",
        "    # Шаг 1: Извлекаем контекст\n",
        "    context = perform_retrieval(question, df, df_test)\n",
        "\n",
        "    # Шаг 2: Подготовка данных для модели\n",
        "    input_data = {\n",
        "        \"model\": \"openai/gpt-4o-2024-11-20\",\n",
        "        \"messages\": [\n",
        "            {\n",
        "                \"role\": \"user\",\n",
        "                \"content\": f\"\"\"\n",
        "                Answer the user's question.\n",
        "                Use only the information from the context. If the context does not contain enough information to answer the question, let the user know.\n",
        "                Context: {context}\n",
        "                Question: {question}\n",
        "                Answer:\"\"\"\n",
        "            }\n",
        "        ]\n",
        "    }\n",
        "\n",
        "    # Шаг 3: Отправка запроса к API\n",
        "    response = requests.post(\n",
        "        url=\"https://openrouter.ai/api/v1/chat/completions\",\n",
        "        headers={\n",
        "            \"Authorization\": f\"Bearer {api_key}\",\n",
        "            \"Content-Type\": \"application/json\",\n",
        "        },\n",
        "        data=json.dumps(input_data)\n",
        "    )\n",
        "\n",
        "    # Обработка ответа\n",
        "    if response.status_code == 200:\n",
        "        data = response.json()\n",
        "        model_reply = data.get('choices', [{}])[0].get('message', {}).get('content', 'No content found')\n",
        "        return model_reply\n",
        "    else:\n",
        "        raise RuntimeError(f\"API request failed with status {response.status_code}: {response.text}\")\n",
        "\n",
        "# Пример вопроса\n",
        "q1 = 'Is Hirschsprung disease a mendelian or a multifactorial disorder?'\n",
        "\n",
        "response = perform_rag_pipeline(q1, df, df_test, OPENROUTER_API_KEY)\n",
        "print(f\"Question: {q1}\")\n",
        "print(f\"Answer: {response}\")\n",
        "model_name = \"gpt-4o-2024-11-20\"\n",
        "metrics_df = add_model_metrics_to_dataframe(model_name, true_answer, response, metrics_df)"
      ],
      "metadata": {
        "id": "Kvr7HfMG-vqW",
        "outputId": "dc92ff8d-2177-4c3f-faab-d8dbe66be81b",
        "colab": {
          "base_uri": "https://localhost:8080/"
        }
      },
      "execution_count": null,
      "outputs": [
        {
          "output_type": "stream",
          "name": "stdout",
          "text": [
            "Question: Is Hirschsprung disease a mendelian or a multifactorial disorder?\n",
            "Answer: No content found\n"
          ]
        }
      ]
    },
    {
      "cell_type": "markdown",
      "source": [
        "### Sao10K: Llama 3.3 Euryale 70B20"
      ],
      "metadata": {
        "id": "-X9LP_qw_QEI"
      }
    },
    {
      "cell_type": "code",
      "source": [
        "# Авторизация через OpenRouter\n",
        "OPENROUTER_API_KEY = userdata.get('OPEN_Router')\n",
        "\n",
        "# Функция для выполнения RAG с использованием модели Llama\n",
        "def perform_rag_pipeline(question, df, df_test, api_key):\n",
        "    # Шаг 1: Извлекаем контекст\n",
        "    context = perform_retrieval(question, df, df_test)\n",
        "\n",
        "    # Шаг 2: Подготовка данных для модели\n",
        "    input_data = {\n",
        "        \"model\": \"sao10k/l3.3-euryale-70b\",\n",
        "        \"messages\": [\n",
        "            {\n",
        "                \"role\": \"user\",\n",
        "                \"content\": f\"\"\"\n",
        "                Answer the user's question.\n",
        "                Use only the information from the context. If the context does not contain enough information to answer the question, let the user know.\n",
        "                Context: {context}\n",
        "                Question: {question}\n",
        "                Answer:\"\"\"\n",
        "            }\n",
        "        ]\n",
        "    }\n",
        "\n",
        "    # Шаг 3: Отправка запроса к API\n",
        "    response = requests.post(\n",
        "        url=\"https://openrouter.ai/api/v1/chat/completions\",\n",
        "        headers={\n",
        "            \"Authorization\": f\"Bearer {api_key}\",\n",
        "            \"Content-Type\": \"application/json\",\n",
        "        },\n",
        "        data=json.dumps(input_data)\n",
        "    )\n",
        "\n",
        "    # Обработка ответа\n",
        "    if response.status_code == 200:\n",
        "        data = response.json()\n",
        "        model_reply = data.get('choices', [{}])[0].get('message', {}).get('content', 'No content found')\n",
        "        return model_reply\n",
        "    else:\n",
        "        raise RuntimeError(f\"API request failed with status {response.status_code}: {response.text}\")\n",
        "\n",
        "# Пример вопроса\n",
        "q1 = 'Is Hirschsprung disease a mendelian or a multifactorial disorder?'\n",
        "\n",
        "response = perform_rag_pipeline(q1, df, df_test, OPENROUTER_API_KEY)\n",
        "print(f\"Question: {q1}\")\n",
        "print(f\"Answer: {response}\")\n",
        "model_name = \"Sao10K: Llama 3.3 Euryale 70B\"\n",
        "metrics_df = add_model_metrics_to_dataframe(model_name, true_answer, response, metrics_df)"
      ],
      "metadata": {
        "id": "UeDieKKq_Qvz",
        "outputId": "84a684d7-aea2-46f0-9992-b69f6c112efb",
        "colab": {
          "base_uri": "https://localhost:8080/"
        }
      },
      "execution_count": null,
      "outputs": [
        {
          "output_type": "stream",
          "name": "stdout",
          "text": [
            "Question: Is Hirschsprung disease a mendelian or a multifactorial disorder?\n",
            "Answer: Hirschsprung disease is a complex oligo-/polygenic disorder, which indicates both Mendelian and multifactorial inheritance patterns depending on the form of the disease (syndromic vs. non-syndromic, familial vs. non-familial, short-segment vs. long-segment). However, overall, it is more multifactorial due to incomplete penetrance, variable expressivity, and evidence of multiple genetic and possibly environmental factors contributing to its expression.\n"
          ]
        }
      ]
    },
    {
      "cell_type": "code",
      "source": [
        "metrics_df"
      ],
      "metadata": {
        "id": "J0Vwovsm_ooE",
        "outputId": "229d2a2b-1c38-407c-ff22-f2776db5789b",
        "colab": {
          "base_uri": "https://localhost:8080/",
          "height": 331
        }
      },
      "execution_count": null,
      "outputs": [
        {
          "output_type": "execute_result",
          "data": {
            "text/plain": [
              "                                                Model      BLEU    METEOR  \\\n",
              "0                                            Gigachat  0.012220  0.184190   \n",
              "1                                         gpt-4o-mini  0.014081  0.235693   \n",
              "2                               Llama 3.2 1B Instruct  0.010541  0.234707   \n",
              "3                                         DeepSeek V3  0.012850  0.232019   \n",
              "4                               Qwen: QvQ 72B Preview  0.011957  0.177737   \n",
              "5   Google: Gemini 2.0 Flash Thinking Experimental...  0.051784  0.265432   \n",
              "7                             xAI: Grok 2 Vision 1212  0.000000  0.000000   \n",
              "9                                   gpt-4o-2024-11-20  0.000000  0.000000   \n",
              "10                      Sao10K: Llama 3.3 Euryale 70B  0.012645  0.171514   \n",
              "\n",
              "     ROUGE-1   ROUGE-2   ROUGE-L  \n",
              "0   0.257576  0.076923  0.136364  \n",
              "1   0.341085  0.110236  0.217054  \n",
              "2   0.344371  0.107383  0.198675  \n",
              "3   0.432836  0.106061  0.208955  \n",
              "4   0.124077  0.035556  0.076809  \n",
              "5   0.317308  0.135922  0.230769  \n",
              "7   0.000000  0.000000  0.000000  \n",
              "9   0.000000  0.000000  0.000000  \n",
              "10  0.327869  0.066667  0.180328  "
            ],
            "text/html": [
              "\n",
              "  <div id=\"df-7ad78db3-3212-4b7e-bf86-07bb1118350c\" class=\"colab-df-container\">\n",
              "    <div>\n",
              "<style scoped>\n",
              "    .dataframe tbody tr th:only-of-type {\n",
              "        vertical-align: middle;\n",
              "    }\n",
              "\n",
              "    .dataframe tbody tr th {\n",
              "        vertical-align: top;\n",
              "    }\n",
              "\n",
              "    .dataframe thead th {\n",
              "        text-align: right;\n",
              "    }\n",
              "</style>\n",
              "<table border=\"1\" class=\"dataframe\">\n",
              "  <thead>\n",
              "    <tr style=\"text-align: right;\">\n",
              "      <th></th>\n",
              "      <th>Model</th>\n",
              "      <th>BLEU</th>\n",
              "      <th>METEOR</th>\n",
              "      <th>ROUGE-1</th>\n",
              "      <th>ROUGE-2</th>\n",
              "      <th>ROUGE-L</th>\n",
              "    </tr>\n",
              "  </thead>\n",
              "  <tbody>\n",
              "    <tr>\n",
              "      <th>0</th>\n",
              "      <td>Gigachat</td>\n",
              "      <td>0.012220</td>\n",
              "      <td>0.184190</td>\n",
              "      <td>0.257576</td>\n",
              "      <td>0.076923</td>\n",
              "      <td>0.136364</td>\n",
              "    </tr>\n",
              "    <tr>\n",
              "      <th>1</th>\n",
              "      <td>gpt-4o-mini</td>\n",
              "      <td>0.014081</td>\n",
              "      <td>0.235693</td>\n",
              "      <td>0.341085</td>\n",
              "      <td>0.110236</td>\n",
              "      <td>0.217054</td>\n",
              "    </tr>\n",
              "    <tr>\n",
              "      <th>2</th>\n",
              "      <td>Llama 3.2 1B Instruct</td>\n",
              "      <td>0.010541</td>\n",
              "      <td>0.234707</td>\n",
              "      <td>0.344371</td>\n",
              "      <td>0.107383</td>\n",
              "      <td>0.198675</td>\n",
              "    </tr>\n",
              "    <tr>\n",
              "      <th>3</th>\n",
              "      <td>DeepSeek V3</td>\n",
              "      <td>0.012850</td>\n",
              "      <td>0.232019</td>\n",
              "      <td>0.432836</td>\n",
              "      <td>0.106061</td>\n",
              "      <td>0.208955</td>\n",
              "    </tr>\n",
              "    <tr>\n",
              "      <th>4</th>\n",
              "      <td>Qwen: QvQ 72B Preview</td>\n",
              "      <td>0.011957</td>\n",
              "      <td>0.177737</td>\n",
              "      <td>0.124077</td>\n",
              "      <td>0.035556</td>\n",
              "      <td>0.076809</td>\n",
              "    </tr>\n",
              "    <tr>\n",
              "      <th>5</th>\n",
              "      <td>Google: Gemini 2.0 Flash Thinking Experimental...</td>\n",
              "      <td>0.051784</td>\n",
              "      <td>0.265432</td>\n",
              "      <td>0.317308</td>\n",
              "      <td>0.135922</td>\n",
              "      <td>0.230769</td>\n",
              "    </tr>\n",
              "    <tr>\n",
              "      <th>7</th>\n",
              "      <td>xAI: Grok 2 Vision 1212</td>\n",
              "      <td>0.000000</td>\n",
              "      <td>0.000000</td>\n",
              "      <td>0.000000</td>\n",
              "      <td>0.000000</td>\n",
              "      <td>0.000000</td>\n",
              "    </tr>\n",
              "    <tr>\n",
              "      <th>9</th>\n",
              "      <td>gpt-4o-2024-11-20</td>\n",
              "      <td>0.000000</td>\n",
              "      <td>0.000000</td>\n",
              "      <td>0.000000</td>\n",
              "      <td>0.000000</td>\n",
              "      <td>0.000000</td>\n",
              "    </tr>\n",
              "    <tr>\n",
              "      <th>10</th>\n",
              "      <td>Sao10K: Llama 3.3 Euryale 70B</td>\n",
              "      <td>0.012645</td>\n",
              "      <td>0.171514</td>\n",
              "      <td>0.327869</td>\n",
              "      <td>0.066667</td>\n",
              "      <td>0.180328</td>\n",
              "    </tr>\n",
              "  </tbody>\n",
              "</table>\n",
              "</div>\n",
              "    <div class=\"colab-df-buttons\">\n",
              "\n",
              "  <div class=\"colab-df-container\">\n",
              "    <button class=\"colab-df-convert\" onclick=\"convertToInteractive('df-7ad78db3-3212-4b7e-bf86-07bb1118350c')\"\n",
              "            title=\"Convert this dataframe to an interactive table.\"\n",
              "            style=\"display:none;\">\n",
              "\n",
              "  <svg xmlns=\"http://www.w3.org/2000/svg\" height=\"24px\" viewBox=\"0 -960 960 960\">\n",
              "    <path d=\"M120-120v-720h720v720H120Zm60-500h600v-160H180v160Zm220 220h160v-160H400v160Zm0 220h160v-160H400v160ZM180-400h160v-160H180v160Zm440 0h160v-160H620v160ZM180-180h160v-160H180v160Zm440 0h160v-160H620v160Z\"/>\n",
              "  </svg>\n",
              "    </button>\n",
              "\n",
              "  <style>\n",
              "    .colab-df-container {\n",
              "      display:flex;\n",
              "      gap: 12px;\n",
              "    }\n",
              "\n",
              "    .colab-df-convert {\n",
              "      background-color: #E8F0FE;\n",
              "      border: none;\n",
              "      border-radius: 50%;\n",
              "      cursor: pointer;\n",
              "      display: none;\n",
              "      fill: #1967D2;\n",
              "      height: 32px;\n",
              "      padding: 0 0 0 0;\n",
              "      width: 32px;\n",
              "    }\n",
              "\n",
              "    .colab-df-convert:hover {\n",
              "      background-color: #E2EBFA;\n",
              "      box-shadow: 0px 1px 2px rgba(60, 64, 67, 0.3), 0px 1px 3px 1px rgba(60, 64, 67, 0.15);\n",
              "      fill: #174EA6;\n",
              "    }\n",
              "\n",
              "    .colab-df-buttons div {\n",
              "      margin-bottom: 4px;\n",
              "    }\n",
              "\n",
              "    [theme=dark] .colab-df-convert {\n",
              "      background-color: #3B4455;\n",
              "      fill: #D2E3FC;\n",
              "    }\n",
              "\n",
              "    [theme=dark] .colab-df-convert:hover {\n",
              "      background-color: #434B5C;\n",
              "      box-shadow: 0px 1px 3px 1px rgba(0, 0, 0, 0.15);\n",
              "      filter: drop-shadow(0px 1px 2px rgba(0, 0, 0, 0.3));\n",
              "      fill: #FFFFFF;\n",
              "    }\n",
              "  </style>\n",
              "\n",
              "    <script>\n",
              "      const buttonEl =\n",
              "        document.querySelector('#df-7ad78db3-3212-4b7e-bf86-07bb1118350c button.colab-df-convert');\n",
              "      buttonEl.style.display =\n",
              "        google.colab.kernel.accessAllowed ? 'block' : 'none';\n",
              "\n",
              "      async function convertToInteractive(key) {\n",
              "        const element = document.querySelector('#df-7ad78db3-3212-4b7e-bf86-07bb1118350c');\n",
              "        const dataTable =\n",
              "          await google.colab.kernel.invokeFunction('convertToInteractive',\n",
              "                                                    [key], {});\n",
              "        if (!dataTable) return;\n",
              "\n",
              "        const docLinkHtml = 'Like what you see? Visit the ' +\n",
              "          '<a target=\"_blank\" href=https://colab.research.google.com/notebooks/data_table.ipynb>data table notebook</a>'\n",
              "          + ' to learn more about interactive tables.';\n",
              "        element.innerHTML = '';\n",
              "        dataTable['output_type'] = 'display_data';\n",
              "        await google.colab.output.renderOutput(dataTable, element);\n",
              "        const docLink = document.createElement('div');\n",
              "        docLink.innerHTML = docLinkHtml;\n",
              "        element.appendChild(docLink);\n",
              "      }\n",
              "    </script>\n",
              "  </div>\n",
              "\n",
              "\n",
              "<div id=\"df-42f78577-5164-43e0-84e2-ae8d4f6c879e\">\n",
              "  <button class=\"colab-df-quickchart\" onclick=\"quickchart('df-42f78577-5164-43e0-84e2-ae8d4f6c879e')\"\n",
              "            title=\"Suggest charts\"\n",
              "            style=\"display:none;\">\n",
              "\n",
              "<svg xmlns=\"http://www.w3.org/2000/svg\" height=\"24px\"viewBox=\"0 0 24 24\"\n",
              "     width=\"24px\">\n",
              "    <g>\n",
              "        <path d=\"M19 3H5c-1.1 0-2 .9-2 2v14c0 1.1.9 2 2 2h14c1.1 0 2-.9 2-2V5c0-1.1-.9-2-2-2zM9 17H7v-7h2v7zm4 0h-2V7h2v10zm4 0h-2v-4h2v4z\"/>\n",
              "    </g>\n",
              "</svg>\n",
              "  </button>\n",
              "\n",
              "<style>\n",
              "  .colab-df-quickchart {\n",
              "      --bg-color: #E8F0FE;\n",
              "      --fill-color: #1967D2;\n",
              "      --hover-bg-color: #E2EBFA;\n",
              "      --hover-fill-color: #174EA6;\n",
              "      --disabled-fill-color: #AAA;\n",
              "      --disabled-bg-color: #DDD;\n",
              "  }\n",
              "\n",
              "  [theme=dark] .colab-df-quickchart {\n",
              "      --bg-color: #3B4455;\n",
              "      --fill-color: #D2E3FC;\n",
              "      --hover-bg-color: #434B5C;\n",
              "      --hover-fill-color: #FFFFFF;\n",
              "      --disabled-bg-color: #3B4455;\n",
              "      --disabled-fill-color: #666;\n",
              "  }\n",
              "\n",
              "  .colab-df-quickchart {\n",
              "    background-color: var(--bg-color);\n",
              "    border: none;\n",
              "    border-radius: 50%;\n",
              "    cursor: pointer;\n",
              "    display: none;\n",
              "    fill: var(--fill-color);\n",
              "    height: 32px;\n",
              "    padding: 0;\n",
              "    width: 32px;\n",
              "  }\n",
              "\n",
              "  .colab-df-quickchart:hover {\n",
              "    background-color: var(--hover-bg-color);\n",
              "    box-shadow: 0 1px 2px rgba(60, 64, 67, 0.3), 0 1px 3px 1px rgba(60, 64, 67, 0.15);\n",
              "    fill: var(--button-hover-fill-color);\n",
              "  }\n",
              "\n",
              "  .colab-df-quickchart-complete:disabled,\n",
              "  .colab-df-quickchart-complete:disabled:hover {\n",
              "    background-color: var(--disabled-bg-color);\n",
              "    fill: var(--disabled-fill-color);\n",
              "    box-shadow: none;\n",
              "  }\n",
              "\n",
              "  .colab-df-spinner {\n",
              "    border: 2px solid var(--fill-color);\n",
              "    border-color: transparent;\n",
              "    border-bottom-color: var(--fill-color);\n",
              "    animation:\n",
              "      spin 1s steps(1) infinite;\n",
              "  }\n",
              "\n",
              "  @keyframes spin {\n",
              "    0% {\n",
              "      border-color: transparent;\n",
              "      border-bottom-color: var(--fill-color);\n",
              "      border-left-color: var(--fill-color);\n",
              "    }\n",
              "    20% {\n",
              "      border-color: transparent;\n",
              "      border-left-color: var(--fill-color);\n",
              "      border-top-color: var(--fill-color);\n",
              "    }\n",
              "    30% {\n",
              "      border-color: transparent;\n",
              "      border-left-color: var(--fill-color);\n",
              "      border-top-color: var(--fill-color);\n",
              "      border-right-color: var(--fill-color);\n",
              "    }\n",
              "    40% {\n",
              "      border-color: transparent;\n",
              "      border-right-color: var(--fill-color);\n",
              "      border-top-color: var(--fill-color);\n",
              "    }\n",
              "    60% {\n",
              "      border-color: transparent;\n",
              "      border-right-color: var(--fill-color);\n",
              "    }\n",
              "    80% {\n",
              "      border-color: transparent;\n",
              "      border-right-color: var(--fill-color);\n",
              "      border-bottom-color: var(--fill-color);\n",
              "    }\n",
              "    90% {\n",
              "      border-color: transparent;\n",
              "      border-bottom-color: var(--fill-color);\n",
              "    }\n",
              "  }\n",
              "</style>\n",
              "\n",
              "  <script>\n",
              "    async function quickchart(key) {\n",
              "      const quickchartButtonEl =\n",
              "        document.querySelector('#' + key + ' button');\n",
              "      quickchartButtonEl.disabled = true;  // To prevent multiple clicks.\n",
              "      quickchartButtonEl.classList.add('colab-df-spinner');\n",
              "      try {\n",
              "        const charts = await google.colab.kernel.invokeFunction(\n",
              "            'suggestCharts', [key], {});\n",
              "      } catch (error) {\n",
              "        console.error('Error during call to suggestCharts:', error);\n",
              "      }\n",
              "      quickchartButtonEl.classList.remove('colab-df-spinner');\n",
              "      quickchartButtonEl.classList.add('colab-df-quickchart-complete');\n",
              "    }\n",
              "    (() => {\n",
              "      let quickchartButtonEl =\n",
              "        document.querySelector('#df-42f78577-5164-43e0-84e2-ae8d4f6c879e button');\n",
              "      quickchartButtonEl.style.display =\n",
              "        google.colab.kernel.accessAllowed ? 'block' : 'none';\n",
              "    })();\n",
              "  </script>\n",
              "</div>\n",
              "    </div>\n",
              "  </div>\n"
            ],
            "application/vnd.google.colaboratory.intrinsic+json": {
              "type": "dataframe",
              "variable_name": "metrics_df",
              "summary": "{\n  \"name\": \"metrics_df\",\n  \"rows\": 9,\n  \"fields\": [\n    {\n      \"column\": \"Model\",\n      \"properties\": {\n        \"dtype\": \"string\",\n        \"num_unique_values\": 9,\n        \"samples\": [\n          \"gpt-4o-2024-11-20\",\n          \"gpt-4o-mini\",\n          \"Google: Gemini 2.0 Flash Thinking Experimental (free)\"\n        ],\n        \"semantic_type\": \"\",\n        \"description\": \"\"\n      }\n    },\n    {\n      \"column\": \"BLEU\",\n      \"properties\": {\n        \"dtype\": \"number\",\n        \"std\": 0.01517431181646637,\n        \"min\": 0.0,\n        \"max\": 0.05178369816858209,\n        \"num_unique_values\": 8,\n        \"samples\": [\n          0.014080976518905147,\n          0.05178369816858209,\n          0.012220029036844266\n        ],\n        \"semantic_type\": \"\",\n        \"description\": \"\"\n      }\n    },\n    {\n      \"column\": \"METEOR\",\n      \"properties\": {\n        \"dtype\": \"number\",\n        \"std\": 0.09964192015586829,\n        \"min\": 0.0,\n        \"max\": 0.26543209876543217,\n        \"num_unique_values\": 8,\n        \"samples\": [\n          0.23569302721088434,\n          0.26543209876543217,\n          0.18418950544907586\n        ],\n        \"semantic_type\": \"\",\n        \"description\": \"\"\n      }\n    },\n    {\n      \"column\": \"ROUGE-1\",\n      \"properties\": {\n        \"dtype\": \"number\",\n        \"std\": 0.1584759730657308,\n        \"min\": 0.0,\n        \"max\": 0.4328358208955224,\n        \"num_unique_values\": 8,\n        \"samples\": [\n          0.3410852713178295,\n          0.3173076923076923,\n          0.25757575757575757\n        ],\n        \"semantic_type\": \"\",\n        \"description\": \"\"\n      }\n    },\n    {\n      \"column\": \"ROUGE-2\",\n      \"properties\": {\n        \"dtype\": \"number\",\n        \"std\": 0.04962293844165812,\n        \"min\": 0.0,\n        \"max\": 0.13592233009708737,\n        \"num_unique_values\": 8,\n        \"samples\": [\n          0.11023622047244094,\n          0.13592233009708737,\n          0.07692307692307691\n        ],\n        \"semantic_type\": \"\",\n        \"description\": \"\"\n      }\n    },\n    {\n      \"column\": \"ROUGE-L\",\n      \"properties\": {\n        \"dtype\": \"number\",\n        \"std\": 0.09164680891479729,\n        \"min\": 0.0,\n        \"max\": 0.23076923076923075,\n        \"num_unique_values\": 8,\n        \"samples\": [\n          0.2170542635658915,\n          0.23076923076923075,\n          0.13636363636363635\n        ],\n        \"semantic_type\": \"\",\n        \"description\": \"\"\n      }\n    }\n  ]\n}"
            }
          },
          "metadata": {},
          "execution_count": 48
        }
      ]
    },
    {
      "cell_type": "markdown",
      "source": [
        "## Визуализация сравнений"
      ],
      "metadata": {
        "id": "5VeVXFSIFk1O"
      }
    },
    {
      "cell_type": "code",
      "source": [
        "import pandas as pd\n",
        "import matplotlib.pyplot as plt\n",
        "\n",
        "df = metrics_df\n",
        "plt.figure(figsize=(12, 8))\n",
        "df.set_index('Model').plot(kind='barh', stacked=True, figsize=(12, 8), colormap='plasma')\n",
        "\n",
        "plt.xlabel('Scores', fontsize=12)\n",
        "plt.ylabel('Models', fontsize=12)\n",
        "plt.tight_layout()\n",
        "\n",
        "plt.show()\n"
      ],
      "metadata": {
        "id": "U7xINCVYECt5",
        "outputId": "82da0dd5-0f18-4cb9-af17-62aa945d8108",
        "colab": {
          "base_uri": "https://localhost:8080/",
          "height": 824
        }
      },
      "execution_count": null,
      "outputs": [
        {
          "output_type": "display_data",
          "data": {
            "text/plain": [
              "<Figure size 1200x800 with 0 Axes>"
            ]
          },
          "metadata": {}
        },
        {
          "output_type": "display_data",
          "data": {
            "text/plain": [
              "<Figure size 1200x800 with 1 Axes>"
            ],
            "image/png": "[encoded data removed]"
          },
          "metadata": {}
        }
      ]
    },
    {
      "cell_type": "markdown",
      "source": [
        "# С векторной БД"
      ],
      "metadata": {
        "id": "EJ5Xx6RImO8b"
      }
    },
    {
      "cell_type": "code",
      "source": [
        "pip install faiss-gpu -q"
      ],
      "metadata": {
        "id": "ZjkNCwG2tPMl",
        "outputId": "b50a5d37-3809-46f9-dc7e-b88d2175cf52",
        "colab": {
          "base_uri": "https://localhost:8080/"
        }
      },
      "execution_count": 2,
      "outputs": [
        {
          "output_type": "stream",
          "name": "stdout",
          "text": [
            "\u001b[2K   \u001b[90m━━━━━━━━━━━━━━━━━━━━━━━━━━━━━━━━━━━━━━━━\u001b[0m \u001b[32m85.5/85.5 MB\u001b[0m \u001b[31m8.4 MB/s\u001b[0m eta \u001b[36m0:00:00\u001b[0m\n",
            "\u001b[?25h"
          ]
        }
      ]
    },
    {
      "cell_type": "code",
      "source": [
        "pip install faiss-cpu -q"
      ],
      "metadata": {
        "id": "7HeYE1JatCW7",
        "colab": {
          "base_uri": "https://localhost:8080/"
        },
        "outputId": "5d352a52-bc0c-4303-d187-92137af84417"
      },
      "execution_count": 3,
      "outputs": [
        {
          "output_type": "stream",
          "name": "stdout",
          "text": [
            "\u001b[2K   \u001b[90m━━━━━━━━━━━━━━━━━━━━━━━━━━━━━━━━━━━━━━━━\u001b[0m \u001b[32m27.5/27.5 MB\u001b[0m \u001b[31m42.0 MB/s\u001b[0m eta \u001b[36m0:00:00\u001b[0m\n",
            "\u001b[?25h"
          ]
        }
      ]
    },
    {
      "cell_type": "code",
      "source": [
        "pip install -U langchain-community rouge-score hnswlib -q"
      ],
      "metadata": {
        "id": "-LlaYAq2rBYu",
        "outputId": "cbda9d8d-7982-4ffa-d935-945105a408be",
        "colab": {
          "base_uri": "https://localhost:8080/"
        }
      },
      "execution_count": 4,
      "outputs": [
        {
          "output_type": "stream",
          "name": "stdout",
          "text": [
            "  Preparing metadata (setup.py) ... \u001b[?25l\u001b[?25hdone\n",
            "\u001b[2K   \u001b[90m━━━━━━━━━━━━━━━━━━━━━━━━━━━━━━━━━━━━━━━━\u001b[0m \u001b[32m2.5/2.5 MB\u001b[0m \u001b[31m28.0 MB/s\u001b[0m eta \u001b[36m0:00:00\u001b[0m\n",
            "\u001b[2K   \u001b[90m━━━━━━━━━━━━━━━━━━━━━━━━━━━━━━━━━━━━━━━━\u001b[0m \u001b[32m49.3/49.3 kB\u001b[0m \u001b[31m2.4 MB/s\u001b[0m eta \u001b[36m0:00:00\u001b[0m\n",
            "\u001b[?25h  Building wheel for rouge-score (setup.py) ... \u001b[?25l\u001b[?25hdone\n"
          ]
        }
      ]
    },
    {
      "cell_type": "code",
      "source": [
        "import faiss  # Импорт библиотеки Faiss\n",
        "from sklearn.feature_extraction.text import TfidfVectorizer\n",
        "import numpy as np\n",
        "import pandas as pd\n",
        "import requests\n",
        "import json\n",
        "from nltk.translate.bleu_score import sentence_bleu, SmoothingFunction\n",
        "from nltk.translate.meteor_score import meteor_score\n",
        "from rouge_score import rouge_scorer\n",
        "from google.colab import userdata"
      ],
      "metadata": {
        "id": "pzUzsYeEmT3_"
      },
      "execution_count": 5,
      "outputs": []
    },
    {
      "cell_type": "code",
      "source": [
        "# Загрузка данных\n",
        "df = pd.read_parquet(\"hf://datasets/rag-datasets/rag-mini-bioasq/data/passages.parquet/part.0.parquet\")\n",
        "df_test = pd.read_parquet(\"hf://datasets/rag-datasets/rag-mini-bioasq/data/test.parquet/part.0.parquet\")\n"
      ],
      "metadata": {
        "id": "_K0I92-I6nt7",
        "collapsed": true,
        "colab": {
          "base_uri": "https://localhost:8080/"
        },
        "outputId": "9e5a8cb3-d15f-4453-876c-c036e897906e"
      },
      "execution_count": 5,
      "outputs": [
        {
          "output_type": "stream",
          "name": "stderr",
          "text": [
            "/usr/local/lib/python3.10/dist-packages/huggingface_hub/utils/_auth.py:94: UserWarning: \n",
            "The secret `HF_TOKEN` does not exist in your Colab secrets.\n",
            "To authenticate with the Hugging Face Hub, create a token in your settings tab (https://huggingface.co/settings/tokens), set it as secret in your Google Colab and restart your session.\n",
            "You will be able to reuse this secret in all of your notebooks.\n",
            "Please note that authentication is recommended but still optional to access public models or datasets.\n",
            "  warnings.warn(\n"
          ]
        }
      ]
    },
    {
      "cell_type": "code",
      "source": [
        "import nltk\n",
        "nltk.download('wordnet')\n",
        "nltk.download('omw-1.4')\n",
        "nltk.download('punkt')\n",
        "# Инициализация OpenRouter API\n",
        "OPENROUTER_API_KEY = userdata.get('OPEN_Router')\n",
        "\n",
        "def query_openrouter(model, prompt):\n",
        "    headers = {\n",
        "        \"Authorization\": f\"Bearer {OPENROUTER_API_KEY}\",\n",
        "        \"Content-Type\": \"application/json\",\n",
        "    }\n",
        "    data = {\n",
        "        \"model\": model,\n",
        "        \"messages\": [\n",
        "            {\"role\": \"user\", \"content\": prompt}\n",
        "        ]\n",
        "    }\n",
        "    response = requests.post(\n",
        "        url=\"https://openrouter.ai/api/v1/chat/completions\",\n",
        "        headers=headers,\n",
        "        data=json.dumps(data)\n",
        "    )\n",
        "    if response.status_code == 200:\n",
        "        data = response.json()\n",
        "        return data.get(\"choices\", [{}])[0].get(\"message\", {}).get(\"content\", \"No content returned\")\n",
        "    else:\n",
        "        raise ValueError(f\"Error {response.status_code}: {response.text}\")\n",
        "\n",
        "\n",
        "# Подготовка векторной базы данных Faiss\n",
        "def create_faiss_index(corpus):\n",
        "    vectorizer = TfidfVectorizer(stop_words=\"english\", max_features=768)\n",
        "    vectors = vectorizer.fit_transform(corpus).toarray()\n",
        "    index = faiss.IndexFlatL2(vectors.shape[1])  # Создание векторного индекса\n",
        "    index.add(np.array(vectors, dtype=np.float32))  # Добавление векторов в индекс\n",
        "    return index, vectorizer\n",
        "\n",
        "faiss_index, vectorizer = create_faiss_index(df[\"passage\"])\n",
        "\n",
        "# Функция для извлечения релевантных документов\n",
        "def retrieve_documents(query, index, vectorizer, k=5):\n",
        "    query_vector = vectorizer.transform([query]).toarray().astype(np.float32)\n",
        "    distances, indices = index.search(query_vector, k)\n",
        "    return [df.iloc[i][\"passage\"] for i in indices[0]]\n",
        "\n",
        "# Функция RAG\n",
        "def perform_rag(question, model=\"deepseek/deepseek-chat\", k=5):\n",
        "    # Шаг 1: Ретривинг документов\n",
        "    retrieved_docs = retrieve_documents(question, faiss_index, vectorizer, k)\n",
        "    context = \" \".join(retrieved_docs)\n",
        "\n",
        "    # Шаг 2: Генерация ответа\n",
        "    prompt = f\"\"\"\n",
        "    Answer the user's question.\n",
        "    Use only the information from the context. If the context does not contain enough information to answer the question, let the user know.\n",
        "    Context: {context}\n",
        "    Question: {question}\n",
        "    Answer:\"\"\"\n",
        "    response = query_openrouter(model, prompt)\n",
        "    return response\n",
        "\n",
        "# Сравнение метрик\n",
        "def evaluate_responses(true_answer, generated_answer):\n",
        "    scorer = rouge_scorer.RougeScorer(['rouge1', 'rouge2', 'rougeL'], use_stemmer=True)\n",
        "    rouge_scores = scorer.score(true_answer, generated_answer)\n",
        "\n",
        "    # BLEU\n",
        "    smooth_fn = SmoothingFunction().method1\n",
        "    true_tokens = true_answer.split()\n",
        "    generated_tokens = generated_answer.split()\n",
        "    bleu = sentence_bleu([true_tokens], generated_tokens, smoothing_function=smooth_fn)\n",
        "\n",
        "    # METEOR\n",
        "    meteor = meteor_score([true_tokens], generated_tokens)\n",
        "\n",
        "    return {\n",
        "        \"ROUGE-1\": rouge_scores[\"rouge1\"].fmeasure,\n",
        "        \"ROUGE-2\": rouge_scores[\"rouge2\"].fmeasure,\n",
        "        \"ROUGE-L\": rouge_scores[\"rougeL\"].fmeasure,\n",
        "        \"BLEU\": bleu,\n",
        "        \"METEOR\": meteor\n",
        "    }\n",
        "\n",
        "# Основной пайплайн: проверяем только первые три вопроса\n",
        "results = []\n",
        "for i, row in df_test.head(3).iterrows():  # Используем .head(3) для первых трёх строк\n",
        "    question = row[\"question\"]\n",
        "    true_answer = row[\"answer\"]\n",
        "\n",
        "    # Без RAG\n",
        "    prompt_without_rag = f\"\"\"\n",
        "    Answer the user's question.\n",
        "    Question: {question}\n",
        "    Answer:\"\"\"\n",
        "    response_without_rag = query_openrouter(\"deepseek/deepseek-chat\", prompt_without_rag)\n",
        "\n",
        "    # С RAG\n",
        "    response_with_rag = perform_rag(question)\n",
        "\n",
        "    # Оценка\n",
        "    metrics_without_rag = evaluate_responses(true_answer, response_without_rag)\n",
        "    metrics_with_rag = evaluate_responses(true_answer, response_with_rag)\n",
        "\n",
        "    results.append({\n",
        "        \"Question\": question,\n",
        "        \"True Answer\": true_answer,\n",
        "        \"Response without RAG\": response_without_rag,\n",
        "        \"Response with RAG\": response_with_rag,\n",
        "        \"Metrics without RAG\": metrics_without_rag,\n",
        "        \"Metrics with RAG\": metrics_with_rag\n",
        "    })\n",
        "\n",
        "# Создание DataFrame для визуализации\n",
        "results_df = pd.DataFrame(results)\n",
        "print(results_df)\n",
        "query_openrouter"
      ],
      "metadata": {
        "id": "mN0f5bVxrbUY",
        "outputId": "025a1283-fd19-4388-8098-ad0b79df89d7",
        "colab": {
          "base_uri": "https://localhost:8080/",
          "height": 676
        }
      },
      "execution_count": null,
      "outputs": [
        {
          "output_type": "stream",
          "name": "stderr",
          "text": [
            "[nltk_data] Downloading package wordnet to /root/nltk_data...\n",
            "[nltk_data] Downloading package omw-1.4 to /root/nltk_data...\n",
            "[nltk_data] Downloading package punkt to /root/nltk_data...\n",
            "[nltk_data]   Unzipping tokenizers/punkt.zip.\n"
          ]
        },
        {
          "output_type": "stream",
          "name": "stdout",
          "text": [
            "                                            Question  \\\n",
            "0  Is Hirschsprung disease a mendelian or a multi...   \n",
            "1  List signaling molecules (ligands) that intera...   \n",
            "2                   Is the protein Papilin secreted?   \n",
            "\n",
            "                                         True Answer  \\\n",
            "0  Coding sequence mutations in RET, GDNF, EDNRB,...   \n",
            "1  The 7 known EGFR ligands  are: epidermal growt...   \n",
            "2                Yes,  papilin is a secreted protein   \n",
            "\n",
            "                                Response without RAG  \\\n",
            "0  Hirschsprung disease (HSCR) is primarily consi...   \n",
            "1  The epidermal growth factor receptor (EGFR) in...   \n",
            "2  As of the current scientific knowledge, there ...   \n",
            "\n",
            "                                   Response with RAG  \\\n",
            "0  Hirschsprung disease is described as a heterog...   \n",
            "1  Based on the context provided, the signaling m...   \n",
            "2  The context does not provide any information a...   \n",
            "\n",
            "                                 Metrics without RAG  \\\n",
            "0  {'ROUGE-1': 0.2635658914728682, 'ROUGE-2': 0.0...   \n",
            "1  {'ROUGE-1': 0.4716981132075472, 'ROUGE-2': 0.2...   \n",
            "2  {'ROUGE-1': 0.10101010101010101, 'ROUGE-2': 0....   \n",
            "\n",
            "                                    Metrics with RAG  \n",
            "0  {'ROUGE-1': 0.2958579881656805, 'ROUGE-2': 0.0...  \n",
            "1  {'ROUGE-1': 0.17964071856287425, 'ROUGE-2': 0....  \n",
            "2  {'ROUGE-1': 0.24242424242424243, 'ROUGE-2': 0....  \n"
          ]
        },
        {
          "output_type": "execute_result",
          "data": {
            "text/plain": [
              "<function __main__.query_openrouter(model, prompt)>"
            ],
            "text/html": [
              "<div style=\"max-width:800px; border: 1px solid var(--colab-border-color);\"><style>\n",
              "      pre.function-repr-contents {\n",
              "        overflow-x: auto;\n",
              "        padding: 8px 12px;\n",
              "        max-height: 500px;\n",
              "      }\n",
              "\n",
              "      pre.function-repr-contents.function-repr-contents-collapsed {\n",
              "        cursor: pointer;\n",
              "        max-height: 100px;\n",
              "      }\n",
              "    </style>\n",
              "    <pre style=\"white-space: initial; background:\n",
              "         var(--colab-secondary-surface-color); padding: 8px 12px;\n",
              "         border-bottom: 1px solid var(--colab-border-color);\"><b>query_openrouter</b><br/>def query_openrouter(model, prompt)</pre><pre class=\"function-repr-contents function-repr-contents-collapsed\" style=\"\"><a class=\"filepath\" style=\"display:none\" href=\"#\">/content/&lt;ipython-input-22-5c6b87bf395b&gt;</a>&lt;no docstring&gt;</pre></div>"
            ]
          },
          "metadata": {},
          "execution_count": 22
        }
      ]
    },
    {
      "cell_type": "code",
      "source": [
        "results_df"
      ],
      "metadata": {
        "id": "zKAcvz-J8FIt",
        "outputId": "9c2ff70a-80b4-4710-ba64-9f2e874eb591",
        "colab": {
          "base_uri": "https://localhost:8080/",
          "height": 247
        }
      },
      "execution_count": null,
      "outputs": [
        {
          "output_type": "execute_result",
          "data": {
            "text/plain": [
              "                                            Question  \\\n",
              "0  Is Hirschsprung disease a mendelian or a multi...   \n",
              "1  List signaling molecules (ligands) that intera...   \n",
              "2                   Is the protein Papilin secreted?   \n",
              "\n",
              "                                         True Answer  \\\n",
              "0  Coding sequence mutations in RET, GDNF, EDNRB,...   \n",
              "1  The 7 known EGFR ligands  are: epidermal growt...   \n",
              "2                Yes,  papilin is a secreted protein   \n",
              "\n",
              "                                Response without RAG  \\\n",
              "0  Hirschsprung disease (HSCR) is primarily consi...   \n",
              "1  The epidermal growth factor receptor (EGFR) in...   \n",
              "2  As of the current scientific knowledge, there ...   \n",
              "\n",
              "                                   Response with RAG  \\\n",
              "0  Hirschsprung disease is described as a heterog...   \n",
              "1  Based on the context provided, the signaling m...   \n",
              "2  The context does not provide any information a...   \n",
              "\n",
              "                                 Metrics without RAG  \\\n",
              "0  {'ROUGE-1': 0.2635658914728682, 'ROUGE-2': 0.0...   \n",
              "1  {'ROUGE-1': 0.4716981132075472, 'ROUGE-2': 0.2...   \n",
              "2  {'ROUGE-1': 0.10101010101010101, 'ROUGE-2': 0....   \n",
              "\n",
              "                                    Metrics with RAG  \n",
              "0  {'ROUGE-1': 0.2958579881656805, 'ROUGE-2': 0.0...  \n",
              "1  {'ROUGE-1': 0.17964071856287425, 'ROUGE-2': 0....  \n",
              "2  {'ROUGE-1': 0.24242424242424243, 'ROUGE-2': 0....  "
            ],
            "text/html": [
              "\n",
              "  <div id=\"df-651121cc-3f26-4f57-bcff-3b8a76b61e40\" class=\"colab-df-container\">\n",
              "    <div>\n",
              "<style scoped>\n",
              "    .dataframe tbody tr th:only-of-type {\n",
              "        vertical-align: middle;\n",
              "    }\n",
              "\n",
              "    .dataframe tbody tr th {\n",
              "        vertical-align: top;\n",
              "    }\n",
              "\n",
              "    .dataframe thead th {\n",
              "        text-align: right;\n",
              "    }\n",
              "</style>\n",
              "<table border=\"1\" class=\"dataframe\">\n",
              "  <thead>\n",
              "    <tr style=\"text-align: right;\">\n",
              "      <th></th>\n",
              "      <th>Question</th>\n",
              "      <th>True Answer</th>\n",
              "      <th>Response without RAG</th>\n",
              "      <th>Response with RAG</th>\n",
              "      <th>Metrics without RAG</th>\n",
              "      <th>Metrics with RAG</th>\n",
              "    </tr>\n",
              "  </thead>\n",
              "  <tbody>\n",
              "    <tr>\n",
              "      <th>0</th>\n",
              "      <td>Is Hirschsprung disease a mendelian or a multi...</td>\n",
              "      <td>Coding sequence mutations in RET, GDNF, EDNRB,...</td>\n",
              "      <td>Hirschsprung disease (HSCR) is primarily consi...</td>\n",
              "      <td>Hirschsprung disease is described as a heterog...</td>\n",
              "      <td>{'ROUGE-1': 0.2635658914728682, 'ROUGE-2': 0.0...</td>\n",
              "      <td>{'ROUGE-1': 0.2958579881656805, 'ROUGE-2': 0.0...</td>\n",
              "    </tr>\n",
              "    <tr>\n",
              "      <th>1</th>\n",
              "      <td>List signaling molecules (ligands) that intera...</td>\n",
              "      <td>The 7 known EGFR ligands  are: epidermal growt...</td>\n",
              "      <td>The epidermal growth factor receptor (EGFR) in...</td>\n",
              "      <td>Based on the context provided, the signaling m...</td>\n",
              "      <td>{'ROUGE-1': 0.4716981132075472, 'ROUGE-2': 0.2...</td>\n",
              "      <td>{'ROUGE-1': 0.17964071856287425, 'ROUGE-2': 0....</td>\n",
              "    </tr>\n",
              "    <tr>\n",
              "      <th>2</th>\n",
              "      <td>Is the protein Papilin secreted?</td>\n",
              "      <td>Yes,  papilin is a secreted protein</td>\n",
              "      <td>As of the current scientific knowledge, there ...</td>\n",
              "      <td>The context does not provide any information a...</td>\n",
              "      <td>{'ROUGE-1': 0.10101010101010101, 'ROUGE-2': 0....</td>\n",
              "      <td>{'ROUGE-1': 0.24242424242424243, 'ROUGE-2': 0....</td>\n",
              "    </tr>\n",
              "  </tbody>\n",
              "</table>\n",
              "</div>\n",
              "    <div class=\"colab-df-buttons\">\n",
              "\n",
              "  <div class=\"colab-df-container\">\n",
              "    <button class=\"colab-df-convert\" onclick=\"convertToInteractive('df-651121cc-3f26-4f57-bcff-3b8a76b61e40')\"\n",
              "            title=\"Convert this dataframe to an interactive table.\"\n",
              "            style=\"display:none;\">\n",
              "\n",
              "  <svg xmlns=\"http://www.w3.org/2000/svg\" height=\"24px\" viewBox=\"0 -960 960 960\">\n",
              "    <path d=\"M120-120v-720h720v720H120Zm60-500h600v-160H180v160Zm220 220h160v-160H400v160Zm0 220h160v-160H400v160ZM180-400h160v-160H180v160Zm440 0h160v-160H620v160ZM180-180h160v-160H180v160Zm440 0h160v-160H620v160Z\"/>\n",
              "  </svg>\n",
              "    </button>\n",
              "\n",
              "  <style>\n",
              "    .colab-df-container {\n",
              "      display:flex;\n",
              "      gap: 12px;\n",
              "    }\n",
              "\n",
              "    .colab-df-convert {\n",
              "      background-color: #E8F0FE;\n",
              "      border: none;\n",
              "      border-radius: 50%;\n",
              "      cursor: pointer;\n",
              "      display: none;\n",
              "      fill: #1967D2;\n",
              "      height: 32px;\n",
              "      padding: 0 0 0 0;\n",
              "      width: 32px;\n",
              "    }\n",
              "\n",
              "    .colab-df-convert:hover {\n",
              "      background-color: #E2EBFA;\n",
              "      box-shadow: 0px 1px 2px rgba(60, 64, 67, 0.3), 0px 1px 3px 1px rgba(60, 64, 67, 0.15);\n",
              "      fill: #174EA6;\n",
              "    }\n",
              "\n",
              "    .colab-df-buttons div {\n",
              "      margin-bottom: 4px;\n",
              "    }\n",
              "\n",
              "    [theme=dark] .colab-df-convert {\n",
              "      background-color: #3B4455;\n",
              "      fill: #D2E3FC;\n",
              "    }\n",
              "\n",
              "    [theme=dark] .colab-df-convert:hover {\n",
              "      background-color: #434B5C;\n",
              "      box-shadow: 0px 1px 3px 1px rgba(0, 0, 0, 0.15);\n",
              "      filter: drop-shadow(0px 1px 2px rgba(0, 0, 0, 0.3));\n",
              "      fill: #FFFFFF;\n",
              "    }\n",
              "  </style>\n",
              "\n",
              "    <script>\n",
              "      const buttonEl =\n",
              "        document.querySelector('#df-651121cc-3f26-4f57-bcff-3b8a76b61e40 button.colab-df-convert');\n",
              "      buttonEl.style.display =\n",
              "        google.colab.kernel.accessAllowed ? 'block' : 'none';\n",
              "\n",
              "      async function convertToInteractive(key) {\n",
              "        const element = document.querySelector('#df-651121cc-3f26-4f57-bcff-3b8a76b61e40');\n",
              "        const dataTable =\n",
              "          await google.colab.kernel.invokeFunction('convertToInteractive',\n",
              "                                                    [key], {});\n",
              "        if (!dataTable) return;\n",
              "\n",
              "        const docLinkHtml = 'Like what you see? Visit the ' +\n",
              "          '<a target=\"_blank\" href=https://colab.research.google.com/notebooks/data_table.ipynb>data table notebook</a>'\n",
              "          + ' to learn more about interactive tables.';\n",
              "        element.innerHTML = '';\n",
              "        dataTable['output_type'] = 'display_data';\n",
              "        await google.colab.output.renderOutput(dataTable, element);\n",
              "        const docLink = document.createElement('div');\n",
              "        docLink.innerHTML = docLinkHtml;\n",
              "        element.appendChild(docLink);\n",
              "      }\n",
              "    </script>\n",
              "  </div>\n",
              "\n",
              "\n",
              "<div id=\"df-eb67ca35-4304-4f59-88b5-92c03c6eabcb\">\n",
              "  <button class=\"colab-df-quickchart\" onclick=\"quickchart('df-eb67ca35-4304-4f59-88b5-92c03c6eabcb')\"\n",
              "            title=\"Suggest charts\"\n",
              "            style=\"display:none;\">\n",
              "\n",
              "<svg xmlns=\"http://www.w3.org/2000/svg\" height=\"24px\"viewBox=\"0 0 24 24\"\n",
              "     width=\"24px\">\n",
              "    <g>\n",
              "        <path d=\"M19 3H5c-1.1 0-2 .9-2 2v14c0 1.1.9 2 2 2h14c1.1 0 2-.9 2-2V5c0-1.1-.9-2-2-2zM9 17H7v-7h2v7zm4 0h-2V7h2v10zm4 0h-2v-4h2v4z\"/>\n",
              "    </g>\n",
              "</svg>\n",
              "  </button>\n",
              "\n",
              "<style>\n",
              "  .colab-df-quickchart {\n",
              "      --bg-color: #E8F0FE;\n",
              "      --fill-color: #1967D2;\n",
              "      --hover-bg-color: #E2EBFA;\n",
              "      --hover-fill-color: #174EA6;\n",
              "      --disabled-fill-color: #AAA;\n",
              "      --disabled-bg-color: #DDD;\n",
              "  }\n",
              "\n",
              "  [theme=dark] .colab-df-quickchart {\n",
              "      --bg-color: #3B4455;\n",
              "      --fill-color: #D2E3FC;\n",
              "      --hover-bg-color: #434B5C;\n",
              "      --hover-fill-color: #FFFFFF;\n",
              "      --disabled-bg-color: #3B4455;\n",
              "      --disabled-fill-color: #666;\n",
              "  }\n",
              "\n",
              "  .colab-df-quickchart {\n",
              "    background-color: var(--bg-color);\n",
              "    border: none;\n",
              "    border-radius: 50%;\n",
              "    cursor: pointer;\n",
              "    display: none;\n",
              "    fill: var(--fill-color);\n",
              "    height: 32px;\n",
              "    padding: 0;\n",
              "    width: 32px;\n",
              "  }\n",
              "\n",
              "  .colab-df-quickchart:hover {\n",
              "    background-color: var(--hover-bg-color);\n",
              "    box-shadow: 0 1px 2px rgba(60, 64, 67, 0.3), 0 1px 3px 1px rgba(60, 64, 67, 0.15);\n",
              "    fill: var(--button-hover-fill-color);\n",
              "  }\n",
              "\n",
              "  .colab-df-quickchart-complete:disabled,\n",
              "  .colab-df-quickchart-complete:disabled:hover {\n",
              "    background-color: var(--disabled-bg-color);\n",
              "    fill: var(--disabled-fill-color);\n",
              "    box-shadow: none;\n",
              "  }\n",
              "\n",
              "  .colab-df-spinner {\n",
              "    border: 2px solid var(--fill-color);\n",
              "    border-color: transparent;\n",
              "    border-bottom-color: var(--fill-color);\n",
              "    animation:\n",
              "      spin 1s steps(1) infinite;\n",
              "  }\n",
              "\n",
              "  @keyframes spin {\n",
              "    0% {\n",
              "      border-color: transparent;\n",
              "      border-bottom-color: var(--fill-color);\n",
              "      border-left-color: var(--fill-color);\n",
              "    }\n",
              "    20% {\n",
              "      border-color: transparent;\n",
              "      border-left-color: var(--fill-color);\n",
              "      border-top-color: var(--fill-color);\n",
              "    }\n",
              "    30% {\n",
              "      border-color: transparent;\n",
              "      border-left-color: var(--fill-color);\n",
              "      border-top-color: var(--fill-color);\n",
              "      border-right-color: var(--fill-color);\n",
              "    }\n",
              "    40% {\n",
              "      border-color: transparent;\n",
              "      border-right-color: var(--fill-color);\n",
              "      border-top-color: var(--fill-color);\n",
              "    }\n",
              "    60% {\n",
              "      border-color: transparent;\n",
              "      border-right-color: var(--fill-color);\n",
              "    }\n",
              "    80% {\n",
              "      border-color: transparent;\n",
              "      border-right-color: var(--fill-color);\n",
              "      border-bottom-color: var(--fill-color);\n",
              "    }\n",
              "    90% {\n",
              "      border-color: transparent;\n",
              "      border-bottom-color: var(--fill-color);\n",
              "    }\n",
              "  }\n",
              "</style>\n",
              "\n",
              "  <script>\n",
              "    async function quickchart(key) {\n",
              "      const quickchartButtonEl =\n",
              "        document.querySelector('#' + key + ' button');\n",
              "      quickchartButtonEl.disabled = true;  // To prevent multiple clicks.\n",
              "      quickchartButtonEl.classList.add('colab-df-spinner');\n",
              "      try {\n",
              "        const charts = await google.colab.kernel.invokeFunction(\n",
              "            'suggestCharts', [key], {});\n",
              "      } catch (error) {\n",
              "        console.error('Error during call to suggestCharts:', error);\n",
              "      }\n",
              "      quickchartButtonEl.classList.remove('colab-df-spinner');\n",
              "      quickchartButtonEl.classList.add('colab-df-quickchart-complete');\n",
              "    }\n",
              "    (() => {\n",
              "      let quickchartButtonEl =\n",
              "        document.querySelector('#df-eb67ca35-4304-4f59-88b5-92c03c6eabcb button');\n",
              "      quickchartButtonEl.style.display =\n",
              "        google.colab.kernel.accessAllowed ? 'block' : 'none';\n",
              "    })();\n",
              "  </script>\n",
              "</div>\n",
              "    </div>\n",
              "  </div>\n"
            ],
            "application/vnd.google.colaboratory.intrinsic+json": {
              "type": "dataframe",
              "variable_name": "results_df",
              "summary": "{\n  \"name\": \"results_df\",\n  \"rows\": 3,\n  \"fields\": [\n    {\n      \"column\": \"Question\",\n      \"properties\": {\n        \"dtype\": \"string\",\n        \"num_unique_values\": 3,\n        \"samples\": [\n          \"Is Hirschsprung disease a mendelian or a multifactorial disorder?\",\n          \"List signaling molecules (ligands) that interact with the receptor EGFR?\",\n          \"Is the protein Papilin secreted?\"\n        ],\n        \"semantic_type\": \"\",\n        \"description\": \"\"\n      }\n    },\n    {\n      \"column\": \"True Answer\",\n      \"properties\": {\n        \"dtype\": \"string\",\n        \"num_unique_values\": 3,\n        \"samples\": [\n          \"Coding sequence mutations in RET, GDNF, EDNRB, EDN3, and SOX10 are involved in the development of Hirschsprung disease. The majority of these genes was shown to be related to Mendelian syndromic forms of Hirschsprung's disease, whereas the non-Mendelian inheritance of sporadic non-syndromic Hirschsprung disease proved to be complex; involvement of multiple loci was demonstrated in a multiplicative model.\",\n          \"The 7 known EGFR ligands  are: epidermal growth factor (EGF), betacellulin (BTC), epiregulin (EPR), heparin-binding EGF (HB-EGF), transforming growth factor-\\u03b1 [TGF-\\u03b1], amphiregulin (AREG) and epigen (EPG).\",\n          \"Yes,  papilin is a secreted protein\"\n        ],\n        \"semantic_type\": \"\",\n        \"description\": \"\"\n      }\n    },\n    {\n      \"column\": \"Response without RAG\",\n      \"properties\": {\n        \"dtype\": \"string\",\n        \"num_unique_values\": 3,\n        \"samples\": [\n          \"Hirschsprung disease (HSCR) is primarily considered a **multifactorial disorder**, meaning it arises from a combination of genetic and environmental factors. While there are rare cases where HSCR follows a Mendelian inheritance pattern (e.g., mutations in the *RET* gene), most cases involve complex interactions between multiple genes and environmental influences. Thus, it is not strictly a Mendelian disorder but rather a condition with both genetic and multifactorial components.\",\n          \"The epidermal growth factor receptor (EGFR) interacts with several signaling molecules (ligands) that activate its signaling pathway. These ligands include:\\n\\n1. **Epidermal Growth Factor (EGF)**  \\n2. **Transforming Growth Factor-alpha (TGF-\\u03b1)**  \\n3. **Amphiregulin (AREG)**  \\n4. **Heparin-binding EGF-like Growth Factor (HB-EGF)**  \\n5. **Betacellulin (BTC)**  \\n6. **Epiregulin (EPR)**  \\n7. **Epigen**  \\n\\nThese ligands bind to the extracellular domain of EGFR, leading to receptor dimerization, autophosphorylation, and activation of downstream signaling pathways involved in cell growth, proliferation, and survival.\",\n          \"As of the current scientific knowledge, there is no widely recognized protein named \\\"Papilin.\\\" If you are referring to a specific protein or a protein from a particular organism, it might be a less-known or hypothetical protein. If you have more context or details about the protein, it would be helpful to provide a more accurate answer regarding whether it is secreted or not. Generally, proteins are secreted if they are produced in cells and then transported outside the cell or into the extracellular space, often through mechanisms involving the secretory pathway.\"\n        ],\n        \"semantic_type\": \"\",\n        \"description\": \"\"\n      }\n    },\n    {\n      \"column\": \"Response with RAG\",\n      \"properties\": {\n        \"dtype\": \"string\",\n        \"num_unique_values\": 3,\n        \"samples\": [\n          \"Hirschsprung disease is described as a heterogeneous disorder with familial cases mapping to at least three loci, and homozygous mutations in the endothelin-B receptor gene (EDNRB) have been identified in humans and mice with Hirschsprung disease type 2 (HSCR2). This suggests a genetic basis involving specific loci and mutations, which aligns with a Mendelian inheritance pattern. However, the context does not explicitly state whether it is purely Mendelian or multifactorial. Based on the provided information, Hirschsprung disease appears to have a strong genetic component consistent with Mendelian inheritance, but the possibility of multifactorial influences is not ruled out. For a definitive answer, additional information would be needed.\",\n          \"Based on the context provided, the signaling molecules (ligands) that interact with the EGFR (Epidermal Growth Factor Receptor) include:\\n\\n1. **Prolidase (PEPD)**: A cytosolic enzyme that directly binds to and activates EGFR, stimulating downstream signaling proteins. It is unique in that it does not possess an EGF motif and is not synthesized as a transmembrane precursor.\\n\\n2. **Tumor-associated trypsinogen inhibitor (TATI/SPINK1)**: An EGFR ligand that has been shown to be an independent prognostic marker in colorectal cancer (CRC).\\n\\n3. **Epidermal Growth Factor (EGF)**: Although not explicitly mentioned in the context, it is implied as a known EGFR ligand since PEPD binding to EGFR can be blocked by EGF.\\n\\nThese are the ligands mentioned in the context that interact with EGFR. If there are other known ligands not mentioned here, they are not covered in the provided context.\",\n          \"The context does not provide any information about the protein Papilin or whether it is secreted. Therefore, I cannot answer the question based on the given context.\"\n        ],\n        \"semantic_type\": \"\",\n        \"description\": \"\"\n      }\n    },\n    {\n      \"column\": \"Metrics without RAG\",\n      \"properties\": {\n        \"dtype\": \"object\",\n        \"semantic_type\": \"\",\n        \"description\": \"\"\n      }\n    },\n    {\n      \"column\": \"Metrics with RAG\",\n      \"properties\": {\n        \"dtype\": \"object\",\n        \"semantic_type\": \"\",\n        \"description\": \"\"\n      }\n    }\n  ]\n}"
            }
          },
          "metadata": {},
          "execution_count": 23
        }
      ]
    },
    {
      "cell_type": "code",
      "source": [
        "import faiss\n",
        "from sklearn.feature_extraction.text import TfidfVectorizer\n",
        "import numpy as np\n",
        "import pandas as pd\n",
        "import requests\n",
        "import json\n",
        "from nltk.translate.bleu_score import sentence_bleu, SmoothingFunction\n",
        "from nltk.translate.meteor_score import meteor_score\n",
        "from rouge_score import rouge_scorer\n",
        "from google.colab import userdata\n",
        "import nltk\n",
        "\n",
        "# Загрузка необходимых ресурсов\n",
        "nltk.download('wordnet')\n",
        "nltk.download('omw-1.4')\n",
        "nltk.download('punkt')\n",
        "\n",
        "# Загрузка данных\n",
        "df = pd.read_parquet(\"hf://datasets/rag-datasets/rag-mini-bioasq/data/passages.parquet/part.0.parquet\")\n",
        "df_test = pd.read_parquet(\"hf://datasets/rag-datasets/rag-mini-bioasq/data/test.parquet/part.0.parquet\")\n",
        "\n",
        "# Инициализация OpenRouter API\n",
        "OPENROUTER_API_KEY = userdata.get('OPEN_Router')\n",
        "\n",
        "def query_openrouter(model, prompt):\n",
        "    headers = {\n",
        "        \"Authorization\": f\"Bearer {OPENROUTER_API_KEY}\",\n",
        "        \"Content-Type\": \"application/json\",\n",
        "    }\n",
        "    data = {\n",
        "        \"model\": model,\n",
        "        \"messages\": [\n",
        "            {\"role\": \"user\", \"content\": prompt}\n",
        "        ]\n",
        "    }\n",
        "    response = requests.post(\n",
        "        url=\"https://openrouter.ai/api/v1/chat/completions\",\n",
        "        headers=headers,\n",
        "        data=json.dumps(data)\n",
        "    )\n",
        "    if response.status_code == 200:\n",
        "        data = response.json()\n",
        "        return data.get(\"choices\", [{}])[0].get(\"message\", {}).get(\"content\", \"No content returned\")\n",
        "    else:\n",
        "        raise ValueError(f\"Error {response.status_code}: {response.text}\")\n",
        "\n",
        "# Подготовка векторной базы данных Faiss\n",
        "def create_faiss_index(corpus):\n",
        "    vectorizer = TfidfVectorizer(stop_words=\"english\", max_features=768)\n",
        "    vectors = vectorizer.fit_transform(corpus).toarray()\n",
        "    index = faiss.IndexFlatL2(vectors.shape[1])  # Создание векторного индекса\n",
        "    index.add(np.array(vectors, dtype=np.float32))  # Добавление векторов в индекс\n",
        "    return index, vectorizer\n",
        "\n",
        "faiss_index, vectorizer = create_faiss_index(df[\"passage\"])\n",
        "\n",
        "# Функция для извлечения релевантных документов\n",
        "def retrieve_documents(query, index, vectorizer, k=5):\n",
        "    query_vector = vectorizer.transform([query]).toarray().astype(np.float32)\n",
        "    distances, indices = index.search(query_vector, k)\n",
        "    return [df.iloc[i][\"passage\"] for i in indices[0]]\n",
        "\n",
        "# Функция RAG\n",
        "def perform_rag(question, index, vectorizer, model=\"deepseek/deepseek-chat\", k=5):\n",
        "    # Шаг 1: Ретривинг документов\n",
        "    retrieved_docs = retrieve_documents(question, index, vectorizer, k)\n",
        "    context = \" \".join(retrieved_docs)\n",
        "\n",
        "    # Шаг 2: Генерация ответа\n",
        "    prompt = f\"\"\"\n",
        "    Answer the user's question.\n",
        "    Use only the information from the context. If the context does not contain enough information to answer the question, let the user know.\n",
        "    Context: {context}\n",
        "    Question: {question}\n",
        "    Answer:\"\"\"\n",
        "    response = query_openrouter(model, prompt)\n",
        "    return response\n",
        "\n",
        "# Сравнение метрик\n",
        "def evaluate_responses(true_answer, generated_answer):\n",
        "    scorer = rouge_scorer.RougeScorer(['rouge1', 'rouge2', 'rougeL'], use_stemmer=True)\n",
        "    rouge_scores = scorer.score(true_answer, generated_answer)\n",
        "\n",
        "    # BLEU\n",
        "    smooth_fn = SmoothingFunction().method1\n",
        "    true_tokens = true_answer.split()\n",
        "    generated_tokens = generated_answer.split()\n",
        "    bleu = sentence_bleu([true_tokens], generated_tokens, smoothing_function=smooth_fn)\n",
        "\n",
        "    # METEOR\n",
        "    meteor = meteor_score([true_tokens], generated_tokens)\n",
        "\n",
        "    return {\n",
        "        \"ROUGE-1\": rouge_scores[\"rouge1\"].fmeasure,\n",
        "        \"ROUGE-2\": rouge_scores[\"rouge2\"].fmeasure,\n",
        "        \"ROUGE-L\": rouge_scores[\"rougeL\"].fmeasure,\n",
        "        \"BLEU\": bleu,\n",
        "        \"METEOR\": meteor\n",
        "    }\n",
        "\n",
        "# Основной пайплайн: проверяем первые 10 вопросов\n",
        "results = []\n",
        "for i, row in df_test.head(10).iterrows():\n",
        "    question = row[\"question\"]\n",
        "    true_answer = row[\"answer\"]\n",
        "\n",
        "    # С RAG\n",
        "    response_with_rag = perform_rag(question, faiss_index, vectorizer)\n",
        "\n",
        "    # Оценка\n",
        "    metrics_with_rag = evaluate_responses(true_answer, response_with_rag)\n",
        "    results.append(metrics_with_rag)\n",
        "\n",
        "# Средние значения по метрикам\n",
        "avg_metrics = {metric: np.mean([res[metric] for res in results]) for metric in results[0].keys()}\n",
        "avg_metrics[\"Vector Store\"] = \"Faiss\"\n",
        "\n",
        "# Создание итогового DataFrame\n",
        "final_df = pd.DataFrame([avg_metrics])\n",
        "\n",
        "# Упорядочивание столбцов\n",
        "cols = [\"Vector Store\"] + [col for col in final_df.columns if col != \"Vector Store\"]\n",
        "final_df = final_df[cols]\n",
        "\n",
        "print(final_df)\n"
      ],
      "metadata": {
        "colab": {
          "base_uri": "https://localhost:8080/"
        },
        "id": "yg7jArU3sUVR",
        "outputId": "dbed3299-0f9b-4d36-bd2d-98ea9d511257"
      },
      "execution_count": 6,
      "outputs": [
        {
          "output_type": "stream",
          "name": "stderr",
          "text": [
            "[nltk_data] Downloading package wordnet to /root/nltk_data...\n",
            "[nltk_data] Downloading package omw-1.4 to /root/nltk_data...\n",
            "[nltk_data] Downloading package punkt to /root/nltk_data...\n",
            "[nltk_data]   Unzipping tokenizers/punkt.zip.\n",
            "/usr/local/lib/python3.10/dist-packages/huggingface_hub/utils/_auth.py:94: UserWarning: \n",
            "The secret `HF_TOKEN` does not exist in your Colab secrets.\n",
            "To authenticate with the Hugging Face Hub, create a token in your settings tab (https://huggingface.co/settings/tokens), set it as secret in your Google Colab and restart your session.\n",
            "You will be able to reuse this secret in all of your notebooks.\n",
            "Please note that authentication is recommended but still optional to access public models or datasets.\n",
            "  warnings.warn(\n"
          ]
        },
        {
          "output_type": "stream",
          "name": "stdout",
          "text": [
            "  Vector Store   ROUGE-1   ROUGE-2   ROUGE-L      BLEU    METEOR\n",
            "0        Faiss  0.174695  0.065575  0.148203  0.025629  0.155393\n"
          ]
        }
      ]
    },
    {
      "cell_type": "code",
      "source": [
        "# Функция генерации без RAG\n",
        "def perform_without_rag(question, model=\"deepseek/deepseek-chat\"):\n",
        "    prompt = f\"\"\"\n",
        "    Answer the user's question directly based on your knowledge.\n",
        "    Question: {question}\n",
        "    Answer:\"\"\"\n",
        "    response = query_openrouter(model, prompt)\n",
        "    return response\n",
        "\n",
        "# Сравнение метрик (функция уже определена ранее)\n",
        "# def evaluate_responses(true_answer, generated_answer): ...\n",
        "\n",
        "# Основной цикл: проверяем те же первые 10 вопросов для подхода без RAG\n",
        "results_without_rag = []\n",
        "\n",
        "for i, row in df_test.head(10).iterrows():\n",
        "    question = row[\"question\"]\n",
        "    true_answer = row[\"answer\"]\n",
        "\n",
        "    # Генерация ответа без RAG\n",
        "    response_without_rag = perform_without_rag(question)\n",
        "\n",
        "    # Оценка метрик\n",
        "    metrics_without_rag = evaluate_responses(true_answer, response_without_rag)\n",
        "    results_without_rag.append(metrics_without_rag)\n",
        "\n",
        "# Средние значения по метрикам для без RAG\n",
        "avg_metrics_without_rag = {metric: np.mean([res[metric] for res in results_without_rag]) for metric in results_without_rag[0].keys()}\n",
        "avg_metrics_without_rag[\"Vector Store\"] = \"Without RAG\"\n",
        "\n",
        "# Преобразование в строку DataFrame\n",
        "new_row = pd.DataFrame([avg_metrics_without_rag])\n",
        "\n",
        "# Добавление новой строки к существующему DataFrame\n",
        "final_df = pd.concat([final_df, new_row], ignore_index=True)\n",
        "\n",
        "# Упорядочивание столбцов\n",
        "cols = [\"Vector Store\"] + [col for col in final_df.columns if col != \"Vector Store\"]\n",
        "final_df = final_df[cols]\n",
        "\n",
        "# Вывод обновленного DataFrame\n",
        "print(final_df)\n"
      ],
      "metadata": {
        "colab": {
          "base_uri": "https://localhost:8080/"
        },
        "id": "JAlNI2Ylt40g",
        "outputId": "50bf0b49-ebf2-4e8c-b4e8-363efa23a7c6"
      },
      "execution_count": 7,
      "outputs": [
        {
          "output_type": "stream",
          "name": "stdout",
          "text": [
            "  Vector Store   ROUGE-1   ROUGE-2   ROUGE-L      BLEU    METEOR\n",
            "0        Faiss  0.174695  0.065575  0.148203  0.025629  0.155393\n",
            "1  Without RAG  0.265239  0.114615  0.204112  0.015117  0.208108\n"
          ]
        }
      ]
    },
    {
      "cell_type": "code",
      "source": [
        "import hnswlib\n",
        "\n",
        "# Создание индекса HNSWlib\n",
        "def create_hnsw_index(corpus, dim=768, space=\"l2\"):\n",
        "    vectorizer = TfidfVectorizer(stop_words=\"english\", max_features=dim)\n",
        "    vectors = vectorizer.fit_transform(corpus).toarray()\n",
        "\n",
        "    index = hnswlib.Index(space=space, dim=dim)\n",
        "    index.init_index(max_elements=len(vectors), ef_construction=200, M=16)\n",
        "    index.add_items(vectors)\n",
        "\n",
        "    return index, vectorizer\n",
        "\n",
        "hnsw_index, vectorizer = create_hnsw_index(df[\"passage\"])\n",
        "\n",
        "def retrieve_documents_hnsw(query, index, vectorizer, k=5):\n",
        "    query_vector = vectorizer.transform([query]).toarray()[0]\n",
        "    labels, _ = index.knn_query(query_vector, k=k)\n",
        "\n",
        "    # Приводим индексы к целым числам\n",
        "    labels = labels[0].astype(int)\n",
        "\n",
        "    # Проверяем, что df — это DataFrame и столбец \"passage\" существует\n",
        "    assert isinstance(df, pd.DataFrame), \"df должен быть pandas DataFrame\"\n",
        "    assert \"passage\" in df.columns, \"Столбец 'passage' не найден в DataFrame\"\n",
        "\n",
        "    # Извлекаем документы\n",
        "    return [df.iloc[i][\"passage\"] for i in labels]\n",
        "\n",
        "# RAG с HNSWlib\n",
        "def perform_rag_hnsw(question, index, vectorizer, model=\"deepseek/deepseek-chat\", k=5):\n",
        "    retrieved_docs = retrieve_documents_hnsw(question, index, vectorizer, k)\n",
        "    context = \" \".join(retrieved_docs)\n",
        "    prompt = f\"\"\"\n",
        "    Answer the user's question.\n",
        "    Use only the information from the context. If the context does not contain enough information to answer the question, let the user know.\n",
        "    Context: {context}\n",
        "    Question: {question}\n",
        "    Answer:\"\"\"\n",
        "    response = query_openrouter(model, prompt)\n",
        "    return response\n",
        "\n",
        "# Подготовка данных и расчет метрик для HNSWlib\n",
        "results_hnsw = []\n",
        "for i, row in df_test.head(10).iterrows():\n",
        "    question = row[\"question\"]\n",
        "    true_answer = row[\"answer\"]\n",
        "    response_with_rag_hnsw = perform_rag_hnsw(question, hnsw_index, vectorizer)\n",
        "    metrics_with_rag_hnsw = evaluate_responses(true_answer, response_with_rag_hnsw)\n",
        "    results_hnsw.append(metrics_with_rag_hnsw)\n",
        "\n",
        "# Усреднение метрик\n",
        "avg_metrics_hnsw = pd.DataFrame(results_hnsw).mean().to_dict()\n",
        "avg_metrics_hnsw[\"Vector Store\"] = \"HNSWlib\"\n",
        "\n",
        "# Добавление строки к существующему DataFrame\n",
        "new_row_hnsw = pd.DataFrame([avg_metrics_hnsw])\n",
        "final_df = pd.concat([final_df, new_row_hnsw], ignore_index=True)\n",
        "\n",
        "print(final_df)\n",
        "\n"
      ],
      "metadata": {
        "colab": {
          "base_uri": "https://localhost:8080/"
        },
        "id": "HWuy-Yhh1REK",
        "outputId": "9f060dad-a23e-4984-ecc4-b5f22fb00842"
      },
      "execution_count": 15,
      "outputs": [
        {
          "output_type": "stream",
          "name": "stdout",
          "text": [
            "  Vector Store   ROUGE-1   ROUGE-2   ROUGE-L      BLEU    METEOR\n",
            "0        Faiss  0.174695  0.065575  0.148203  0.025629  0.155393\n",
            "1  Without RAG  0.265239  0.114615  0.204112  0.015117  0.208108\n",
            "2      HNSWlib  0.193787  0.073192  0.168525  0.017429  0.174551\n"
          ]
        }
      ]
    }
  ]
}