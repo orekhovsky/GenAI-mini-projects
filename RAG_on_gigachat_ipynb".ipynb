{
  "nbformat": 4,
  "nbformat_minor": 0,
  "metadata": {
    "colab": {
      "provenance": [],
      "include_colab_link": true
    },
    "kernelspec": {
      "name": "python3",
      "display_name": "Python 3"
    },
    "language_info": {
      "name": "python"
    }
  },
  "cells": [
    {
      "cell_type": "markdown",
      "metadata": {
        "id": "view-in-github",
        "colab_type": "text"
      },
      "source": [
        "<a href=\"https://colab.research.google.com/github/orekhovsky/GenAI-mini-projects/blob/main/RAG_on_gigachat_ipynb%22.ipynb\" target=\"_parent\"><img src=\"https://colab.research.google.com/assets/colab-badge.svg\" alt=\"Open In Colab\"/></a>"
      ]
    },
    {
      "cell_type": "markdown",
      "source": [
        "# Без векторной бд"
      ],
      "metadata": {
        "id": "KYhuJURewcYd"
      }
    },
    {
      "cell_type": "code",
      "source": [
        "pip install gigachat, transformers, rouge-score"
      ],
      "metadata": {
        "id": "5s4wCOof18Uv"
      },
      "execution_count": null,
      "outputs": []
    },
    {
      "cell_type": "code",
      "source": [
        "pip install -U langchain-community"
      ],
      "metadata": {
        "id": "boONLerW1ugn"
      },
      "execution_count": null,
      "outputs": []
    },
    {
      "cell_type": "code",
      "source": [
        "import pandas as pd\n",
        "import ast\n",
        "from langchain.chat_models.gigachat import GigaChat\n",
        "from google.colab import userdata\n",
        "\n",
        "df = pd.read_parquet(\"hf://datasets/rag-datasets/rag-mini-bioasq/data/passages.parquet/part.0.parquet\")\n",
        "df_test = pd.read_parquet(\"hf://datasets/rag-datasets/rag-mini-bioasq/data/test.parquet/part.0.parquet\")\n",
        "\n",
        "# Преобразование чтобы правильно считать строку со списком релевантных id из корпуса текстов\n",
        "df_test['relevant_passage_ids'] = df_test['relevant_passage_ids'].apply(ast.literal_eval)\n",
        "\n",
        "# Функция для извленения чанков и формирования контекста для подачи в llm\n",
        "def perform_retrieval(question, df, df_test):\n",
        "\n",
        "    matching_rows = df_test[df_test['question'] == question]\n",
        "    if matching_rows.empty:\n",
        "        raise ValueError(f\"Question '{question}' not found in df_test.\")\n",
        "\n",
        "    question_index = matching_rows.index[0]\n",
        "\n",
        "    # Получение релевантных чанков из корпуса текстов\n",
        "    relevant_passage_ids = df_test.loc[question_index, 'relevant_passage_ids']\n",
        "    relevant_passages = [df.loc[i, 'passage'] for i in relevant_passage_ids]\n",
        "\n",
        "    # Формируем контекст\n",
        "    context = \" \".join(relevant_passages)\n",
        "\n",
        "    return context\n",
        "\n",
        "# Авторизация через токен\n",
        "auth = userdata.get('SBER_AUTH')\n",
        "\n",
        "# Инициализация модели GigaChat\n",
        "llm = GigaChat(\n",
        "    credentials=auth,\n",
        "    model='GigaChat:latest',\n",
        "    verify_ssl_certs=False,\n",
        "    profanity_check=False\n",
        ")\n",
        "\n",
        "# Пайплайн для RAG\n",
        "def perform_rag_pipeline(question, df, df_test, llm):\n",
        "    # Шаг 1: Извлекаем контекст из корпуса на основе вопроса\n",
        "    context = perform_retrieval(question, df, df_test)\n",
        "\n",
        "    # Шаг 2: Входные данные для модели\n",
        "    input_text = f\"\"\"\n",
        "    Answer the user's question.\n",
        "    Use only the information from the context. If the context does not contain enough information to answer the question, let the user know.\n",
        "    Context: {context}\n",
        "    Question: {question}\n",
        "    Answer:\"\"\"\n",
        "\n",
        "    # Шаг 3: Генерируем ответ\n",
        "    response = llm.predict(input_text)\n",
        "\n",
        "    return response\n",
        "\n",
        "# Пример вопроса\n",
        "q1 = 'Is Hirschsprung disease a mendelian or a multifactorial disorder?'\n",
        "\n",
        "response = perform_rag_pipeline(q1, df, df_test, llm)\n",
        "print(f\"Question: {q1}\")\n",
        "print(f\"Answer: {response}\")\n"
      ],
      "metadata": {
        "id": "unREgCIj_svb",
        "outputId": "ceb6d023-4171-4251-d3dd-1d750507a6ab",
        "colab": {
          "base_uri": "https://localhost:8080/"
        }
      },
      "execution_count": null,
      "outputs": [
        {
          "output_type": "stream",
          "name": "stdout",
          "text": [
            "Question: Is Hirschsprung disease a mendelian or a multifactorial disorder?\n",
            "Answer: Hirschsprung disease (HSCR) is considered a **multifactorial** disorder rather than a **mendelian** disorder. This means that it results from the combined effects of multiple genetic factors and environmental influences, rather than being caused by mutations in a single gene following a clear Mendelian inheritance pattern. \n",
            "\n",
            "While some specific genes play key roles, such as RET and other loci identified, the full range of phenotypic variability and incomplete penetrance observed in HSCR suggest that additional genetic and environmental factors influence the disease's manifestation.\n"
          ]
        }
      ]
    },
    {
      "cell_type": "code",
      "source": [
        "from rouge_score import rouge_scorer\n",
        "true_answer = df_test['answer'][0]\n",
        "\n",
        "scorer = rouge_scorer.RougeScorer(['rouge1', 'rouge2', 'rougeL'], use_stemmer=True)\n",
        "scores = scorer.score(true_answer, response)\n",
        "\n",
        "# Метрики (не очень, но по сути верно)\n",
        "print(\"ROUGE-1:\", scores['rouge1'])\n",
        "print(\"ROUGE-2:\", scores['rouge2'])\n",
        "print(\"ROUGE-L:\", scores['rougeL'])\n"
      ],
      "metadata": {
        "id": "TSrG5N_cASyM",
        "outputId": "56d653da-00b0-4799-9a15-329d1870a1ef",
        "colab": {
          "base_uri": "https://localhost:8080/"
        }
      },
      "execution_count": null,
      "outputs": [
        {
          "output_type": "stream",
          "name": "stdout",
          "text": [
            "ROUGE-1: Score(precision=0.26506024096385544, recall=0.36065573770491804, fmeasure=0.3055555555555556)\n",
            "ROUGE-2: Score(precision=0.06097560975609756, recall=0.08333333333333333, fmeasure=0.07042253521126761)\n",
            "ROUGE-L: Score(precision=0.10843373493975904, recall=0.14754098360655737, fmeasure=0.125)\n"
          ]
        }
      ]
    },
    {
      "cell_type": "code",
      "source": [
        "question = 'Is Hirschsprung disease a mendelian or a multifactorial disorder?'\n",
        "\n",
        "matching_rows = df_test[df_test['question'] == question]\n",
        "\n",
        "question_index = matching_rows.index[0]\n",
        "\n",
        "# Получение релевантных чанков из корпуса текстов\n",
        "relevant_passage_ids = df_test.loc[question_index, 'relevant_passage_ids']\n",
        "relevant_passages = [df.loc[i, 'passage'] for i in relevant_passage_ids]\n",
        "\n",
        "# Формируем контекст\n",
        "context = \" \".join(relevant_passages)"
      ],
      "metadata": {
        "id": "6eAwy8oSBkIB"
      },
      "execution_count": null,
      "outputs": []
    },
    {
      "cell_type": "code",
      "source": [
        "context"
      ],
      "metadata": {
        "id": "qYv0Z4khBuJA",
        "outputId": "c07e0bc9-be0f-4093-a857-28e1ed3c32ac",
        "colab": {
          "base_uri": "https://localhost:8080/",
          "height": 122
        }
      },
      "execution_count": null,
      "outputs": [
        {
          "output_type": "execute_result",
          "data": {
            "text/plain": [
              "'The major gene for Hirschsprung disease (HSCR) encodes the receptor tyrosine \\nkinase RET. In a study of 690 European- and 192 Chinese-descent probands and \\ntheir parents or controls, we demonstrate the ubiquity of a >4-fold \\nsusceptibility from a C-->T allele (rs2435357: p = 3.9 x 10(-43) in European \\nancestry; p = 1.1 x 10(-21) in Chinese samples) that probably arose once within \\nthe intronic RET enhancer MCS+9.7. With in vitro assays, we now show that the T \\nvariant disrupts a SOX10 binding site within MCS+9.7 that compromises RET \\ntransactivation. The T allele, with a control frequency of 20%-30%/47% and case \\nfrequency of 54%-62%/88% in European/Chinese-ancestry individuals, is involved \\nin all forms of HSCR. It is marginally associated with proband gender (p = 0.13) \\nand significantly so with length of aganglionosis (p = 7.6 x 10(-5)) and \\nfamiliality (p = 6.2 x 10(-4)). The enhancer variant is more frequent in the \\ncommon forms of male, short-segment, and simplex families whereas multiple, \\nrare, coding mutations are the norm in the less common and more severe forms of \\nfemale, long-segment, and multiplex families. The T variant also increases \\npenetrance in patients with rare RET coding mutations. Thus, both rare and \\ncommon mutations, individually and together, make contributions to the risk of \\nHSCR. The distribution of RET variants in diverse HSCR patients suggests a \\n\"cellular-recessive\" genetic model where both RET alleles\\' function is \\ncompromised. The RET allelic series, and its genotype-phenotype correlations, \\nshows that success in variant identification in complex disorders may strongly \\ndepend on which patients are studied. nan nan Hirschsprung\\'s disease is characterized by the absence of ganglion cells in the \\nmyenteric and submucosal plexuses of the gastrointestinal tract. Genetic \\ndissection was successful as nine genes and four loci for Hirschsprung\\'s disease \\nsusceptibility were identified. Different approaches were used to find these \\nloci such as classical linkage in large families, identity by descent mapping in \\nan inbred kindred, candidate gene approaches based on naturally occurring mutant \\nmice models, and finally the use of model-free linkage and association analyzes. \\nIn this study, we review the identification of genes and loci involved in the \\nnon-syndromic common form and syndromic Mendelian forms of Hirschsprung\\'s \\ndisease. The majority of the identified genes are related to Mendelian syndromic \\nforms of Hirschsprung\\'s disease. The non-Mendelian inheritance of sporadic \\nnon-syndromic Hirschsprung\\'s disease proved to be complex; involvement of \\nmultiple loci was demonstrated in a multiplicative model. We discuss the \\npractical implications of the elucidation of genes associated with \\nHirschsprung\\'s disease susceptibility for genetic counseling. Finally, we \\nspeculate on possible strategies to identify new genes for Hirschsprung\\'s \\ndisease. Hirschsprung\\'s disease (HSCR) is a fairly frequent cause of intestinal \\nobstruction in children. It is characterized as a sex-linked heterogonous \\ndisorder with variable severity and incomplete penetrance giving rise to a \\nvariable pattern of inheritance. Although Hirschsprung\\'s disease occurs as an \\nisolated phenotype in at least 70% of cases, it is not infrequently associated \\nwith a number of congenital abnormalities and associated syndromes, \\ndemonstrating a spectrum of congenital anomalies. Certain of these syndromic \\nphenotypes have been linked to distinct genetic sites, indicating underlying \\ngenetic associations of the disease and probable gene-gene interaction, in its \\npathogenesis. These associations with HSCR include Down\\'s syndrome and other \\nchromosomal anomalies, Waardenburg syndrome and other Dominant sensorineural \\ndeafness, the Congenital Central Hypoventilation and Mowat-Wilson and other \\nbrain-related syndromes, as well as the MEN2 and other tumour associations. A \\nnumber of other autosomal recessive syndromes include the Shah-Waardenburg, the \\nBardet-Biedl and Cartilage-hair hypoplasia, Goldberg-Shprintzen syndromes and \\nother syndromes related to cholesterol and fat metabolism among others. The \\ngenetics of Hirschsprung\\'s disease are highly complex with the majority of known \\ngenetic sites relating to the main susceptibility pathways (RET an EDNRB). \\nNon-syndromic non-familial, short-segment HSCR appears to represent a \\nnon-Mendelian condition with variable expression and sex-dependent penetrance. \\nSyndromic and familial forms, on the other hand, have complex patterns of \\ninheritance and being reported as autosomal dominant, recessive and polygenic \\npatterns of inheritance. The phenotypic variability and incomplete penetrance \\nobserved in Hirschsprung\\'s disease could also be explained by the involvement of \\nmodifier genes, especially in its syndromic forms. In this review, we look at \\nthe chromosomal and Mendelian associations and their underlying signalling \\npathways, to obtain a better understanding of the pathogenetic mechanisms \\ninvolved in developing aganglionosis of the distal bowel. nan nan Hirschsprung disease (HSCR), or congenital intestinal aganglionosis, is a common \\nhereditary disorder causing intestinal obstruction, thereby showing considerable \\nphenotypic variation in conjunction with complex inheritance. Moreover, \\nphenotypic assessment of the disease has been complicated since a subset of the \\nobserved mutations is also associated with several additional syndromic \\nanomalies. Coding sequence mutations in e.g. RET, GDNF, EDNRB, EDN3, and SOX10 \\nlead to long-segment (L-HSCR) as well as syndromic HSCR but fail to explain the \\ntransmission of the much more common short-segment form (S-HSCR). Furthermore, \\nmutations in the RET gene are responsible for approximately half of the familial \\nand some sporadic cases, strongly suggesting, on the one hand, the importance of \\nnon-coding variations and, on the other hand, that additional genes involved in \\nthe development of the enteric nervous system still await their discovery. For \\nalmost all of the identified HSCR genes incomplete penetrance of the HSCR \\nphenotype has been reported, probably due to modifier loci. Therefore, HSCR has \\nbecome a model for a complex oligo-/polygenic disorder in which the relationship \\nbetween different genes creating a non-mendelian inheritance pattern still \\nremains to be elucidated. nan'"
            ],
            "application/vnd.google.colaboratory.intrinsic+json": {
              "type": "string"
            }
          },
          "metadata": {},
          "execution_count": 38
        }
      ]
    },
    {
      "cell_type": "markdown",
      "source": [
        "Если сравнить с gpt-4o-mini"
      ],
      "metadata": {
        "id": "V74oER7NC5CV"
      }
    },
    {
      "cell_type": "code",
      "source": [
        "response =\"Hirschsprung disease (HSCR) is a complex disorder with both Mendelian and multifactorial aspects. While some forms of the disease, particularly the syndromic and familial types, follow Mendelian inheritance patterns (autosomal dominant, recessive, and polygenic), the more common non-syndromic forms exhibit non-Mendelian inheritance with variable expression and incomplete penetrance. Genetic studies suggest that multiple loci and genetic interactions contribute to the disease, making it a multifactorial disorder.\""
      ],
      "metadata": {
        "id": "9BB6KF6rCN28"
      },
      "execution_count": null,
      "outputs": []
    },
    {
      "cell_type": "code",
      "source": [
        "from rouge_score import rouge_scorer\n",
        "true_answer = df_test['answer'][0]\n",
        "\n",
        "scorer = rouge_scorer.RougeScorer(['rouge1', 'rouge2', 'rougeL'], use_stemmer=True)\n",
        "scores = scorer.score(true_answer, response)\n",
        "\n",
        "# Метрики (не очень, но по сути верно)\n",
        "print(\"ROUGE-1:\", scores['rouge1'])\n",
        "print(\"ROUGE-2:\", scores['rouge2'])\n",
        "print(\"ROUGE-L:\", scores['rougeL'])"
      ],
      "metadata": {
        "id": "l_Gnw7wRCdtj",
        "outputId": "0c9e5c57-50fa-44dc-cc21-409dec596aaa",
        "colab": {
          "base_uri": "https://localhost:8080/"
        }
      },
      "execution_count": null,
      "outputs": [
        {
          "output_type": "stream",
          "name": "stdout",
          "text": [
            "ROUGE-1: Score(precision=0.3235294117647059, recall=0.36065573770491804, fmeasure=0.3410852713178295)\n",
            "ROUGE-2: Score(precision=0.1044776119402985, recall=0.11666666666666667, fmeasure=0.11023622047244094)\n",
            "ROUGE-L: Score(precision=0.20588235294117646, recall=0.22950819672131148, fmeasure=0.2170542635658915)\n"
          ]
        }
      ]
    }
  ]
}